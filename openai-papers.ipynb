{
 "cells": [
  {
   "cell_type": "markdown",
   "id": "8cd38afc-a629-4289-a3ce-9ced2a043119",
   "metadata": {},
   "source": [
    "# Augmenting OpenAI with Specialized Research Papers\n",
    "\n",
    "ChatGPT has a limit of 4096 tokens. Many papers are too long to feed the entire text to ChatGPT; and each token has an associated cost when using OpenAI.\n",
    "\n",
    "This notebook does the following:\n",
    "* Task 1: breaks the text from or more papers into smaller chunks; creates vector embeddings for each chunk; and stores the text and vector indices in an online database (and saves to a local json file)\n",
    "* Task 2: conducts queries, such as a similarity search, between a user input text/question and the database to find related chunks of text\n",
    "* Task 3: passes the related chunks of text to ChatGPT to augment its knowledge and to use this information in user-interactions via natural language chat\n",
    "\n",
    "There are probably fancier and exponentially increasing number of ways to do this. This is a fairly straightforward presentation of the steps to augment ChatGPT with specialized knowledge.\n",
    "\n",
    "Sarah T. Stewart<br>\n",
    "April 9, 2023\n"
   ]
  },
  {
   "cell_type": "markdown",
   "id": "c136d464-22c5-455b-904f-95974f6d0b88",
   "metadata": {},
   "source": [
    "## 1. Prepare accounts and python environment\n",
    "\n",
    "### Make an OpenAI account\n",
    "You need an OpenAI API key. Go to https://platform.openai.com and make an account and generate an API key. \n",
    "\n",
    "OpenAI charges by the token for each API transaction.\n",
    "\n",
    "If you have a new account, you will have a small starting balance. When you spend it all, you will need to set up billing to continue to use it. (or set up another account.....)\n",
    "\n",
    "Documentation for how to query the API: https://platform.openai.com/docs/api-reference\n",
    "\n",
    "This notebook uses OpenAI to generate indices for vector embeddings of the source text (task 1) and to generate indices for vector embeddings of questions or sample text to match to the source text.\n",
    "\n",
    "Currently, ChatGPT-3.5 has a limit of 4096 tokens in any query (this includes history for conversations), so the papers need to be broken into smaller chunks to be able to pass small amounts (<4096 tokens) at a time to augment ChatGPT's knowledge base.\n",
    "\n",
    "### Make a Pinecone account to store your vector database\n",
    "You will need to store the text and embedding indices in a database for search and queries. There are multiple options. I am using https://pinecone.io. A free account will let you create one index database.\n",
    "\n",
    "Create an index (this is going to hold your database):\n",
    "* Give your index a name\n",
    "* metric = cosine # simplest way to find matching text using vector embedding indices\n",
    "* Pod Type = p1 # optimized for speed\n",
    "* Dimensions = 1536 # this matches the OpenAI model 'text-embedding-ada-002'\n",
    "\n",
    "Docs are here: https://docs.pinecone.io/docs/overview\n",
    "\n",
    "This notebook uses pinecone functions to conduct a similarity search (task 2). The index holds all of the indices from task 1, the corresponding source text, and other metadata. The similarity search finds chunks of text in the database that have a high match to your search query text.\n",
    "\n",
    "Description of a vector database: https://www.pinecone.io/learn/vector-database/\n",
    "\n",
    "### Create a ~/.env file\n",
    "Store the following information in your .env file:\n",
    "```\n",
    "export OPENAI_API_KEY='long-string'\n",
    "export PINECONE_API_KEY='long-string'\n",
    "# The environment will be randomly assigned by pinecone; look in your index settings for 'environment'\n",
    "export PINECONE_API_ENV='us-east4-gcp' \n",
    "```\n",
    "\n",
    "### Langchain and Tiktoken\n",
    "This notebook uses langchain, a very new python package that is only available on pip. It has the ability to chain together content to provide context or to pass information between tasks. It may or may not survive the GPT user package wars. Others will have similar capabilities.\n",
    "\n",
    "Langchain is used to form reasonable chunks of text from the original papers. Tiktoken is a package to turn the original text into tokens. OpenAI uses tokens as the unit of text.\n",
    "\n",
    "Docs are here https://python.langchain.com/\n"
   ]
  },
  {
   "cell_type": "code",
   "execution_count": 1,
   "id": "f2a9e723-d431-4899-a41f-e3d6c5f3bea0",
   "metadata": {},
   "outputs": [],
   "source": [
    "# some pages that inspired this notebook\n",
    "# https://www.mlq.ai/gpt-3-enabled-research-assistant-langchain-pinecone/\n",
    "# https://github.com/pinecone-io/examples/blob/master/analytics-and-ml/data-mining/sentiment-analysis/sentiment-analysis.ipynb\n",
    "# https://betterprogramming.pub/openais-embedding-model-with-vector-database-b69014f04433\n",
    "#\n",
    "# for this notebook, create a python environment with these packages\n",
    "# note: langchain not available on conda at this time, and I use conda so I have an ugly mixed environment\n",
    "# conda create -n langchain python=3.9\n",
    "# conda install -c conda-forge python-dotenv\n",
    "# conda install -c conda-forge jupyterlab\n",
    "# conda install -c anaconda ipywidgets\n",
    "# pip install langchain\n",
    "# pip install unstructured\n",
    "# pip install 'unstructured[local-inference]'\n",
    "# pip install pinecone-client\n",
    "# pip install openai\n",
    "# pip install tiktoken"
   ]
  },
  {
   "cell_type": "code",
   "execution_count": 35,
   "id": "cdbfab0c-ba9b-4cde-bdbd-c224022deceb",
   "metadata": {},
   "outputs": [],
   "source": [
    "# Load python packages\n",
    "# to load .env file\n",
    "import os\n",
    "from dotenv import load_dotenv\n",
    "# langchain packages to work with the text\n",
    "from langchain.document_loaders import UnstructuredPDFLoader, OnlinePDFLoader, TextLoader\n",
    "from langchain.text_splitter import RecursiveCharacterTextSplitter\n",
    "# package to turn text into tokens\n",
    "import tiktoken\n",
    "# openai for creating vector embeddings\n",
    "import openai\n",
    "# pinecone database client\n",
    "import pinecone\n",
    "# this is a status bar; used in a lot of examples from langchain; needs to load twice for some reason\n",
    "# from tqdm.autonotebook import tqdm\n",
    "# langchain packages to work with vector embeddings\n",
    "from langchain.vectorstores import Pinecone\n",
    "from langchain.embeddings.openai import OpenAIEmbeddings\n",
    "# pickle used to save vector embeddings for a single paper\n",
    "import pickle\n",
    "# check if file exists\n",
    "from os.path import exists\n",
    "from copy import deepcopy\n",
    "# for conversations with ChatGPT\n",
    "from langchain import OpenAI, ConversationChain"
   ]
  },
  {
   "cell_type": "code",
   "execution_count": null,
   "id": "336c2ca5-cd5e-4d34-a70c-e917936ea863",
   "metadata": {},
   "outputs": [],
   "source": []
  },
  {
   "cell_type": "code",
   "execution_count": 5,
   "id": "efad3380-0254-479d-9353-46c0ae665349",
   "metadata": {},
   "outputs": [],
   "source": [
    "# Load your API keys from ~/.env file\n",
    "# protect your personal keys because others could spend your $ or corrupt your database\n",
    "load_dotenv()\n",
    "#print(os.environ) # for you see what is there; don't share your API keys\n",
    "OPENAI_API_KEY = os.environ['OPENAI_API_KEY']\n",
    "PINECONE_API_KEY = os.environ['PINECONE_API_KEY']\n",
    "PINECONE_API_ENV = os.environ['PINECONE_API_ENV']\n"
   ]
  },
  {
   "cell_type": "markdown",
   "id": "8fa7f024-86ea-4582-a6db-5ff6a69ef2ad",
   "metadata": {},
   "source": [
    "## Choose OpenAI model\n",
    "\n",
    "The world is changing fast and the model will change tomorrow. Today, the model named 'text-embedding-ada-002' is recommended for calculating vector embeddings of a text.\n",
    "\n",
    "See https://platform.openai.com/docs/guides/embeddings/what-are-embeddings\n",
    "```\n",
    "MODEL NAME              TOKENIZER    MAX INPUT TOKENS  OUTPUT DIMENSIONS\n",
    "text-embedding-ada-002  cl100k_base  8191              1536\n",
    "```\n",
    "\n",
    "Tiktoken needs this information. When you set up the pinecone index. The output dimensions of this model need to match the index. You need a different index if you are making different databases with different dimensions.\n",
    "\n",
    "The chunk size determines the length of text (in units of tokens) that is stored in each entry of the pinecone database. We will try to split the text intelligently, but sometimes sentences are broken in the middle, so the overlap value provides some protection for poor token splits.\n",
    "\n",
    "In the tiktoken cell below, the command\n",
    "```\n",
    "separators=['\\n\\n', '\\n', ' ', '']\n",
    "```\n",
    "first tries to split the text at two new lines, then one new line, then spaces, then anywhere to chunk the source text into manageable lengths."
   ]
  },
  {
   "cell_type": "code",
   "execution_count": 6,
   "id": "2f74070b-fa52-4473-9244-5203f6ab899d",
   "metadata": {},
   "outputs": [],
   "source": [
    "OPENAI_MODEL = 'text-embedding-ada-002'\n",
    "OPENAI_ENCODING = 'cl100k_base'\n",
    "OPENAI_CHUNKSIZE = 800\n",
    "OPENAI_CHUNKOVERLAP = 30"
   ]
  },
  {
   "cell_type": "markdown",
   "id": "cc92d571-0bb9-4d4c-b517-b9d61b044381",
   "metadata": {},
   "source": [
    "## Set up Tiktoken "
   ]
  },
  {
   "cell_type": "code",
   "execution_count": 7,
   "id": "f2dd6967-2747-461b-909e-d286bf698efa",
   "metadata": {},
   "outputs": [],
   "source": [
    "# ref\n",
    "# https://github.com/pinecone-io/examples/blob/master/generation/langchain/handbook/xx-langchain-chunking.ipynb\n",
    "\n",
    "# decide how to chunk the source text\n",
    "# the currently preferred encoding is 'text-embedding-ada-002'\n",
    "tokenizer = tiktoken.get_encoding(OPENAI_ENCODING)\n",
    "tiktoken.encoding_for_model(OPENAI_MODEL)\n",
    "\n",
    "# create the length function\n",
    "def tiktoken_len(text):\n",
    "    tokens = tokenizer.encode(\n",
    "        text,\n",
    "        disallowed_special=()\n",
    "    )\n",
    "    return len(tokens)\n",
    "\n",
    "# make a function to split your text into chunks that fit the OpenAI model\n",
    "# RecursiveCharacterTextSplitter is a langchain function\n",
    "text_splitter = RecursiveCharacterTextSplitter(\n",
    "    chunk_size=OPENAI_CHUNKSIZE, \n",
    "    chunk_overlap=OPENAI_CHUNKOVERLAP,\n",
    "    length_function=tiktoken_len,\n",
    "    separators=['\\n\\n', '\\n', ' ', '']) \n"
   ]
  },
  {
   "cell_type": "markdown",
   "id": "5166d759",
   "metadata": {},
   "source": [
    "## Prepare your data = research papers\n",
    "\n",
    "You want to provide specialized information ChatGPT to be able to use its natural language processing capabilities in a specific area.\n",
    "\n",
    "To augment ChatGPT's knowledge, you need to provide high quality source material. The source material needs to be plain text; e.g., what you can type into the web interface. Although here, we will use python commands to pass the text around.\n",
    "\n",
    "Unfortunately, high quality plain text can require some effort.\n",
    "\n",
    "You have options:\n",
    "* Use one of various PDF readers to scrape the file for plain text. This will be a mixed bag depending on the complexity of your source.\n",
    "    * You can use a PDF editor to delete extraneous items in the PDF file. The problem here is that PDF does not necessary group words on a page in sentence order, so the language processing can be corrupted. \n",
    "* Use a manuscript version of the paper with minimal extraneous things in the file. Again, remove extraneous material.\n",
    "* Use the html version of the paper to gather plain text. This is what I did for recent papers.\n",
    "    * Go to the publisher web site html version\n",
    "    * I used 'Reader view' plug-in in my browser to remove all the extraneous material from the web page\n",
    "    * I cut and pasted this text into a plain text document.\n",
    "    * I removed the figure and references (references are not natural language).\n",
    "    * Save the plain text document with utf8 encoding."
   ]
  },
  {
   "cell_type": "markdown",
   "id": "fea87cbd-b8d8-4d87-8621-53d63f1c57c2",
   "metadata": {},
   "source": [
    "## Put one paper into the pinecone database\n",
    "\n",
    "### A. Open your connections to the pinecone database and openai\n",
    "My index is called 'papers'.\n"
   ]
  },
  {
   "cell_type": "code",
   "execution_count": 8,
   "id": "0595fc6f-f647-4c3d-b841-24e043a4fa03",
   "metadata": {},
   "outputs": [
    {
     "data": {
      "text/plain": [
       "['papers']"
      ]
     },
     "execution_count": 8,
     "metadata": {},
     "output_type": "execute_result"
    }
   ],
   "source": [
    "# initialize pinecone\n",
    "pinecone.init(\n",
    "    api_key=PINECONE_API_KEY,  # find at app.pinecone.io\n",
    "    environment=PINECONE_API_ENV  # next to api key in console\n",
    ")\n",
    "active_indexes = pinecone.list_indexes()\n",
    "list(active_indexes)"
   ]
  },
  {
   "cell_type": "code",
   "execution_count": 9,
   "id": "52f8d4ac-8e30-4429-93a1-9275c40516c3",
   "metadata": {},
   "outputs": [],
   "source": [
    "# set this to your pinecone index name\n",
    "INDEX_NAME = 'papers'\n",
    "# select the pinecone index to use\n",
    "index = pinecone.Index(INDEX_NAME)"
   ]
  },
  {
   "cell_type": "code",
   "execution_count": 10,
   "id": "5c539406-552e-4bd9-80d4-291130ce81ee",
   "metadata": {},
   "outputs": [],
   "source": [
    "embeddings = OpenAIEmbeddings(openai_api_key=OPENAI_API_KEY)\n"
   ]
  },
  {
   "cell_type": "markdown",
   "id": "703fe7cd-4d74-47ad-bf02-c803a5c5ff2b",
   "metadata": {},
   "source": [
    "### B. read in the text; using bibtext for metadata"
   ]
  },
  {
   "cell_type": "code",
   "execution_count": 11,
   "id": "68d3f8b5-d87b-48e2-be2c-aa33860a5aca",
   "metadata": {},
   "outputs": [],
   "source": [
    "pathtopapers = './papers/'\n",
    "# loader = OnlinePDFLoader(\"https://--full-path--.pdf\")\n",
    "# loader = UnstructuredPDFLoader(\"./papers/Lock2018.pdf\")\n",
    "loader = TextLoader(pathtopapers+'Lock2018.txt')\n",
    "\n",
    "# remember the parameters used for the vector database in this metadata\n",
    "paper_meta = [{\n",
    "    'key' : 'Lock2018',\n",
    "    'doi' : '10.1002/2017JE005333',\n",
    "    'bibtex' : \"@article{Lock2018,\\\n",
    "        author = {Lock, Simon J. and Stewart, Sarah T. and Petaev, Michail I. and Leinhardt, Zo{\\\"{e}} and Mace, Mia T. and Jacobsen, Stein B. and Cuk, Matija},\\\n",
    "        doi = {10.1002/2017JE005333},\\\n",
    "        journal = {Journal of Geophysical Research: Planets},\\\n",
    "        keywords = {angular momentum,giant impact,isotopic equilibration,lunar accretion,lunar chemistry,volatile elements},\\\n",
    "        month = {apr},\\\n",
    "        number = {4},\\\n",
    "        pages = {910--951},\\\n",
    "        title = {{The Origin of the Moon Within a Terrestrial Synestia}},\\\n",
    "        volume = {123},\\\n",
    "        year = {2018}\\\n",
    "        }\",\\\n",
    "    'openai_model' : OPENAI_MODEL,\\\n",
    "    'openai_encoding' : OPENAI_ENCODING,\\\n",
    "    'openai_chunksize' : str(OPENAI_CHUNKSIZE),\\\n",
    "    'openai_chunkoverlap' : str(OPENAI_CHUNKOVERLAP),\\\n",
    "    'text' : 'text'\n",
    "    }]\n",
    "          "
   ]
  },
  {
   "cell_type": "code",
   "execution_count": 12,
   "id": "63005c21-43f6-4c86-b8e9-b6491897c7ea",
   "metadata": {},
   "outputs": [
    {
     "data": {
      "text/plain": [
       "{'key': 'Lock2018',\n",
       " 'doi': '10.1002/2017JE005333',\n",
       " 'bibtex': '@article{Lock2018,        author = {Lock, Simon J. and Stewart, Sarah T. and Petaev, Michail I. and Leinhardt, Zo{\"{e}} and Mace, Mia T. and Jacobsen, Stein B. and Cuk, Matija},        doi = {10.1002/2017JE005333},        journal = {Journal of Geophysical Research: Planets},        keywords = {angular momentum,giant impact,isotopic equilibration,lunar accretion,lunar chemistry,volatile elements},        month = {apr},        number = {4},        pages = {910--951},        title = {{The Origin of the Moon Within a Terrestrial Synestia}},        volume = {123},        year = {2018}        }',\n",
       " 'openai_model': 'text-embedding-ada-002',\n",
       " 'openai_encoding': 'cl100k_base',\n",
       " 'openai_chunksize': '800',\n",
       " 'openai_chunkoverlap': '30',\n",
       " 'text': 'text'}"
      ]
     },
     "execution_count": 12,
     "metadata": {},
     "output_type": "execute_result"
    }
   ],
   "source": [
    "paper_meta[0]"
   ]
  },
  {
   "cell_type": "code",
   "execution_count": 13,
   "id": "bcdac23c",
   "metadata": {},
   "outputs": [
    {
     "name": "stdout",
     "output_type": "stream",
     "text": [
      "You have 1 document(s) in your data\n",
      "There are 156440 characters in your document\n"
     ]
    }
   ],
   "source": [
    "data = loader.load() # this is a langchain document object\n",
    "print (f'You have {len(data)} document(s) in your data')\n",
    "print (f'There are {len(data[0].page_content)} characters in your document')"
   ]
  },
  {
   "cell_type": "code",
   "execution_count": 14,
   "id": "e55c6b44-8d5f-4487-8091-3fa375ca528b",
   "metadata": {},
   "outputs": [],
   "source": [
    "# uncomment to see the document\n",
    "# data\n",
    "# the text is in\n",
    "# data[0].page_content\n",
    "# metadata is the file name and path\n",
    "# data[0].metadata"
   ]
  },
  {
   "cell_type": "markdown",
   "id": "8af9b604",
   "metadata": {},
   "source": [
    "### C. Chunk your data up into smaller documents"
   ]
  },
  {
   "cell_type": "code",
   "execution_count": 15,
   "id": "fb3c6f02",
   "metadata": {},
   "outputs": [
    {
     "name": "stdout",
     "output_type": "stream",
     "text": [
      "Now you have 59 documents\n"
     ]
    }
   ],
   "source": [
    "texts = text_splitter.split_documents(data)\n",
    "print (f'Now you have {len(texts)} documents')"
   ]
  },
  {
   "cell_type": "code",
   "execution_count": 16,
   "id": "8d70aacc-4d87-4630-8076-83aaabfd8723",
   "metadata": {},
   "outputs": [
    {
     "data": {
      "text/plain": [
       "Document(page_content=\"Title\\nThe Origin of the Moon Within a Terrestrial Synestia\\nAuthors\\nSimon J. Lock and Sarah T. Stewart\\nAbstract\\nThe giant impact hypothesis remains the leading theory for lunar origin. However, current models struggle to explain the Moon's composition and isotopic similarity with Earth. Here we present a new lunar origin model. High-energy, high-angular-momentum giant impacts can create a post-impact structure that exceeds the corotation limit, which defines the hottest thermal state and angular momentum possible for a corotating body. In a typical super-corotation-limit body, traditional definitions of mantle, atmosphere, and disk are not appropriate, and the body forms a new type of planetary structure, named a synestia. Using simulations of cooling synestias combined with dynamic, thermodynamic, and geochemical calculations, we show that satellite formation from a synestia can produce the main features of our Moon. We find that cooling drives mixing of the structure, and condensation generates moonlets that orbit within the synestia, surrounded by tens of bars of bulk silicate Earth vapor. The moonlets and growing moon are heated by the vapor until the first major element (Si) begins to vaporize and buffer the temperature. Moonlets equilibrate with bulk silicate Earth vapor at the temperature of silicate vaporization and the pressure of the structure, establishing the lunar isotopic composition and pattern of moderately volatile elements. Eventually, the cooling synestia recedes within the lunar orbit, terminating the main stage of lunar accretion. Our model shifts the paradigm for lunar origin from specifying a certain impact scenario to achieving a Moon-forming synestia. Giant impacts that produce potential Moon-forming synestias were common at the end of terrestrial planet formation.\\n\\nKey Points\\n* New model for lunar origin within an impact-generated synestia could explain the lunar composition\\n* Synestias are highly pressure supported and have different dynamics than condensate-dominated disks\\n* Moon equilibrates with bulk silicate Earth vapor at tens of bars and a temperature buffered by silicate vaporization\\nPlain Language Summary\\nThe favored theory for lunar origin is that a Mars-sized body hit the proto-Earth and injected a disk of material into orbit, out of which the Moon formed. In the traditional Giant Impact Model the Moon forms primarily from the body that hit Earth and is chemically different from Earth. However, Earth and the Moon are observed to be very similar, bringing the traditional model into question. We present a new model that explains the isotopic and chemical compositions of the Moon. In this model, a giant impact, that is more energetic than in the traditional model, drives the Earth into a fast-spinning, vaporized state that extends for tens of thousands of kilometers. Such planetary states are called synestias. As the synestia cools, material condenses and forms the Moon. Here we present physical and chemical models of the cooling synestia and predict the pressure and temperature history of the material that forms the Moon. We find that the Moon forms within the synestia, surrounded by Earth-composition vapor at pressures of tens of bars. The Moon orbits within the synestia long enough to chemically equilibrate with the vaporized Earth. Our calculations predict the chemical similarities between Earth and the Moon.\", metadata={'source': './papers/Lock2018.txt'})"
      ]
     },
     "execution_count": 16,
     "metadata": {},
     "output_type": "execute_result"
    }
   ],
   "source": [
    "# look at the first chunk\n",
    "texts[0]"
   ]
  },
  {
   "cell_type": "markdown",
   "id": "3f5bb777-ddd2-486c-9011-50ae660bf4db",
   "metadata": {},
   "source": [
    "### D. Create and save vector embeddings for each chunk\n",
    "\n",
    "This step costs $ by using OpenAI. Using the pinecone function that calls OpenAI to create vector embeddings.\n",
    "\n",
    "The database entry is uploaded with the pinecone upsert function:\n",
    "```\n",
    "to_upsert = zip(idlist, embedslist, metalist)\n",
    "# upsert to Pinecone\n",
    "index.upsert(vectors=list(to_upsert))\n",
    "```\n",
    "\n",
    "Each vector has the format\n",
    "```\n",
    "[id, indices, metadata]\n",
    "```\n",
    "\n",
    "You can batch upload database entries, so all the chunks from a paper can be uploaded at once."
   ]
  },
  {
   "cell_type": "code",
   "execution_count": 17,
   "id": "738634ef-8c5a-49d8-bbbe-7bb70bf2d3a3",
   "metadata": {},
   "outputs": [],
   "source": [
    "# first create big lists of the components to pass to pinecone\n",
    "\n",
    "# format id numbers as paper number.chunk number\n",
    "# this is for convenience to find paper chunks in the pinecone web browser interface later\n",
    "# also include the text content in the metadata\n",
    "paperno = 1\n",
    "idlist = []\n",
    "contentlist = []\n",
    "metalist = []\n",
    "for i in range(len(texts)):\n",
    "    idlist.append(str(paperno)+'.'+str(i))\n",
    "    contentlist.append(texts[i].page_content)\n",
    "    # put the source text for this chunk in the metadata\n",
    "    # print(i,texts[i].page_content[0:10])\n",
    "    paper_meta[0]['text']=''+texts[i].page_content[:]\n",
    "    temp = deepcopy(paper_meta[0]) # otherwise all the metadata points to the last text chunk\n",
    "    metalist.append(temp) "
   ]
  },
  {
   "cell_type": "code",
   "execution_count": 18,
   "id": "407dd005-7214-4507-b333-7cd80a7cbc47",
   "metadata": {},
   "outputs": [
    {
     "data": {
      "text/plain": [
       "{'key': 'Lock2018',\n",
       " 'doi': '10.1002/2017JE005333',\n",
       " 'bibtex': '@article{Lock2018,        author = {Lock, Simon J. and Stewart, Sarah T. and Petaev, Michail I. and Leinhardt, Zo{\"{e}} and Mace, Mia T. and Jacobsen, Stein B. and Cuk, Matija},        doi = {10.1002/2017JE005333},        journal = {Journal of Geophysical Research: Planets},        keywords = {angular momentum,giant impact,isotopic equilibration,lunar accretion,lunar chemistry,volatile elements},        month = {apr},        number = {4},        pages = {910--951},        title = {{The Origin of the Moon Within a Terrestrial Synestia}},        volume = {123},        year = {2018}        }',\n",
       " 'openai_model': 'text-embedding-ada-002',\n",
       " 'openai_encoding': 'cl100k_base',\n",
       " 'openai_chunksize': '800',\n",
       " 'openai_chunkoverlap': '30',\n",
       " 'text': \"Title\\nThe Origin of the Moon Within a Terrestrial Synestia\\nAuthors\\nSimon J. Lock and Sarah T. Stewart\\nAbstract\\nThe giant impact hypothesis remains the leading theory for lunar origin. However, current models struggle to explain the Moon's composition and isotopic similarity with Earth. Here we present a new lunar origin model. High-energy, high-angular-momentum giant impacts can create a post-impact structure that exceeds the corotation limit, which defines the hottest thermal state and angular momentum possible for a corotating body. In a typical super-corotation-limit body, traditional definitions of mantle, atmosphere, and disk are not appropriate, and the body forms a new type of planetary structure, named a synestia. Using simulations of cooling synestias combined with dynamic, thermodynamic, and geochemical calculations, we show that satellite formation from a synestia can produce the main features of our Moon. We find that cooling drives mixing of the structure, and condensation generates moonlets that orbit within the synestia, surrounded by tens of bars of bulk silicate Earth vapor. The moonlets and growing moon are heated by the vapor until the first major element (Si) begins to vaporize and buffer the temperature. Moonlets equilibrate with bulk silicate Earth vapor at the temperature of silicate vaporization and the pressure of the structure, establishing the lunar isotopic composition and pattern of moderately volatile elements. Eventually, the cooling synestia recedes within the lunar orbit, terminating the main stage of lunar accretion. Our model shifts the paradigm for lunar origin from specifying a certain impact scenario to achieving a Moon-forming synestia. Giant impacts that produce potential Moon-forming synestias were common at the end of terrestrial planet formation.\\n\\nKey Points\\n* New model for lunar origin within an impact-generated synestia could explain the lunar composition\\n* Synestias are highly pressure supported and have different dynamics than condensate-dominated disks\\n* Moon equilibrates with bulk silicate Earth vapor at tens of bars and a temperature buffered by silicate vaporization\\nPlain Language Summary\\nThe favored theory for lunar origin is that a Mars-sized body hit the proto-Earth and injected a disk of material into orbit, out of which the Moon formed. In the traditional Giant Impact Model the Moon forms primarily from the body that hit Earth and is chemically different from Earth. However, Earth and the Moon are observed to be very similar, bringing the traditional model into question. We present a new model that explains the isotopic and chemical compositions of the Moon. In this model, a giant impact, that is more energetic than in the traditional model, drives the Earth into a fast-spinning, vaporized state that extends for tens of thousands of kilometers. Such planetary states are called synestias. As the synestia cools, material condenses and forms the Moon. Here we present physical and chemical models of the cooling synestia and predict the pressure and temperature history of the material that forms the Moon. We find that the Moon forms within the synestia, surrounded by Earth-composition vapor at pressures of tens of bars. The Moon orbits within the synestia long enough to chemically equilibrate with the vaporized Earth. Our calculations predict the chemical similarities between Earth and the Moon.\"}"
      ]
     },
     "execution_count": 18,
     "metadata": {},
     "output_type": "execute_result"
    }
   ],
   "source": [
    "# check the metalist to make sure the chunks are copied correctly into the list\n",
    "metalist[0]"
   ]
  },
  {
   "cell_type": "code",
   "execution_count": 19,
   "id": "68c34cb6-0475-4c81-982e-78471a598226",
   "metadata": {},
   "outputs": [
    {
     "name": "stdout",
     "output_type": "stream",
     "text": [
      "Loaded previously saved embeddings:  ./papers/Lock2018.pickle\n"
     ]
    }
   ],
   "source": [
    "# file to save/load openai embeddings for this paper\n",
    "openai_file = pathtopapers+paper_meta[0]['key']+'.pickle'\n",
    "\n",
    "# check if openai results already exist for this file\n",
    "if exists(openai_file):\n",
    "    # Open the file in binary mode\n",
    "    with open(openai_file, 'rb') as file:\n",
    "        # Call load method to deserialze\n",
    "        res = pickle.load(file)\n",
    "    print('Loaded previously saved embeddings: ',openai_file)\n",
    "else:\n",
    "    # this costs $\n",
    "    # take the list of text chunks and generate vector embeddings\n",
    "    # res is an openai object\n",
    "    res = openai.Embedding.create(input=contentlist, engine=OPENAI_MODEL)\n",
    "    # save the openai results because you don't want to spend the $ to make it again if you don't have to\n",
    "    # Open a file and use dump()\n",
    "    with open(openai_file, 'wb') as file:\n",
    "        # A new file will be created\n",
    "        pickle.dump(res, file)\n"
   ]
  },
  {
   "cell_type": "code",
   "execution_count": 20,
   "id": "6006c336-92d8-44ca-8650-3e61bd09c838",
   "metadata": {},
   "outputs": [],
   "source": [
    "# look at openai object\n",
    "#res"
   ]
  },
  {
   "cell_type": "code",
   "execution_count": 21,
   "id": "e1ac769c-5fe8-41eb-8f5a-fb54faa2a267",
   "metadata": {},
   "outputs": [
    {
     "data": {
      "text/plain": [
       "59"
      ]
     },
     "execution_count": 21,
     "metadata": {},
     "output_type": "execute_result"
    }
   ],
   "source": [
    "# extract the vectors into this list to pass to pinecone\n",
    "# this is the openai list of vector indices for each chunk\n",
    "# it is paired with the idlist, metadatalist generated above\n",
    "embedslist = [record['embedding'] for record in res['data']]\n",
    "len(embedslist)"
   ]
  },
  {
   "cell_type": "markdown",
   "id": "1fb5dde7-62cf-421a-a89d-f78004bb7087",
   "metadata": {},
   "source": [
    "### E. Upload vectors to Pinecone database\n",
    "\n",
    "Do not need to do again if this paper is already in the database."
   ]
  },
  {
   "cell_type": "code",
   "execution_count": 22,
   "id": "77653b0e-fa7c-4b4f-a10b-6b54d365540f",
   "metadata": {},
   "outputs": [
    {
     "data": {
      "text/plain": [
       "{'upserted_count': 59}"
      ]
     },
     "execution_count": 22,
     "metadata": {},
     "output_type": "execute_result"
    }
   ],
   "source": [
    "# zip all the chunks into one big vector list for pinecone\n",
    "to_upsert = zip(idlist, embedslist, metalist)\n",
    "# upsert to Pinecone all the vectors for this one paper\n",
    "index.upsert(vectors=list(to_upsert))"
   ]
  },
  {
   "cell_type": "markdown",
   "id": "ccfdaec2-e225-4dfb-8241-7f78587e478e",
   "metadata": {},
   "source": [
    "## Repeat for additional papers to put in the database\n",
    "\n",
    "This process can be turned into a list of papers to iterate over and upload to the database.\n",
    "\n",
    "Paper 2:"
   ]
  },
  {
   "cell_type": "code",
   "execution_count": 23,
   "id": "804bd785-0fc7-4909-95e3-931e08ed7123",
   "metadata": {},
   "outputs": [],
   "source": [
    "# will look for the text in ./papers/[key].txt\n",
    "paperno = 2\n",
    "paper_meta = [{\n",
    "    'key' : 'Lock2017',\n",
    "    'doi' : '10.1002/2016JE005239',\n",
    "    'bibtex' : \"@article{Lock2017,\\\n",
    "        author = {Lock, Simon J. and Stewart, Sarah T.},\\\n",
    "        doi = {10.1002/2016JE005239},\\\n",
    "        journal = {Journal of Geophysical Research: Planets},\\\n",
    "        keywords = {exoplanets,formation,impacts,rotation,structure,synestias},\\\n",
    "        month = {may},\\\n",
    "        number = {5},\\\n",
    "        pages = {950--982},\\\n",
    "        title = {{The structure of terrestrial bodies: Impact heating, corotation limits, and synestias}},\\\n",
    "        volume = {122},\\\n",
    "        year = {2017}\\\n",
    "        }\",\n",
    "    'openai_model' : OPENAI_MODEL,\n",
    "    'openai_encoding' : OPENAI_ENCODING,\n",
    "    'openai_chunksize' : str(OPENAI_CHUNKSIZE),\n",
    "    'openai_chunkoverlap' : str(OPENAI_CHUNKOVERLAP),\n",
    "    'text' : 'text'\n",
    "    }] "
   ]
  },
  {
   "cell_type": "code",
   "execution_count": 24,
   "id": "c586ad02-f7a8-497e-b4e8-8f1f9b3b7b44",
   "metadata": {},
   "outputs": [
    {
     "name": "stdout",
     "output_type": "stream",
     "text": [
      "You have 1 document(s) in your data\n",
      "There are 120375 characters in your original document\n",
      "Now you have 46 document chunks\n",
      "Loaded previously saved embeddings:  ./papers/Lock2017.pickle\n",
      "finished paper upload to pinecone\n"
     ]
    }
   ],
   "source": [
    "loader = TextLoader(pathtopapers+paper_meta[0]['key']+'.txt')\n",
    "data = loader.load() # this is a langchain document object\n",
    "print (f'You have {len(data)} document(s) in your data')\n",
    "print (f'There are {len(data[0].page_content)} characters in your original document')\n",
    "texts = text_splitter.split_documents(data)\n",
    "print (f'Now you have {len(texts)} document chunks')\n",
    "idlist = []\n",
    "contentlist = []\n",
    "metalist = []\n",
    "for i in range(len(texts)):\n",
    "    idlist.append(str(paperno)+'.'+str(i))\n",
    "    contentlist.append(texts[i].page_content)\n",
    "    # put the source text for this chunk in the metadata\n",
    "    # print(i,texts[i].page_content[0:10])\n",
    "    paper_meta[0]['text']=''+texts[i].page_content[:]\n",
    "    temp = deepcopy(paper_meta[0]) # otherwise all the metadata points to the last text chunk\n",
    "    metalist.append(temp)\n",
    "    \n",
    "# file to save/load openai embeddings for this paper\n",
    "openai_file = pathtopapers+paper_meta[0]['key']+'.pickle'\n",
    "\n",
    "# check if openai results already exist for this file\n",
    "if exists(openai_file):\n",
    "    # Open the file in binary mode\n",
    "    with open(openai_file, 'rb') as file:\n",
    "        # Call load method to deserialze\n",
    "        res = pickle.load(file)\n",
    "    print('Loaded previously saved embeddings: ',openai_file)\n",
    "else:\n",
    "    # this costs $\n",
    "    # take the list of text chunks and generate vector embeddings\n",
    "    # res is an openai object\n",
    "    res = openai.Embedding.create(input=contentlist, engine=OPENAI_MODEL)\n",
    "    # save the openai results because you don't want to spend the $ to make it again if you don't have to\n",
    "    # Open a file and use dump()\n",
    "    with open(openai_file, 'wb') as file:\n",
    "        # A new file will be created\n",
    "        pickle.dump(res, file)\n",
    "\n",
    "embedslist = [record['embedding'] for record in res['data']]\n",
    "# zip all the chunks into one big vector list for pinecone\n",
    "to_upsert = zip(idlist, embedslist, metalist)\n",
    "# upsert to Pinecone all the vectors for this one paper\n",
    "index.upsert(vectors=list(to_upsert))\n",
    "\n",
    "print('finished paper upload to pinecone')"
   ]
  },
  {
   "cell_type": "markdown",
   "id": "bc22099a-01f5-47d9-bcd2-61ed118cebb5",
   "metadata": {},
   "source": [
    "paper 3:"
   ]
  },
  {
   "cell_type": "code",
   "execution_count": 25,
   "id": "12e6224b-91d9-4672-833b-cb489227923e",
   "metadata": {},
   "outputs": [],
   "source": [
    "# will look for the text in ./papers/[key].txt\n",
    "paperno = 3\n",
    "paper_meta = [{\n",
    "    'key' : 'Lock2019',\n",
    "    'doi' : '10.1126/sciadv.aav3746',\n",
    "    'bibtex' : \"@article{Lock2019,\\\n",
    "        author = {Lock, Simon J. and Stewart, Sarah T.},\\\n",
    "        doi = {10.1126/sciadv.aav3746},\\\n",
    "        journal = {Science Advances},\\\n",
    "        month = {sep},\\\n",
    "        number = {9},\\\n",
    "        pages = {eaav3746},\\\n",
    "        title = {{Giant impacts stochastically change the internal pressures of terrestrial planets}},\\\n",
    "        volume = {5},\\\n",
    "        year = {2019}\\\n",
    "        }\",\n",
    "    'openai_model' : OPENAI_MODEL,\n",
    "    'openai_encoding' : OPENAI_ENCODING,\n",
    "    'openai_chunksize' : str(OPENAI_CHUNKSIZE),\n",
    "    'openai_chunkoverlap' : str(OPENAI_CHUNKOVERLAP),\n",
    "    'text' : 'text'\n",
    "    }] "
   ]
  },
  {
   "cell_type": "code",
   "execution_count": 26,
   "id": "c4fb79d6-d114-42e2-a8da-ffb021580307",
   "metadata": {},
   "outputs": [
    {
     "name": "stdout",
     "output_type": "stream",
     "text": [
      "You have 1 document(s) in your data\n",
      "There are 61571 characters in your original document\n",
      "Now you have 21 document chunks\n",
      "finished paper upload to pinecone\n"
     ]
    }
   ],
   "source": [
    "loader = TextLoader(pathtopapers+paper_meta[0]['key']+'.txt')\n",
    "data = loader.load() # this is a langchain document object\n",
    "print (f'You have {len(data)} document(s) in your data')\n",
    "print (f'There are {len(data[0].page_content)} characters in your original document')\n",
    "texts = text_splitter.split_documents(data)\n",
    "print (f'Now you have {len(texts)} document chunks')\n",
    "idlist = []\n",
    "contentlist = []\n",
    "metalist = []\n",
    "for i in range(len(texts)):\n",
    "    idlist.append(str(paperno)+'.'+str(i))\n",
    "    contentlist.append(texts[i].page_content)\n",
    "    # put the source text for this chunk in the metadata\n",
    "    # print(i,texts[i].page_content[0:10])\n",
    "    paper_meta[0]['text']=''+texts[i].page_content[:]\n",
    "    temp = deepcopy(paper_meta[0]) # otherwise all the metadata points to the last text chunk\n",
    "    metalist.append(temp)\n",
    "    \n",
    "# file to save/load openai embeddings for this paper\n",
    "openai_file = pathtopapers+paper_meta[0]['key']+'.pickle'\n",
    "\n",
    "# check if openai results already exist for this file\n",
    "if exists(openai_file):\n",
    "    # Open the file in binary mode\n",
    "    with open(openai_file, 'rb') as file:\n",
    "        # Call load method to deserialze\n",
    "        res = pickle.load(file)\n",
    "    print('Loaded previously saved embeddings: ',openai_file)\n",
    "else:\n",
    "    # this costs $\n",
    "    # take the list of text chunks and generate vector embeddings\n",
    "    # res is an openai object\n",
    "    res = openai.Embedding.create(input=contentlist, engine=OPENAI_MODEL)\n",
    "    # save the openai results because you don't want to spend the $ to make it again if you don't have to\n",
    "    # Open a file and use dump()\n",
    "    with open(openai_file, 'wb') as file:\n",
    "        # A new file will be created\n",
    "        pickle.dump(res, file)\n",
    "\n",
    "embedslist = [record['embedding'] for record in res['data']]\n",
    "# zip all the chunks into one big vector list for pinecone\n",
    "to_upsert = zip(idlist, embedslist, metalist)\n",
    "# upsert to Pinecone all the vectors for this one paper\n",
    "index.upsert(vectors=list(to_upsert))\n",
    "\n",
    "print('finished paper upload to pinecone')"
   ]
  },
  {
   "cell_type": "markdown",
   "id": "a7ef827d-76bf-45b0-8bdc-e2790198791a",
   "metadata": {},
   "source": [
    "paper 4:"
   ]
  },
  {
   "cell_type": "code",
   "execution_count": 27,
   "id": "fbc85712-651b-4587-9161-7d48dbada101",
   "metadata": {},
   "outputs": [],
   "source": [
    "# will look for the text in ./papers/[key].txt\n",
    "paperno = 4\n",
    "paper_meta = [{\n",
    "    'key' : 'Lock2020',\n",
    "    'doi' : '10.1016/j.epsl.2019.115885',\n",
    "    'bibtex' : \"@article{Lock2020,\\\n",
    "        author = {Lock, Simon J. and Stewart, Sarah T. and {\\'{C}}uk, Matija},\\\n",
    "        doi = {10.1016/j.epsl.2019.115885},\\\n",
    "        journal = {Earth and Planetary Science Letters},\\\n",
    "        keywords = {Moon,energy,figure,impact,tides},\\\n",
    "        month = {jan},\\\n",
    "        pages = {115885},\\\n",
    "        title = {{The energy budget and figure of Earth during recovery from the Moon-forming giant impact}},\\\n",
    "        volume = {530},\\\n",
    "        year = {2020}\\\n",
    "        }\",\n",
    "    'openai_model' : OPENAI_MODEL,\n",
    "    'openai_encoding' : OPENAI_ENCODING,\n",
    "    'openai_chunksize' : str(OPENAI_CHUNKSIZE),\n",
    "    'openai_chunkoverlap' : str(OPENAI_CHUNKOVERLAP),\n",
    "    'text' : 'text'\n",
    "    }] \n",
    "\n"
   ]
  },
  {
   "cell_type": "code",
   "execution_count": 28,
   "id": "f1dd6d27-cb27-4bad-85e5-2afcb179e80d",
   "metadata": {},
   "outputs": [
    {
     "name": "stdout",
     "output_type": "stream",
     "text": [
      "You have 1 document(s) in your data\n",
      "There are 55613 characters in your original document\n",
      "Now you have 21 document chunks\n",
      "finished paper upload to pinecone\n"
     ]
    }
   ],
   "source": [
    "loader = TextLoader(pathtopapers+paper_meta[0]['key']+'.txt')\n",
    "data = loader.load() # this is a langchain document object\n",
    "print (f'You have {len(data)} document(s) in your data')\n",
    "print (f'There are {len(data[0].page_content)} characters in your original document')\n",
    "texts = text_splitter.split_documents(data)\n",
    "print (f'Now you have {len(texts)} document chunks')\n",
    "idlist = []\n",
    "contentlist = []\n",
    "metalist = []\n",
    "for i in range(len(texts)):\n",
    "    idlist.append(str(paperno)+'.'+str(i))\n",
    "    contentlist.append(texts[i].page_content)\n",
    "    # put the source text for this chunk in the metadata\n",
    "    # print(i,texts[i].page_content[0:10])\n",
    "    paper_meta[0]['text']=''+texts[i].page_content[:]\n",
    "    temp = deepcopy(paper_meta[0]) # otherwise all the metadata points to the last text chunk\n",
    "    metalist.append(temp)\n",
    "    \n",
    "# file to save/load openai embeddings for this paper\n",
    "openai_file = pathtopapers+paper_meta[0]['key']+'.pickle'\n",
    "\n",
    "# check if openai results already exist for this file\n",
    "if exists(openai_file):\n",
    "    # Open the file in binary mode\n",
    "    with open(openai_file, 'rb') as file:\n",
    "        # Call load method to deserialze\n",
    "        res = pickle.load(file)\n",
    "    print('Loaded previously saved embeddings: ',openai_file)\n",
    "else:\n",
    "    # this costs $\n",
    "    # take the list of text chunks and generate vector embeddings\n",
    "    # res is an openai object\n",
    "    res = openai.Embedding.create(input=contentlist, engine=OPENAI_MODEL)\n",
    "    # save the openai results because you don't want to spend the $ to make it again if you don't have to\n",
    "    # Open a file and use dump()\n",
    "    with open(openai_file, 'wb') as file:\n",
    "        # A new file will be created\n",
    "        pickle.dump(res, file)\n",
    "\n",
    "embedslist = [record['embedding'] for record in res['data']]\n",
    "# zip all the chunks into one big vector list for pinecone\n",
    "to_upsert = zip(idlist, embedslist, metalist)\n",
    "# upsert to Pinecone all the vectors for this one paper\n",
    "index.upsert(vectors=list(to_upsert))\n",
    "\n",
    "print('finished paper upload to pinecone')"
   ]
  },
  {
   "cell_type": "markdown",
   "id": "f9c9054f-1e8b-4388-8a39-dac9bd3d9637",
   "metadata": {},
   "source": [
    "paper 5:"
   ]
  },
  {
   "cell_type": "code",
   "execution_count": 29,
   "id": "6b4bb134-3a44-45e7-b1d0-065b5194f1fa",
   "metadata": {},
   "outputs": [],
   "source": [
    "# will look for the text in ./papers/[key].txt\n",
    "paperno = 5\n",
    "paper_meta = [{\n",
    "    'key' : 'Carter2020',\n",
    "    'doi' : '10.1029/2019JE006042',\n",
    "    'bibtex' : \"@article{Carter2020,\\\n",
    "        author = {Carter, P. J. and Lock, S. J. and Stewart, S. T.},\\\n",
    "        doi = {10.1029/2019JE006042},\\\n",
    "        journal = {Journal of Geophysical Research: Planets},\\\n",
    "        month = {jan},\\\n",
    "        number = {1},\\\n",
    "        title = {{The Energy Budgets of Giant Impacts}},\\\n",
    "        volume = {125},\\\n",
    "        year = {2020}\\\n",
    "        }\",\n",
    "    'openai_model' : OPENAI_MODEL,\n",
    "    'openai_encoding' : OPENAI_ENCODING,\n",
    "    'openai_chunksize' : str(OPENAI_CHUNKSIZE),\n",
    "    'openai_chunkoverlap' : str(OPENAI_CHUNKOVERLAP),\n",
    "    'text' : 'text'\n",
    "    }] "
   ]
  },
  {
   "cell_type": "code",
   "execution_count": 30,
   "id": "bac82163-5d5d-4321-aae0-830e9b271aa4",
   "metadata": {},
   "outputs": [
    {
     "name": "stdout",
     "output_type": "stream",
     "text": [
      "You have 1 document(s) in your data\n",
      "There are 60001 characters in your original document\n",
      "Now you have 24 document chunks\n",
      "finished paper upload to pinecone\n"
     ]
    }
   ],
   "source": [
    "loader = TextLoader(pathtopapers+paper_meta[0]['key']+'.txt')\n",
    "data = loader.load() # this is a langchain document object\n",
    "print (f'You have {len(data)} document(s) in your data')\n",
    "print (f'There are {len(data[0].page_content)} characters in your original document')\n",
    "texts = text_splitter.split_documents(data)\n",
    "print (f'Now you have {len(texts)} document chunks')\n",
    "idlist = []\n",
    "contentlist = []\n",
    "metalist = []\n",
    "for i in range(len(texts)):\n",
    "    idlist.append(str(paperno)+'.'+str(i))\n",
    "    contentlist.append(texts[i].page_content)\n",
    "    # put the source text for this chunk in the metadata\n",
    "    # print(i,texts[i].page_content[0:10])\n",
    "    paper_meta[0]['text']=''+texts[i].page_content[:]\n",
    "    temp = deepcopy(paper_meta[0]) # otherwise all the metadata points to the last text chunk\n",
    "    metalist.append(temp)\n",
    "    \n",
    "# file to save/load openai embeddings for this paper\n",
    "openai_file = pathtopapers+paper_meta[0]['key']+'.pickle'\n",
    "\n",
    "# check if openai results already exist for this file\n",
    "if exists(openai_file):\n",
    "    # Open the file in binary mode\n",
    "    with open(openai_file, 'rb') as file:\n",
    "        # Call load method to deserialze\n",
    "        res = pickle.load(file)\n",
    "    print('Loaded previously saved embeddings: ',openai_file)\n",
    "else:\n",
    "    # this costs $\n",
    "    # take the list of text chunks and generate vector embeddings\n",
    "    # res is an openai object\n",
    "    res = openai.Embedding.create(input=contentlist, engine=OPENAI_MODEL)\n",
    "    # save the openai results because you don't want to spend the $ to make it again if you don't have to\n",
    "    # Open a file and use dump()\n",
    "    with open(openai_file, 'wb') as file:\n",
    "        # A new file will be created\n",
    "        pickle.dump(res, file)\n",
    "\n",
    "embedslist = [record['embedding'] for record in res['data']]\n",
    "# zip all the chunks into one big vector list for pinecone\n",
    "to_upsert = zip(idlist, embedslist, metalist)\n",
    "# upsert to Pinecone all the vectors for this one paper\n",
    "index.upsert(vectors=list(to_upsert))\n",
    "\n",
    "print('finished paper upload to pinecone')"
   ]
  },
  {
   "cell_type": "markdown",
   "id": "9bc562c9-1868-41ed-8413-5b7be4e90a18",
   "metadata": {},
   "source": [
    "## Now query the pinecone index for similar text\n",
    "\n",
    "Here asking for the 5 best matches to the query.\n",
    "You can use the metadata to restrict the search to different entries (e.g., papers) in the database."
   ]
  },
  {
   "cell_type": "code",
   "execution_count": 32,
   "id": "fba01e37-da8d-469c-98cb-5472b110b916",
   "metadata": {},
   "outputs": [],
   "source": [
    "# generate dense vector embeddings for the query\n",
    "query = \"What is the Earth like when it is transformed into a synestia?\"\n",
    "# queryvector holds the vector indices for the query text\n",
    "# the create function returns an openai object; the data dict has the embedding data\n",
    "queryvector = openai.Embedding.create(input=query, engine=OPENAI_MODEL)[\"data\"][0][\"embedding\"]\n",
    "# query pinecone for similar indices\n",
    "# return the top 5 matches\n",
    "# index is the variable that points to the pinecone database\n",
    "# query is the pinecone function to find similar text\n",
    "result = index.query(queryvector, top_k=5, include_metadata=True)\n"
   ]
  },
  {
   "cell_type": "code",
   "execution_count": 44,
   "id": "4284d47f-e459-4a0d-ad54-acad9d68c7ee",
   "metadata": {},
   "outputs": [
    {
     "data": {
      "text/plain": [
       "{'matches': [{'id': '1.6',\n",
       "              'metadata': {'bibtex': '@article{Lock2018,        author = '\n",
       "                                     '{Lock, Simon J. and Stewart, Sarah T. '\n",
       "                                     'and Petaev, Michail I. and Leinhardt, '\n",
       "                                     'Zo{\"{e}} and Mace, Mia T. and Jacobsen, '\n",
       "                                     'Stein B. and Cuk, Matija},        doi = '\n",
       "                                     '{10.1002/2017JE005333},        journal = '\n",
       "                                     '{Journal of Geophysical Research: '\n",
       "                                     'Planets},        keywords = {angular '\n",
       "                                     'momentum,giant impact,isotopic '\n",
       "                                     'equilibration,lunar accretion,lunar '\n",
       "                                     'chemistry,volatile elements},        '\n",
       "                                     'month = {apr},        number = '\n",
       "                                     '{4},        pages = {910--951},        '\n",
       "                                     'title = {{The Origin of the Moon Within '\n",
       "                                     'a Terrestrial Synestia}},        volume '\n",
       "                                     '= {123},        year = {2018}        }',\n",
       "                           'doi': '10.1002/2017JE005333',\n",
       "                           'key': 'Lock2018',\n",
       "                           'openai_chunkoverlap': '30',\n",
       "                           'openai_chunksize': '800',\n",
       "                           'openai_encoding': 'cl100k_base',\n",
       "                           'openai_model': 'text-embedding-ada-002',\n",
       "                           'text': 'Here we present a new model for lunar '\n",
       "                                   'origin within a terrestrial synestia, an '\n",
       "                                   'impact-generated structure with Earth mass '\n",
       "                                   'and composition that exceeds the '\n",
       "                                   'corotation limit (CoRoL). Synestias are '\n",
       "                                   'formed by a range of high-energy, high-AM '\n",
       "                                   'collisions during the giant impact stage '\n",
       "                                   'of planet formation (Lock & Stewart, 2017, '\n",
       "                                   'hereafter LS17). A synestia is a distinct '\n",
       "                                   'dynamical structure compared to a planet '\n",
       "                                   'with a condensate-dominated '\n",
       "                                   'circumplanetary disk, and, as a result, '\n",
       "                                   'different processes dominate the early '\n",
       "                                   'evolution of a synestia. Note that '\n",
       "                                   'preliminary versions of this work (e.g., '\n",
       "                                   'Lock et al., 2016; Petaev et al., 2016) '\n",
       "                                   'used different nomenclature than is used '\n",
       "                                   'here. In particular, synestias were '\n",
       "                                   'referred to as continuous '\n",
       "                                   'mantle-atmosphere-disk (MAD) structures.\\n'\n",
       "                                   'At present, no single calculation can '\n",
       "                                   'fully capture the dynamics, '\n",
       "                                   'thermodynamics, and chemistry of lunar '\n",
       "                                   'accretion. Therefore, our approach is to '\n",
       "                                   'link the physics and chemistry of '\n",
       "                                   'satellite accretion from a terrestrial '\n",
       "                                   'synestia by understanding the processes '\n",
       "                                   'that control the pressure and temperature '\n",
       "                                   'paths of the material that forms a moon. '\n",
       "                                   'First, we determine the '\n",
       "                                   'pressure-temperature conditions of a moon '\n",
       "                                   'that grows by accretion of condensing '\n",
       "                                   'silicate vapor. We then argue that the '\n",
       "                                   'composition of the growing moon is set by '\n",
       "                                   'equilibrium with BSE vapor over a specific '\n",
       "                                   'range of pressures and temperatures '\n",
       "                                   'determined by the structure and the phase '\n",
       "                                   'relationships for material of BSE '\n",
       "                                   'composition. Finally, we demonstrate that '\n",
       "                                   'a variety of high-energy, high-AM giant '\n",
       "                                   'impacts can generate initial conditions '\n",
       "                                   'that can potentially lead to the formation '\n",
       "                                   'of a lunar-mass moon with the observed '\n",
       "                                   'geochemical characteristics of our Moon. '\n",
       "                                   'Our model provides a promising pathway to '\n",
       "                                   'explain all the key observables of the '\n",
       "                                   'Moon discussed above: the isotopic '\n",
       "                                   'similarity between Earth and the Moon; the '\n",
       "                                   'magnitude and pattern of moderately '\n",
       "                                   'volatile element depletion in the Moon; '\n",
       "                                   'and the large mass of the Moon. If Earth '\n",
       "                                   'had a large obliquity after the giant '\n",
       "                                   'impact, then a single event may also '\n",
       "                                   'explain the inclination of the lunar orbit '\n",
       "                                   'and the present-day AM of the Earth-Moon '\n",
       "                                   'system (?uk et al., 2016).\\n'\n",
       "                                   'This paper is organized as follows. First, '\n",
       "                                   'we describe the structures that are '\n",
       "                                   'generated by giant impacts (sections 2.1 '\n",
       "                                   'and 2.2). Next, we discuss the processes '\n",
       "                                   'that dominate the evolution of a synestia '\n",
       "                                   'as it cools (section 2.3). We present '\n",
       "                                   'calculations of the pressure field of a '\n",
       "                                   'synestia and estimate the mass and '\n",
       "                                   'location of the moon that is formed '\n",
       "                                   '(sections 2.4 and 2.5). Then, we present a '\n",
       "                                   'calculation of the phase diagram for BSE '\n",
       "                                   'composition material over the pressure and '\n",
       "                                   'temperature range of the outer portions of '\n",
       "                                   'the structure (section 3). In section 4, '\n",
       "                                   'we combine the results of the previous '\n",
       "                                   'sections to propose a coupled dynamic and '\n",
       "                                   'thermodynamic model for the formation of a '\n",
       "                                   'moon from a terrestrial synestia and '\n",
       "                                   'identify the pressure-temperature-spatial '\n",
       "                                   'paths of condensates and growing moonlets. '\n",
       "                                   'The chemical composition of the moon is '\n",
       "                                   'estimated using the physical chemistry of '\n",
       "                                   'the BSE system at the pressure and '\n",
       "                                   'temperature predicted by our model. In '\n",
       "                                   'section 5, we discuss formation of our '\n",
       "                                   'Moon from a synestia as a new model for '\n",
       "                                   'lunar origin. We discuss the consistency '\n",
       "                                   'of such a model with observations and '\n",
       "                                   'examine the possible range of giant '\n",
       "                                   'impacts that may generate post-impact '\n",
       "                                   'structures with the potential for forming '\n",
       "                                   'our Moon. We present a short unified '\n",
       "                                   'synopsis of our model for the origin of '\n",
       "                                   'the Moon in section 6. Finally, we draw '\n",
       "                                   'our major conclusions and describe future '\n",
       "                                   'tests of our model (section 7). This work '\n",
       "                                   'includes supporting information.\\n'\n",
       "                                   '2 Structure and Dynamics of a Synestia'},\n",
       "              'score': 0.847420216,\n",
       "              'values': []},\n",
       "             {'id': '1.14',\n",
       "              'metadata': {'bibtex': '@article{Lock2018,        author = '\n",
       "                                     '{Lock, Simon J. and Stewart, Sarah T. '\n",
       "                                     'and Petaev, Michail I. and Leinhardt, '\n",
       "                                     'Zo{\"{e}} and Mace, Mia T. and Jacobsen, '\n",
       "                                     'Stein B. and Cuk, Matija},        doi = '\n",
       "                                     '{10.1002/2017JE005333},        journal = '\n",
       "                                     '{Journal of Geophysical Research: '\n",
       "                                     'Planets},        keywords = {angular '\n",
       "                                     'momentum,giant impact,isotopic '\n",
       "                                     'equilibration,lunar accretion,lunar '\n",
       "                                     'chemistry,volatile elements},        '\n",
       "                                     'month = {apr},        number = '\n",
       "                                     '{4},        pages = {910--951},        '\n",
       "                                     'title = {{The Origin of the Moon Within '\n",
       "                                     'a Terrestrial Synestia}},        volume '\n",
       "                                     '= {123},        year = {2018}        }',\n",
       "                           'doi': '10.1002/2017JE005333',\n",
       "                           'key': 'Lock2018',\n",
       "                           'openai_chunkoverlap': '30',\n",
       "                           'openai_chunksize': '800',\n",
       "                           'openai_encoding': 'cl100k_base',\n",
       "                           'openai_model': 'text-embedding-ada-002',\n",
       "                           'text': 'A terrestrial synestia, as shown in '\n",
       "                                   'Figures 1e?1g, cools by radiation from the '\n",
       "                                   'photosphere, where the structure is '\n",
       "                                   'optically thin. We estimated the optical '\n",
       "                                   'depth of the outer edge of the structure '\n",
       "                                   'and found that the photic surface is at '\n",
       "                                   'low pressures (10?6 to 10?2 bar, '\n",
       "                                   'supporting information section S2) and '\n",
       "                                   'radiates at a temperature of about '\n",
       "                                   'Trad=2,300 K, determined by the '\n",
       "                                   'liquid-vapor phase boundary of BSE '\n",
       "                                   'composition material (section 3). At the '\n",
       "                                   'photosphere, the majority of the energy '\n",
       "                                   'lost by radiation is compensated for by '\n",
       "                                   'condensation of vapor, and the material '\n",
       "                                   'state is a mixture of vapor and '\n",
       "                                   'condensates (liquid droplets and/or solid '\n",
       "                                   'dust). Since condensates are not supported '\n",
       "                                   'by the pressure gradient of the vapor '\n",
       "                                   'structure, they are not dynamically stable '\n",
       "                                   'at the photic surface and will fall. '\n",
       "                                   'Because the photospheric temperature is '\n",
       "                                   'far above equilibrium with the incoming '\n",
       "                                   'solar radiation, radiative cooling is '\n",
       "                                   'efficient and drives a torrential rain of '\n",
       "                                   'condensates into the higher-pressure '\n",
       "                                   'regions of the structure. Initially, '\n",
       "                                   'radiative cooling produces on the order of '\n",
       "                                   'a lunar mass of silicate condensate per '\n",
       "                                   'year, and the production rate of silicate '\n",
       "                                   'rain near the photosphere of a synestia (a '\n",
       "                                   'few centimeters an hour) is about an order '\n",
       "                                   'of magnitude greater than heavy rainfall '\n",
       "                                   'during hurricanes on Earth today.\\n'\n",
       "                                   'The size of droplets forming at the '\n",
       "                                   'photosphere and falling is controlled by a '\n",
       "                                   'balance between shear from the vapor and '\n",
       "                                   'surface tension. We approximate the drag '\n",
       "                                   'force on condensates by assuming that the '\n",
       "                                   'droplets are in free fall such that\\n'\n",
       "                                   '(3)\\n'\n",
       "                                   'where FD is the drag force from the gas, '\n",
       "                                   'mcond is the mass of the condensate, and g '\n",
       "                                   'is the gravitational acceleration. The '\n",
       "                                   'droplet size is then given by the balance '\n",
       "                                   'between the drag force and surface tension '\n",
       "                                   'over the droplet,\\n'\n",
       "                                   '(4)\\n'\n",
       "                                   'where ?cond is the density of the '\n",
       "                                   'condensate, Rcond is the radius of the '\n",
       "                                   'droplet, and ? is the surface tension. '\n",
       "                                   'Bo?a et al. (2003) found that the surface '\n",
       "                                   'tension for silica melts at 2,000 K is 0.3 '\n",
       "                                   'N m?1. From the balance of the forces, the '\n",
       "                                   'radius of the droplet is\\n'\n",
       "                                   '(5)\\n'\n",
       "                                   'The gravitational acceleration at the '\n",
       "                                   'photosphere ranges from 10 to 0.1 m s?2 '\n",
       "                                   'due to the large spatial scale of the '\n",
       "                                   'synestia. The corresponding range in '\n",
       "                                   'droplet sizes is a few millimeters to a '\n",
       "                                   'few centimeters.\\n'\n",
       "                                   'As discussed in section 2.1, there is a '\n",
       "                                   'substantial pressure gradient force '\n",
       "                                   'perpendicular to the rotation axis acting '\n",
       "                                   'on the vapor in synestias. When '\n",
       "                                   'condensates form from the vapor at the '\n",
       "                                   'photosphere, they do not have sufficient '\n",
       "                                   'AM to remain in a circular orbit at the '\n",
       "                                   'same location. In the absence of vapor, '\n",
       "                                   'the condensates would fall rapidly on '\n",
       "                                   'significantly elliptical orbits in a plane '\n",
       "                                   'through the center of mass. For the '\n",
       "                                   'synestia shown in Figures 1-3, the initial '\n",
       "                                   'eccentricity varies from 0.6 at the inner '\n",
       "                                   'edge of the disk-like region to 0.27 at a '\n",
       "                                   'cylindrical radius of 25 Mm. As they fall '\n",
       "                                   'into the synestia, condensates interact '\n",
       "                                   'with the vapor and experience drag which '\n",
       "                                   'perturbs their motion.\\n'\n",
       "                                   'To calculate the motions of condensates in '\n",
       "                                   'the synestia, we used a simple orbital '\n",
       "                                   'evolution model, including an acceleration '\n",
       "                                   'due to gas drag of the form\\n'\n",
       "                                   '(6)\\n'\n",
       "                                   'where ?vap is the density of the vapor, CD '\n",
       "                                   'is the gas drag coefficient, v is the '\n",
       "                                   'velocity vector of the condensate, and '\n",
       "                                   'vvap is the velocity vector of the vapor. '\n",
       "                                   'A set of simple classical dynamics '\n",
       "                                   'equations were then integrated to find the '\n",
       "                                   'position and velocity of the particle as a '\n",
       "                                   'function of time. Full details of the '\n",
       "                                   'calculation are given in Appendix A.'},\n",
       "              'score': 0.838054121,\n",
       "              'values': []},\n",
       "             {'id': '1.53',\n",
       "              'metadata': {'bibtex': '@article{Lock2018,        author = '\n",
       "                                     '{Lock, Simon J. and Stewart, Sarah T. '\n",
       "                                     'and Petaev, Michail I. and Leinhardt, '\n",
       "                                     'Zo{\"{e}} and Mace, Mia T. and Jacobsen, '\n",
       "                                     'Stein B. and Cuk, Matija},        doi = '\n",
       "                                     '{10.1002/2017JE005333},        journal = '\n",
       "                                     '{Journal of Geophysical Research: '\n",
       "                                     'Planets},        keywords = {angular '\n",
       "                                     'momentum,giant impact,isotopic '\n",
       "                                     'equilibration,lunar accretion,lunar '\n",
       "                                     'chemistry,volatile elements},        '\n",
       "                                     'month = {apr},        number = '\n",
       "                                     '{4},        pages = {910--951},        '\n",
       "                                     'title = {{The Origin of the Moon Within '\n",
       "                                     'a Terrestrial Synestia}},        volume '\n",
       "                                     '= {123},        year = {2018}        }',\n",
       "                           'doi': '10.1002/2017JE005333',\n",
       "                           'key': 'Lock2018',\n",
       "                           'openai_chunkoverlap': '30',\n",
       "                           'openai_chunksize': '800',\n",
       "                           'openai_encoding': 'cl100k_base',\n",
       "                           'openai_model': 'text-embedding-ada-002',\n",
       "                           'text': 'Schematic illustration of the formation of '\n",
       "                                   'the Moon within a terrestrial synestia. '\n",
       "                                   'The key steps are as follows: (a) '\n",
       "                                   'Formation of a terrestrial synestia by a '\n",
       "                                   'high-energy, high-angular-momentum giant '\n",
       "                                   'impact and accretion of a lunar seed that '\n",
       "                                   'orbits within the vapor structure. (b) The '\n",
       "                                   'moon grows on the timescale of about a '\n",
       "                                   'year, accreting condensates and moonlets '\n",
       "                                   'as the synestia radiatively cools. '\n",
       "                                   'Moonlets chemically equilibrate with bulk '\n",
       "                                   'silicate Earth vapor at the silicate '\n",
       "                                   'vaporization temperature buffer. (c) As '\n",
       "                                   'the system cools and contracts, after '\n",
       "                                   'several to tens of years, the Moon '\n",
       "                                   'separates from the synestia with a small '\n",
       "                                   'captured atmosphere and begins to cool and '\n",
       "                                   'solidify. The synestia contracts within '\n",
       "                                   'the Roche limit and eventually falls below '\n",
       "                                   'the corotation limit. For each step, half '\n",
       "                                   'of the three-dimensional structure is '\n",
       "                                   'shown with colors denoting the specific '\n",
       "                                   'entropy of silicate material. The phase '\n",
       "                                   'varies with specific entropy and pressure '\n",
       "                                   '(see Figures 1c, 1d, 1g, and 1h). At lower '\n",
       "                                   'pressures, farther out in the structure, '\n",
       "                                   'condensates are shown in blue. The gray '\n",
       "                                   'region is the core and the rotation axis '\n",
       "                                   'is shown as a vertical column in the '\n",
       "                                   'center of the structure. The photosphere '\n",
       "                                   'of the synestia is dominated by '\n",
       "                                   'condensates. The top right quadrant of (a) '\n",
       "                                   'schematically shows turbulent convection '\n",
       "                                   'in the terrestrial synestia with '\n",
       "                                   'condensate-rich downwellings (blue arrows) '\n",
       "                                   'cutting across the convective return flow '\n",
       "                                   '(red arrows). All the stages are to '\n",
       "                                   'scale.\\n'\n",
       "                                   'The Moon inherits its composition by '\n",
       "                                   'forming from, and equilibrating with, BSE '\n",
       "                                   'vapor. Moonlets chemically equilibrate at '\n",
       "                                   'a pressure set by the mass of the vapor '\n",
       "                                   'synestia and a temperature set by the '\n",
       "                                   'onset of silicate vaporization. In our '\n",
       "                                   'calculations, the moonlets equilibrate at '\n",
       "                                   'tens of bar and between about 3,400 and '\n",
       "                                   '4,000 K. Equilibration between the lunar '\n",
       "                                   'liquid and BSE vapor within a boundary '\n",
       "                                   'layer has the potential to quantitatively '\n",
       "                                   'produce the observed bulk lunar '\n",
       "                                   'composition, including the magnitude and '\n",
       "                                   'pattern of depletion in moderately '\n",
       "                                   'volatile elements. At the high '\n",
       "                                   'temperatures in the synestia, both '\n",
       "                                   'lithophile and siderophile elements are '\n",
       "                                   'incorporated into a single silicate fluid '\n",
       "                                   'and there is no metal phase. Metal '\n",
       "                                   'precipitates from the silicate fluid of '\n",
       "                                   'the Moon to form the small lunar core. The '\n",
       "                                   'outer portions of the synestia and the '\n",
       "                                   'Moon share very similar isotopic '\n",
       "                                   'compositions for both lithophile and '\n",
       "                                   'siderophile elements. Formation from a '\n",
       "                                   'sufficiently well-mixed synestia has the '\n",
       "                                   'potential to explain the similarity '\n",
       "                                   'between Earth and the Moon in their '\n",
       "                                   'tungsten, and potentially other, isotopic '\n",
       "                                   'compositions.\\n'\n",
       "                                   'The Moon is nearly fully grown before the '\n",
       "                                   'synestia cools and contracts within the '\n",
       "                                   'lunar orbit (Figure 18c). Eventually, the '\n",
       "                                   'structure cools below the CoRoL and forms '\n",
       "                                   'a corotating planet. Thus, Earth inherits '\n",
       "                                   \"the Moon's complement of moderately \"\n",
       "                                   'volatile elements.\\n'\n",
       "                                   'To complete our model, the AM of the '\n",
       "                                   'Earth-Moon system must be reduced to the '\n",
       "                                   'present-day value after lunar accretion. '\n",
       "                                   'Multiple physical processes during lunar '\n",
       "                                   'tidal evolution have been proposed to '\n",
       "                                   'remove the required amount of AM from the '\n",
       "                                   'Earth-Moon system (?uk & Stewart, 2012; '\n",
       "                                   '?uk et al., 2016; Tian et al., 2017; '\n",
       "                                   'Wisdom & Tian, 2015).\\n'\n",
       "                                   '7 Conclusions and Future Tests of the '\n",
       "                                   'Model'},\n",
       "              'score': 0.83557719,\n",
       "              'values': []},\n",
       "             {'id': '1.0',\n",
       "              'metadata': {'bibtex': '@article{Lock2018,        author = '\n",
       "                                     '{Lock, Simon J. and Stewart, Sarah T. '\n",
       "                                     'and Petaev, Michail I. and Leinhardt, '\n",
       "                                     'Zo{\"{e}} and Mace, Mia T. and Jacobsen, '\n",
       "                                     'Stein B. and Cuk, Matija},        doi = '\n",
       "                                     '{10.1002/2017JE005333},        journal = '\n",
       "                                     '{Journal of Geophysical Research: '\n",
       "                                     'Planets},        keywords = {angular '\n",
       "                                     'momentum,giant impact,isotopic '\n",
       "                                     'equilibration,lunar accretion,lunar '\n",
       "                                     'chemistry,volatile elements},        '\n",
       "                                     'month = {apr},        number = '\n",
       "                                     '{4},        pages = {910--951},        '\n",
       "                                     'title = {{The Origin of the Moon Within '\n",
       "                                     'a Terrestrial Synestia}},        volume '\n",
       "                                     '= {123},        year = {2018}        }',\n",
       "                           'doi': '10.1002/2017JE005333',\n",
       "                           'key': 'Lock2018',\n",
       "                           'openai_chunkoverlap': '30',\n",
       "                           'openai_chunksize': '800',\n",
       "                           'openai_encoding': 'cl100k_base',\n",
       "                           'openai_model': 'text-embedding-ada-002',\n",
       "                           'text': 'Title\\n'\n",
       "                                   'The Origin of the Moon Within a '\n",
       "                                   'Terrestrial Synestia\\n'\n",
       "                                   'Authors\\n'\n",
       "                                   'Simon J. Lock and Sarah T. Stewart\\n'\n",
       "                                   'Abstract\\n'\n",
       "                                   'The giant impact hypothesis remains the '\n",
       "                                   'leading theory for lunar origin. However, '\n",
       "                                   'current models struggle to explain the '\n",
       "                                   \"Moon's composition and isotopic similarity \"\n",
       "                                   'with Earth. Here we present a new lunar '\n",
       "                                   'origin model. High-energy, '\n",
       "                                   'high-angular-momentum giant impacts can '\n",
       "                                   'create a post-impact structure that '\n",
       "                                   'exceeds the corotation limit, which '\n",
       "                                   'defines the hottest thermal state and '\n",
       "                                   'angular momentum possible for a corotating '\n",
       "                                   'body. In a typical super-corotation-limit '\n",
       "                                   'body, traditional definitions of mantle, '\n",
       "                                   'atmosphere, and disk are not appropriate, '\n",
       "                                   'and the body forms a new type of planetary '\n",
       "                                   'structure, named a synestia. Using '\n",
       "                                   'simulations of cooling synestias combined '\n",
       "                                   'with dynamic, thermodynamic, and '\n",
       "                                   'geochemical calculations, we show that '\n",
       "                                   'satellite formation from a synestia can '\n",
       "                                   'produce the main features of our Moon. We '\n",
       "                                   'find that cooling drives mixing of the '\n",
       "                                   'structure, and condensation generates '\n",
       "                                   'moonlets that orbit within the synestia, '\n",
       "                                   'surrounded by tens of bars of bulk '\n",
       "                                   'silicate Earth vapor. The moonlets and '\n",
       "                                   'growing moon are heated by the vapor until '\n",
       "                                   'the first major element (Si) begins to '\n",
       "                                   'vaporize and buffer the temperature. '\n",
       "                                   'Moonlets equilibrate with bulk silicate '\n",
       "                                   'Earth vapor at the temperature of silicate '\n",
       "                                   'vaporization and the pressure of the '\n",
       "                                   'structure, establishing the lunar isotopic '\n",
       "                                   'composition and pattern of moderately '\n",
       "                                   'volatile elements. Eventually, the cooling '\n",
       "                                   'synestia recedes within the lunar orbit, '\n",
       "                                   'terminating the main stage of lunar '\n",
       "                                   'accretion. Our model shifts the paradigm '\n",
       "                                   'for lunar origin from specifying a certain '\n",
       "                                   'impact scenario to achieving a '\n",
       "                                   'Moon-forming synestia. Giant impacts that '\n",
       "                                   'produce potential Moon-forming synestias '\n",
       "                                   'were common at the end of terrestrial '\n",
       "                                   'planet formation.\\n'\n",
       "                                   '\\n'\n",
       "                                   'Key Points\\n'\n",
       "                                   '* New model for lunar origin within an '\n",
       "                                   'impact-generated synestia could explain '\n",
       "                                   'the lunar composition\\n'\n",
       "                                   '* Synestias are highly pressure supported '\n",
       "                                   'and have different dynamics than '\n",
       "                                   'condensate-dominated disks\\n'\n",
       "                                   '* Moon equilibrates with bulk silicate '\n",
       "                                   'Earth vapor at tens of bars and a '\n",
       "                                   'temperature buffered by silicate '\n",
       "                                   'vaporization\\n'\n",
       "                                   'Plain Language Summary\\n'\n",
       "                                   'The favored theory for lunar origin is '\n",
       "                                   'that a Mars-sized body hit the proto-Earth '\n",
       "                                   'and injected a disk of material into '\n",
       "                                   'orbit, out of which the Moon formed. In '\n",
       "                                   'the traditional Giant Impact Model the '\n",
       "                                   'Moon forms primarily from the body that '\n",
       "                                   'hit Earth and is chemically different from '\n",
       "                                   'Earth. However, Earth and the Moon are '\n",
       "                                   'observed to be very similar, bringing the '\n",
       "                                   'traditional model into question. We '\n",
       "                                   'present a new model that explains the '\n",
       "                                   'isotopic and chemical compositions of the '\n",
       "                                   'Moon. In this model, a giant impact, that '\n",
       "                                   'is more energetic than in the traditional '\n",
       "                                   'model, drives the Earth into a '\n",
       "                                   'fast-spinning, vaporized state that '\n",
       "                                   'extends for tens of thousands of '\n",
       "                                   'kilometers. Such planetary states are '\n",
       "                                   'called synestias. As the synestia cools, '\n",
       "                                   'material condenses and forms the Moon. '\n",
       "                                   'Here we present physical and chemical '\n",
       "                                   'models of the cooling synestia and predict '\n",
       "                                   'the pressure and temperature history of '\n",
       "                                   'the material that forms the Moon. We find '\n",
       "                                   'that the Moon forms within the synestia, '\n",
       "                                   'surrounded by Earth-composition vapor at '\n",
       "                                   'pressures of tens of bars. The Moon orbits '\n",
       "                                   'within the synestia long enough to '\n",
       "                                   'chemically equilibrate with the vaporized '\n",
       "                                   'Earth. Our calculations predict the '\n",
       "                                   'chemical similarities between Earth and '\n",
       "                                   'the Moon.'},\n",
       "              'score': 0.835307121,\n",
       "              'values': []},\n",
       "             {'id': '2.43',\n",
       "              'metadata': {'bibtex': '@article{Lock2017,        author = '\n",
       "                                     '{Lock, Simon J. and Stewart, Sarah '\n",
       "                                     'T.},        doi = '\n",
       "                                     '{10.1002/2016JE005239},        journal = '\n",
       "                                     '{Journal of Geophysical Research: '\n",
       "                                     'Planets},        keywords = '\n",
       "                                     '{exoplanets,formation,impacts,rotation,structure,synestias},        '\n",
       "                                     'month = {may},        number = '\n",
       "                                     '{5},        pages = {950--982},        '\n",
       "                                     'title = {{The structure of terrestrial '\n",
       "                                     'bodies: Impact heating, corotation '\n",
       "                                     'limits, and synestias}},        volume = '\n",
       "                                     '{122},        year = {2017}        }',\n",
       "                           'doi': '10.1002/2016JE005239',\n",
       "                           'key': 'Lock2017',\n",
       "                           'openai_chunkoverlap': '30',\n",
       "                           'openai_chunksize': '800',\n",
       "                           'openai_encoding': 'cl100k_base',\n",
       "                           'openai_model': 'text-embedding-ada-002',\n",
       "                           'text': 'Super-Earths are also expected to form via '\n",
       "                                   'giant impacts in a manner similar to the '\n",
       "                                   'accretion of our terrestrial planets '\n",
       "                                   '[Chambers, 2010]. As noted in section 5, '\n",
       "                                   'Kokubo and Genda [2010] found that 0.25 to '\n",
       "                                   '1.75 MEarth planets had a similar average '\n",
       "                                   'angular velocity at the end of accretion. '\n",
       "                                   'Accounting for the planetary structure '\n",
       "                                   'assumptions made by Kokubo and Genda '\n",
       "                                   '[2010], the average AM of rocky planets '\n",
       "                                   'scales as ∼M5/3, where M is the planetary '\n",
       "                                   'mass. If this result holds for systems '\n",
       "                                   'that form more massive planets, the mean '\n",
       "                                   'AM of hot super-Earths is expected to '\n",
       "                                   'exceed the CoRoL, which scales with mass '\n",
       "                                   'by a similar power law (Figure 8). '\n",
       "                                   'Therefore, we expect that synestias also '\n",
       "                                   'form during the accretion of super-Earths. '\n",
       "                                   'Because some exoplanets are much closer to '\n",
       "                                   'their star, the cooling time of synestias '\n",
       "                                   'may be much longer than for planets in our '\n",
       "                                   'solar system. The large population of '\n",
       "                                   'exoplanets is used to test general planet '\n",
       "                                   'formation theories. If the physical '\n",
       "                                   'properties of hot rocky planets are an '\n",
       "                                   'important factor during general planet '\n",
       "                                   'formation, the large population of '\n",
       "                                   'super-Earths may be the most promising '\n",
       "                                   'target for detailed investigations.\\n'\n",
       "                                   'Giant Planets and Stars\\n'\n",
       "                                   'Angular momentum and disk formation are '\n",
       "                                   'central topics in the formation of stars '\n",
       "                                   '[e.g., Bodenheimer, 1995] and giant '\n",
       "                                   'planets [e.g., Peale and Canup, 2015]. In '\n",
       "                                   'most cases, disk evolution is studied '\n",
       "                                   'without explicitly calculating the '\n",
       "                                   'structure of the central object, as has '\n",
       "                                   'been the case with the lunar disk. '\n",
       "                                   'However, a few studies have calculated '\n",
       "                                   'structures for stars and giant planets '\n",
       "                                   'that are similar to the synestias found in '\n",
       "                                   'this work. Here we discuss examples of '\n",
       "                                   'such structures and compare them to '\n",
       "                                   'terrestrial synestias.\\n'\n",
       "                                   'Ostriker and Bodenheimer [1968] calculated '\n",
       "                                   'theoretical structures for massive white '\n",
       "                                   'dwarfs. They found solutions for rapidly '\n",
       "                                   'rotating structures with imposed AM '\n",
       "                                   'profiles, including cases that resulted in '\n",
       "                                   'a central quasi-corotating region and '\n",
       "                                   'differentially rotating outer region. They '\n",
       "                                   'argued that the structures, which exceed '\n",
       "                                   'the corotation limit calculated by James '\n",
       "                                   '[1964], are stable. The structures are '\n",
       "                                   'morphologically similar to the synestias '\n",
       "                                   'calculated here [e.g., Ostriker and '\n",
       "                                   'Bodenheimer, 1968, Figure 4]. These '\n",
       "                                   'differentially rotating structures are '\n",
       "                                   'consistent with the inferred angular '\n",
       "                                   'velocities of white dwarfs.\\n'\n",
       "                                   'Bodenheimer [1971] extended the previous '\n",
       "                                   'work to massive main sequence stars. By '\n",
       "                                   'systematically increasing the total AM, '\n",
       "                                   'with different imposed AM profiles, he '\n",
       "                                   'found that the equilibrium structures of '\n",
       "                                   'the stars varied significantly. Again, '\n",
       "                                   'solutions with differential rotation have '\n",
       "                                   'morphological similarities to synestias '\n",
       "                                   '(see his Figure 4). These structures are '\n",
       "                                   'expected to be transient, while main '\n",
       "                                   'sequence stars shed AM.'},\n",
       "              'score': 0.835295439,\n",
       "              'values': []}],\n",
       " 'namespace': ''}"
      ]
     },
     "execution_count": 44,
     "metadata": {},
     "output_type": "execute_result"
    }
   ],
   "source": [
    "result"
   ]
  },
  {
   "cell_type": "code",
   "execution_count": 55,
   "id": "6968e2ea-da72-4e1a-b900-cd88d05fc8ad",
   "metadata": {},
   "outputs": [
    {
     "data": {
      "text/plain": [
       "\" Here we present a new model for lunar origin within a terrestrial synestia, an impact-generated structure with Earth mass and composition that exceeds the corotation limit (CoRoL). Synestias are formed by a range of high-energy, high-AM collisions during the giant impact stage of planet formation (Lock & Stewart, 2017, hereafter LS17). A synestia is a distinct dynamical structure compared to a planet with a condensate-dominated circumplanetary disk, and, as a result, different processes dominate the early evolution of a synestia. Note that preliminary versions of this work (e.g., Lock et al., 2016; Petaev et al., 2016) used different nomenclature than is used here. In particular, synestias were referred to as continuous mantle-atmosphere-disk (MAD) structures.\\nAt present, no single calculation can fully capture the dynamics, thermodynamics, and chemistry of lunar accretion. Therefore, our approach is to link the physics and chemistry of satellite accretion from a terrestrial synestia by understanding the processes that control the pressure and temperature paths of the material that forms a moon. First, we determine the pressure-temperature conditions of a moon that grows by accretion of condensing silicate vapor. We then argue that the composition of the growing moon is set by equilibrium with BSE vapor over a specific range of pressures and temperatures determined by the structure and the phase relationships for material of BSE composition. Finally, we demonstrate that a variety of high-energy, high-AM giant impacts can generate initial conditions that can potentially lead to the formation of a lunar-mass moon with the observed geochemical characteristics of our Moon. Our model provides a promising pathway to explain all the key observables of the Moon discussed above: the isotopic similarity between Earth and the Moon; the magnitude and pattern of moderately volatile element depletion in the Moon; and the large mass of the Moon. If Earth had a large obliquity after the giant impact, then a single event may also explain the inclination of the lunar orbit and the present-day AM of the Earth-Moon system (?uk et al., 2016).\\nThis paper is organized as follows. First, we describe the structures that are generated by giant impacts (sections 2.1 and 2.2). Next, we discuss the processes that dominate the evolution of a synestia as it cools (section 2.3). We present calculations of the pressure field of a synestia and estimate the mass and location of the moon that is formed (sections 2.4 and 2.5). Then, we present a calculation of the phase diagram for BSE composition material over the pressure and temperature range of the outer portions of the structure (section 3). In section 4, we combine the results of the previous sections to propose a coupled dynamic and thermodynamic model for the formation of a moon from a terrestrial synestia and identify the pressure-temperature-spatial paths of condensates and growing moonlets. The chemical composition of the moon is estimated using the physical chemistry of the BSE system at the pressure and temperature predicted by our model. In section 5, we discuss formation of our Moon from a synestia as a new model for lunar origin. We discuss the consistency of such a model with observations and examine the possible range of giant impacts that may generate post-impact structures with the potential for forming our Moon. We present a short unified synopsis of our model for the origin of the Moon in section 6. Finally, we draw our major conclusions and describe future tests of our model (section 7). This work includes supporting information.\\n2 Structure and Dynamics of a Synestia A terrestrial synestia, as shown in Figures 1e?1g, cools by radiation from the photosphere, where the structure is optically thin. We estimated the optical depth of the outer edge of the structure and found that the photic surface is at low pressures (10?6 to 10?2 bar, supporting information section S2) and radiates at a temperature of about Trad=2,300 K, determined by the liquid-vapor phase boundary of BSE composition material (section 3). At the photosphere, the majority of the energy lost by radiation is compensated for by condensation of vapor, and the material state is a mixture of vapor and condensates (liquid droplets and/or solid dust). Since condensates are not supported by the pressure gradient of the vapor structure, they are not dynamically stable at the photic surface and will fall. Because the photospheric temperature is far above equilibrium with the incoming solar radiation, radiative cooling is efficient and drives a torrential rain of condensates into the higher-pressure regions of the structure. Initially, radiative cooling produces on the order of a lunar mass of silicate condensate per year, and the production rate of silicate rain near the photosphere of a synestia (a few centimeters an hour) is about an order of magnitude greater than heavy rainfall during hurricanes on Earth today.\\nThe size of droplets forming at the photosphere and falling is controlled by a balance between shear from the vapor and surface tension. We approximate the drag force on condensates by assuming that the droplets are in free fall such that\\n(3)\\nwhere FD is the drag force from the gas, mcond is the mass of the condensate, and g is the gravitational acceleration. The droplet size is then given by the balance between the drag force and surface tension over the droplet,\\n(4)\\nwhere ?cond is the density of the condensate, Rcond is the radius of the droplet, and ? is the surface tension. Bo?a et al. (2003) found that the surface tension for silica melts at 2,000 K is 0.3 N m?1. From the balance of the forces, the radius of the droplet is\\n(5)\\nThe gravitational acceleration at the photosphere ranges from 10 to 0.1 m s?2 due to the large spatial scale of the synestia. The corresponding range in droplet sizes is a few millimeters to a few centimeters.\\nAs discussed in section 2.1, there is a substantial pressure gradient force perpendicular to the rotation axis acting on the vapor in synestias. When condensates form from the vapor at the photosphere, they do not have sufficient AM to remain in a circular orbit at the same location. In the absence of vapor, the condensates would fall rapidly on significantly elliptical orbits in a plane through the center of mass. For the synestia shown in Figures 1-3, the initial eccentricity varies from 0.6 at the inner edge of the disk-like region to 0.27 at a cylindrical radius of 25 Mm. As they fall into the synestia, condensates interact with the vapor and experience drag which perturbs their motion.\\nTo calculate the motions of condensates in the synestia, we used a simple orbital evolution model, including an acceleration due to gas drag of the form\\n(6)\\nwhere ?vap is the density of the vapor, CD is the gas drag coefficient, v is the velocity vector of the condensate, and vvap is the velocity vector of the vapor. A set of simple classical dynamics equations were then integrated to find the position and velocity of the particle as a function of time. Full details of the calculation are given in Appendix A. Schematic illustration of the formation of the Moon within a terrestrial synestia. The key steps are as follows: (a) Formation of a terrestrial synestia by a high-energy, high-angular-momentum giant impact and accretion of a lunar seed that orbits within the vapor structure. (b) The moon grows on the timescale of about a year, accreting condensates and moonlets as the synestia radiatively cools. Moonlets chemically equilibrate with bulk silicate Earth vapor at the silicate vaporization temperature buffer. (c) As the system cools and contracts, after several to tens of years, the Moon separates from the synestia with a small captured atmosphere and begins to cool and solidify. The synestia contracts within the Roche limit and eventually falls below the corotation limit. For each step, half of the three-dimensional structure is shown with colors denoting the specific entropy of silicate material. The phase varies with specific entropy and pressure (see Figures 1c, 1d, 1g, and 1h). At lower pressures, farther out in the structure, condensates are shown in blue. The gray region is the core and the rotation axis is shown as a vertical column in the center of the structure. The photosphere of the synestia is dominated by condensates. The top right quadrant of (a) schematically shows turbulent convection in the terrestrial synestia with condensate-rich downwellings (blue arrows) cutting across the convective return flow (red arrows). All the stages are to scale.\\nThe Moon inherits its composition by forming from, and equilibrating with, BSE vapor. Moonlets chemically equilibrate at a pressure set by the mass of the vapor synestia and a temperature set by the onset of silicate vaporization. In our calculations, the moonlets equilibrate at tens of bar and between about 3,400 and 4,000 K. Equilibration between the lunar liquid and BSE vapor within a boundary layer has the potential to quantitatively produce the observed bulk lunar composition, including the magnitude and pattern of depletion in moderately volatile elements. At the high temperatures in the synestia, both lithophile and siderophile elements are incorporated into a single silicate fluid and there is no metal phase. Metal precipitates from the silicate fluid of the Moon to form the small lunar core. The outer portions of the synestia and the Moon share very similar isotopic compositions for both lithophile and siderophile elements. Formation from a sufficiently well-mixed synestia has the potential to explain the similarity between Earth and the Moon in their tungsten, and potentially other, isotopic compositions.\\nThe Moon is nearly fully grown before the synestia cools and contracts within the lunar orbit (Figure 18c). Eventually, the structure cools below the CoRoL and forms a corotating planet. Thus, Earth inherits the Moon's complement of moderately volatile elements.\\nTo complete our model, the AM of the Earth-Moon system must be reduced to the present-day value after lunar accretion. Multiple physical processes during lunar tidal evolution have been proposed to remove the required amount of AM from the Earth-Moon system (?uk & Stewart, 2012; ?uk et al., 2016; Tian et al., 2017; Wisdom & Tian, 2015).\\n7 Conclusions and Future Tests of the Model Title\\nThe Origin of the Moon Within a Terrestrial Synestia\\nAuthors\\nSimon J. Lock and Sarah T. Stewart\\nAbstract\\nThe giant impact hypothesis remains the leading theory for lunar origin. However, current models struggle to explain the Moon's composition and isotopic similarity with Earth. Here we present a new lunar origin model. High-energy, high-angular-momentum giant impacts can create a post-impact structure that exceeds the corotation limit, which defines the hottest thermal state and angular momentum possible for a corotating body. In a typical super-corotation-limit body, traditional definitions of mantle, atmosphere, and disk are not appropriate, and the body forms a new type of planetary structure, named a synestia. Using simulations of cooling synestias combined with dynamic, thermodynamic, and geochemical calculations, we show that satellite formation from a synestia can produce the main features of our Moon. We find that cooling drives mixing of the structure, and condensation generates moonlets that orbit within the synestia, surrounded by tens of bars of bulk silicate Earth vapor. The moonlets and growing moon are heated by the vapor until the first major element (Si) begins to vaporize and buffer the temperature. Moonlets equilibrate with bulk silicate Earth vapor at the temperature of silicate vaporization and the pressure of the structure, establishing the lunar isotopic composition and pattern of moderately volatile elements. Eventually, the cooling synestia recedes within the lunar orbit, terminating the main stage of lunar accretion. Our model shifts the paradigm for lunar origin from specifying a certain impact scenario to achieving a Moon-forming synestia. Giant impacts that produce potential Moon-forming synestias were common at the end of terrestrial planet formation.\\n\\nKey Points\\n* New model for lunar origin within an impact-generated synestia could explain the lunar composition\\n* Synestias are highly pressure supported and have different dynamics than condensate-dominated disks\\n* Moon equilibrates with bulk silicate Earth vapor at tens of bars and a temperature buffered by silicate vaporization\\nPlain Language Summary\\nThe favored theory for lunar origin is that a Mars-sized body hit the proto-Earth and injected a disk of material into orbit, out of which the Moon formed. In the traditional Giant Impact Model the Moon forms primarily from the body that hit Earth and is chemically different from Earth. However, Earth and the Moon are observed to be very similar, bringing the traditional model into question. We present a new model that explains the isotopic and chemical compositions of the Moon. In this model, a giant impact, that is more energetic than in the traditional model, drives the Earth into a fast-spinning, vaporized state that extends for tens of thousands of kilometers. Such planetary states are called synestias. As the synestia cools, material condenses and forms the Moon. Here we present physical and chemical models of the cooling synestia and predict the pressure and temperature history of the material that forms the Moon. We find that the Moon forms within the synestia, surrounded by Earth-composition vapor at pressures of tens of bars. The Moon orbits within the synestia long enough to chemically equilibrate with the vaporized Earth. Our calculations predict the chemical similarities between Earth and the Moon. Super-Earths are also expected to form via giant impacts in a manner similar to the accretion of our terrestrial planets [Chambers, 2010]. As noted in section 5, Kokubo and Genda [2010] found that 0.25 to 1.75 MEarth planets had a similar average angular velocity at the end of accretion. Accounting for the planetary structure assumptions made by Kokubo and Genda [2010], the average AM of rocky planets scales as ∼M5/3, where M is the planetary mass. If this result holds for systems that form more massive planets, the mean AM of hot super-Earths is expected to exceed the CoRoL, which scales with mass by a similar power law (Figure 8). Therefore, we expect that synestias also form during the accretion of super-Earths. Because some exoplanets are much closer to their star, the cooling time of synestias may be much longer than for planets in our solar system. The large population of exoplanets is used to test general planet formation theories. If the physical properties of hot rocky planets are an important factor during general planet formation, the large population of super-Earths may be the most promising target for detailed investigations.\\nGiant Planets and Stars\\nAngular momentum and disk formation are central topics in the formation of stars [e.g., Bodenheimer, 1995] and giant planets [e.g., Peale and Canup, 2015]. In most cases, disk evolution is studied without explicitly calculating the structure of the central object, as has been the case with the lunar disk. However, a few studies have calculated structures for stars and giant planets that are similar to the synestias found in this work. Here we discuss examples of such structures and compare them to terrestrial synestias.\\nOstriker and Bodenheimer [1968] calculated theoretical structures for massive white dwarfs. They found solutions for rapidly rotating structures with imposed AM profiles, including cases that resulted in a central quasi-corotating region and differentially rotating outer region. They argued that the structures, which exceed the corotation limit calculated by James [1964], are stable. The structures are morphologically similar to the synestias calculated here [e.g., Ostriker and Bodenheimer, 1968, Figure 4]. These differentially rotating structures are consistent with the inferred angular velocities of white dwarfs.\\nBodenheimer [1971] extended the previous work to massive main sequence stars. By systematically increasing the total AM, with different imposed AM profiles, he found that the equilibrium structures of the stars varied significantly. Again, solutions with differential rotation have morphological similarities to synestias (see his Figure 4). These structures are expected to be transient, while main sequence stars shed AM.\""
      ]
     },
     "execution_count": 55,
     "metadata": {},
     "output_type": "execute_result"
    }
   ],
   "source": [
    "textforchatgpt = ''\n",
    "for i in range(len(result['matches'])):\n",
    "    textforchatgpt=textforchatgpt+' '+(result['matches'][i]['metadata']['text'])\n",
    "textforchatgpt"
   ]
  },
  {
   "cell_type": "code",
   "execution_count": null,
   "id": "beab950e-27a3-4295-b410-f8a01377b513",
   "metadata": {},
   "outputs": [],
   "source": []
  },
  {
   "cell_type": "markdown",
   "id": "640740ec-d2f0-4ab0-8e70-930b8efec4e7",
   "metadata": {},
   "source": [
    "## Now pass this information to ChatGPT to augment its knowledge base\n",
    "\n",
    "This uses the ConversationChain function from the langchain package.\n",
    "Initialize a large language model conversation.\n",
    "You can lower the temperature if you want less verbose answers."
   ]
  },
  {
   "cell_type": "code",
   "execution_count": 37,
   "id": "232ad496-5915-462b-be0b-b5a66d4f3529",
   "metadata": {},
   "outputs": [],
   "source": [
    "llm = OpenAI(temperature=0.9)\n",
    "conversation = ConversationChain(llm=llm, verbose=True)"
   ]
  },
  {
   "cell_type": "code",
   "execution_count": 38,
   "id": "6715f6eb-53a3-448b-84b8-b00d69581eb5",
   "metadata": {},
   "outputs": [
    {
     "name": "stdout",
     "output_type": "stream",
     "text": [
      "\n",
      "\n",
      "\u001b[1m> Entering new ConversationChain chain...\u001b[0m\n",
      "Prompt after formatting:\n",
      "\u001b[32;1m\u001b[1;3mThe following is a friendly conversation between a human and an AI. The AI is talkative and provides lots of specific details from its context. If the AI does not know the answer to a question, it truthfully says it does not know.\n",
      "\n",
      "Current conversation:\n",
      "\n",
      "Human: I am a professor of planetary science. You are a very helpful question and answer assistant. I am going to give you text excerpt from science papers and ask you questions about the text.\n",
      "AI:\u001b[0m\n",
      "\n",
      "\u001b[1m> Finished chain.\u001b[0m\n"
     ]
    },
    {
     "data": {
      "text/plain": [
       "\" Hi Professor! It's nice to meet you. That sounds like a great way to get started! What type of text excerpt are you looking for?\""
      ]
     },
     "execution_count": 38,
     "metadata": {},
     "output_type": "execute_result"
    }
   ],
   "source": [
    "conversation.predict(input=\"I am a professor of planetary science. You are a very helpful question and answer assistant. I am going to give you text excerpt from science papers and ask you questions about the text.\")"
   ]
  },
  {
   "cell_type": "code",
   "execution_count": 56,
   "id": "f06008fe-d6be-47e3-a148-7477414be3e8",
   "metadata": {},
   "outputs": [
    {
     "name": "stdout",
     "output_type": "stream",
     "text": [
      "\n",
      "\n",
      "\u001b[1m> Entering new ConversationChain chain...\u001b[0m\n",
      "Prompt after formatting:\n",
      "\u001b[32;1m\u001b[1;3mThe following is a friendly conversation between a human and an AI. The AI is talkative and provides lots of specific details from its context. If the AI does not know the answer to a question, it truthfully says it does not know.\n",
      "\n",
      "Current conversation:\n",
      "Human: I am a professor of planetary science. You are a very helpful question and answer assistant. I am going to give you text excerpt from science papers and ask you questions about the text.\n",
      "AI:  Hi Professor! It's nice to meet you. That sounds like a great way to get started! What type of text excerpt are you looking for?\n",
      "Human: Here is my text: Here we present a new model for lunar origin within a terrestrial synestia, an impact-generated structure with Earth mass and composition that exceeds the corotation limit (CoRoL). Synestias are formed by a range of high-energy, high-AM collisions during the giant impact stage of planet formation (Lock & Stewart, 2017, hereafter LS17). A synestia is a distinct dynamical structure compared to a planet with a condensate-dominated circumplanetary disk, and, as a result, different processes dominate the early evolution of a synestia. Note that preliminary versions of this work (e.g., Lock et al., 2016; Petaev et al., 2016) used different nomenclature than is used here. In particular, synestias were referred to as continuous mantle-atmosphere-disk (MAD) structures.\n",
      "At present, no single calculation can fully capture the dynamics, thermodynamics, and chemistry of lunar accretion. Therefore, our approach is to link the physics and chemistry of satellite accretion from a terrestrial synestia by understanding the processes that control the pressure and temperature paths of the material that forms a moon. First, we determine the pressure-temperature conditions of a moon that grows by accretion of condensing silicate vapor. We then argue that the composition of the growing moon is set by equilibrium with BSE vapor over a specific range of pressures and temperatures determined by the structure and the phase relationships for material of BSE composition. Finally, we demonstrate that a variety of high-energy, high-AM giant impacts can generate initial conditions that can potentially lead to the formation of a lunar-mass moon with the observed geochemical characteristics of our Moon. Our model provides a promising pathway to explain all the key observables of the Moon discussed above: the isotopic similarity between Earth and the Moon; the magnitude and pattern of moderately volatile element depletion in the Moon; and the large mass of the Moon. If Earth had a large obliquity after the giant impact, then a single event may also explain the inclination of the lunar orbit and the present-day AM of the Earth-Moon system (?uk et al., 2016).\n",
      "This paper is organized as follows. First, we describe the structures that are generated by giant impacts (sections 2.1 and 2.2). Next, we discuss the processes that dominate the evolution of a synestia as it cools (section 2.3). We present calculations of the pressure field of a synestia and estimate the mass and location of the moon that is formed (sections 2.4 and 2.5). Then, we present a calculation of the phase diagram for BSE composition material over the pressure and temperature range of the outer portions of the structure (section 3). In section 4, we combine the results of the previous sections to propose a coupled dynamic and thermodynamic model for the formation of a moon from a terrestrial synestia and identify the pressure-temperature-spatial paths of condensates and growing moonlets. The chemical composition of the moon is estimated using the physical chemistry of the BSE system at the pressure and temperature predicted by our model. In section 5, we discuss formation of our Moon from a synestia as a new model for lunar origin. We discuss the consistency of such a model with observations and examine the possible range of giant impacts that may generate post-impact structures with the potential for forming our Moon. We present a short unified synopsis of our model for the origin of the Moon in section 6. Finally, we draw our major conclusions and describe future tests of our model (section 7). This work includes supporting information.\n",
      "2 Structure and Dynamics of a Synestia A terrestrial synestia, as shown in Figures 1e?1g, cools by radiation from the photosphere, where the structure is optically thin. We estimated the optical depth of the outer edge of the structure and found that the photic surface is at low pressures (10?6 to 10?2 bar, supporting information section S2) and radiates at a temperature of about Trad=2,300 K, determined by the liquid-vapor phase boundary of BSE composition material (section 3). At the photosphere, the majority of the energy lost by radiation is compensated for by condensation of vapor, and the material state is a mixture of vapor and condensates (liquid droplets and/or solid dust). Since condensates are not supported by the pressure gradient of the vapor structure, they are not dynamically stable at the photic surface and will fall. Because the photospheric temperature is far above equilibrium with the incoming solar radiation, radiative cooling is efficient and drives a torrential rain of condensates into the higher-pressure regions of the structure. Initially, radiative cooling produces on the order of a lunar mass of silicate condensate per year, and the production rate of silicate rain near the photosphere of a synestia (a few centimeters an hour) is about an order of magnitude greater than heavy rainfall during hurricanes on Earth today.\n",
      "The size of droplets forming at the photosphere and falling is controlled by a balance between shear from the vapor and surface tension. We approximate the drag force on condensates by assuming that the droplets are in free fall such that\n",
      "(3)\n",
      "where FD is the drag force from the gas, mcond is the mass of the condensate, and g is the gravitational acceleration. The droplet size is then given by the balance between the drag force and surface tension over the droplet,\n",
      "(4)\n",
      "where ?cond is the density of the condensate, Rcond is the radius of the droplet, and ? is the surface tension. Bo?a et al. (2003) found that the surface tension for silica melts at 2,000 K is 0.3 N m?1. From the balance of the forces, the radius of the droplet is\n",
      "(5)\n",
      "The gravitational acceleration at the photosphere ranges from 10 to 0.1 m s?2 due to the large spatial scale of the synestia. The corresponding range in droplet sizes is a few millimeters to a few centimeters.\n",
      "As discussed in section 2.1, there is a substantial pressure gradient force perpendicular to the rotation axis acting on the vapor in synestias. When condensates form from the vapor at the photosphere, they do not have sufficient AM to remain in a circular orbit at the same location. In the absence of vapor, the condensates would fall rapidly on significantly elliptical orbits in a plane through the center of mass. For the synestia shown in Figures 1-3, the initial eccentricity varies from 0.6 at the inner edge of the disk-like region to 0.27 at a cylindrical radius of 25 Mm. As they fall into the synestia, condensates interact with the vapor and experience drag which perturbs their motion.\n",
      "To calculate the motions of condensates in the synestia, we used a simple orbital evolution model, including an acceleration due to gas drag of the form\n",
      "(6)\n",
      "where ?vap is the density of the vapor, CD is the gas drag coefficient, v is the velocity vector of the condensate, and vvap is the velocity vector of the vapor. A set of simple classical dynamics equations were then integrated to find the position and velocity of the particle as a function of time. Full details of the calculation are given in Appendix A. Schematic illustration of the formation of the Moon within a terrestrial synestia. The key steps are as follows: (a) Formation of a terrestrial synestia by a high-energy, high-angular-momentum giant impact and accretion of a lunar seed that orbits within the vapor structure. (b) The moon grows on the timescale of about a year, accreting condensates and moonlets as the synestia radiatively cools. Moonlets chemically equilibrate with bulk silicate Earth vapor at the silicate vaporization temperature buffer. (c) As the system cools and contracts, after several to tens of years, the Moon separates from the synestia with a small captured atmosphere and begins to cool and solidify. The synestia contracts within the Roche limit and eventually falls below the corotation limit. For each step, half of the three-dimensional structure is shown with colors denoting the specific entropy of silicate material. The phase varies with specific entropy and pressure (see Figures 1c, 1d, 1g, and 1h). At lower pressures, farther out in the structure, condensates are shown in blue. The gray region is the core and the rotation axis is shown as a vertical column in the center of the structure. The photosphere of the synestia is dominated by condensates. The top right quadrant of (a) schematically shows turbulent convection in the terrestrial synestia with condensate-rich downwellings (blue arrows) cutting across the convective return flow (red arrows). All the stages are to scale.\n",
      "The Moon inherits its composition by forming from, and equilibrating with, BSE vapor. Moonlets chemically equilibrate at a pressure set by the mass of the vapor synestia and a temperature set by the onset of silicate vaporization. In our calculations, the moonlets equilibrate at tens of bar and between about 3,400 and 4,000 K. Equilibration between the lunar liquid and BSE vapor within a boundary layer has the potential to quantitatively produce the observed bulk lunar composition, including the magnitude and pattern of depletion in moderately volatile elements. At the high temperatures in the synestia, both lithophile and siderophile elements are incorporated into a single silicate fluid and there is no metal phase. Metal precipitates from the silicate fluid of the Moon to form the small lunar core. The outer portions of the synestia and the Moon share very similar isotopic compositions for both lithophile and siderophile elements. Formation from a sufficiently well-mixed synestia has the potential to explain the similarity between Earth and the Moon in their tungsten, and potentially other, isotopic compositions.\n",
      "The Moon is nearly fully grown before the synestia cools and contracts within the lunar orbit (Figure 18c). Eventually, the structure cools below the CoRoL and forms a corotating planet. Thus, Earth inherits the Moon's complement of moderately volatile elements.\n",
      "To complete our model, the AM of the Earth-Moon system must be reduced to the present-day value after lunar accretion. Multiple physical processes during lunar tidal evolution have been proposed to remove the required amount of AM from the Earth-Moon system (?uk & Stewart, 2012; ?uk et al., 2016; Tian et al., 2017; Wisdom & Tian, 2015).\n",
      "7 Conclusions and Future Tests of the Model Title\n",
      "The Origin of the Moon Within a Terrestrial Synestia\n",
      "Authors\n",
      "Simon J. Lock and Sarah T. Stewart\n",
      "Abstract\n",
      "The giant impact hypothesis remains the leading theory for lunar origin. However, current models struggle to explain the Moon's composition and isotopic similarity with Earth. Here we present a new lunar origin model. High-energy, high-angular-momentum giant impacts can create a post-impact structure that exceeds the corotation limit, which defines the hottest thermal state and angular momentum possible for a corotating body. In a typical super-corotation-limit body, traditional definitions of mantle, atmosphere, and disk are not appropriate, and the body forms a new type of planetary structure, named a synestia. Using simulations of cooling synestias combined with dynamic, thermodynamic, and geochemical calculations, we show that satellite formation from a synestia can produce the main features of our Moon. We find that cooling drives mixing of the structure, and condensation generates moonlets that orbit within the synestia, surrounded by tens of bars of bulk silicate Earth vapor. The moonlets and growing moon are heated by the vapor until the first major element (Si) begins to vaporize and buffer the temperature. Moonlets equilibrate with bulk silicate Earth vapor at the temperature of silicate vaporization and the pressure of the structure, establishing the lunar isotopic composition and pattern of moderately volatile elements. Eventually, the cooling synestia recedes within the lunar orbit, terminating the main stage of lunar accretion. Our model shifts the paradigm for lunar origin from specifying a certain impact scenario to achieving a Moon-forming synestia. Giant impacts that produce potential Moon-forming synestias were common at the end of terrestrial planet formation.\n",
      "\n",
      "Key Points\n",
      "* New model for lunar origin within an impact-generated synestia could explain the lunar composition\n",
      "* Synestias are highly pressure supported and have different dynamics than condensate-dominated disks\n",
      "* Moon equilibrates with bulk silicate Earth vapor at tens of bars and a temperature buffered by silicate vaporization\n",
      "Plain Language Summary\n",
      "The favored theory for lunar origin is that a Mars-sized body hit the proto-Earth and injected a disk of material into orbit, out of which the Moon formed. In the traditional Giant Impact Model the Moon forms primarily from the body that hit Earth and is chemically different from Earth. However, Earth and the Moon are observed to be very similar, bringing the traditional model into question. We present a new model that explains the isotopic and chemical compositions of the Moon. In this model, a giant impact, that is more energetic than in the traditional model, drives the Earth into a fast-spinning, vaporized state that extends for tens of thousands of kilometers. Such planetary states are called synestias. As the synestia cools, material condenses and forms the Moon. Here we present physical and chemical models of the cooling synestia and predict the pressure and temperature history of the material that forms the Moon. We find that the Moon forms within the synestia, surrounded by Earth-composition vapor at pressures of tens of bars. The Moon orbits within the synestia long enough to chemically equilibrate with the vaporized Earth. Our calculations predict the chemical similarities between Earth and the Moon. Super-Earths are also expected to form via giant impacts in a manner similar to the accretion of our terrestrial planets [Chambers, 2010]. As noted in section 5, Kokubo and Genda [2010] found that 0.25 to 1.75 MEarth planets had a similar average angular velocity at the end of accretion. Accounting for the planetary structure assumptions made by Kokubo and Genda [2010], the average AM of rocky planets scales as ∼M5/3, where M is the planetary mass. If this result holds for systems that form more massive planets, the mean AM of hot super-Earths is expected to exceed the CoRoL, which scales with mass by a similar power law (Figure 8). Therefore, we expect that synestias also form during the accretion of super-Earths. Because some exoplanets are much closer to their star, the cooling time of synestias may be much longer than for planets in our solar system. The large population of exoplanets is used to test general planet formation theories. If the physical properties of hot rocky planets are an important factor during general planet formation, the large population of super-Earths may be the most promising target for detailed investigations.\n",
      "Giant Planets and Stars\n",
      "Angular momentum and disk formation are central topics in the formation of stars [e.g., Bodenheimer, 1995] and giant planets [e.g., Peale and Canup, 2015]. In most cases, disk evolution is studied without explicitly calculating the structure of the central object, as has been the case with the lunar disk. However, a few studies have calculated structures for stars and giant planets that are similar to the synestias found in this work. Here we discuss examples of such structures and compare them to terrestrial synestias.\n",
      "Ostriker and Bodenheimer [1968] calculated theoretical structures for massive white dwarfs. They found solutions for rapidly rotating structures with imposed AM profiles, including cases that resulted in a central quasi-corotating region and differentially rotating outer region. They argued that the structures, which exceed the corotation limit calculated by James [1964], are stable. The structures are morphologically similar to the synestias calculated here [e.g., Ostriker and Bodenheimer, 1968, Figure 4]. These differentially rotating structures are consistent with the inferred angular velocities of white dwarfs.\n",
      "Bodenheimer [1971] extended the previous work to massive main sequence stars. By systematically increasing the total AM, with different imposed AM profiles, he found that the equilibrium structures of the stars varied significantly. Again, solutions with differential rotation have morphological similarities to synestias (see his Figure 4). These structures are expected to be transient, while main sequence stars shed AM. Now answer my question: What is the Earth like when it is transformed into a synestia?\n",
      "AI:\u001b[0m\n",
      "\n",
      "\u001b[1m> Finished chain.\u001b[0m\n"
     ]
    },
    {
     "data": {
      "text/plain": [
       "' When Earth is transformed into a synestia, it is an impact-generated structure with Earth mass and composition that exceeds the corotation limit (CoRoL). Synestias are formed by a range of high-energy, high-AM collisions during the giant impact stage of planet formation and have a distinct dynamical structure compared to a planet with a condensate-dominated circumplanetary disk. Synestias are composed of a mixture of vapor and condensates, and have a photosphere at low pressures (10^-6 to 10^-2 bar) that radiates at a temperature of about Trad = 2,300 K. Inside the synestia, the pressure gradient force perpendicular to the rotation axis is large enough to cause condensates to fall into the structure. As the synestia cools, condensates form from the vapor at the photosphere and interact with the vapor, which perturbs their motion. The size of the droplets is determined by the balance between shear from the vapor and surface tension. Eventually, the structure cools below the CoRoL and forms a corotating planet.'"
      ]
     },
     "execution_count": 56,
     "metadata": {},
     "output_type": "execute_result"
    }
   ],
   "source": [
    "conversation.predict(input='Here is my text:'+textforchatgpt+' Now answer my question: '+query)"
   ]
  },
  {
   "cell_type": "markdown",
   "id": "fdcd1cf5-52a6-41cc-834b-5d8e59c284a1",
   "metadata": {},
   "source": [
    "## This conversation has taken up most of the token limit\n",
    "\n",
    "You can start a new conversation and pass new information or shorten the amount of material being passed. Or ask GPT to summarize the previous material and just remember the summary."
   ]
  },
  {
   "cell_type": "code",
   "execution_count": null,
   "id": "f7a60214-4325-4d27-9b26-e6713406bf27",
   "metadata": {},
   "outputs": [],
   "source": []
  },
  {
   "cell_type": "markdown",
   "id": "24207039-0304-456d-8369-8461af8a1918",
   "metadata": {},
   "source": [
    "## Ask more questions\n",
    "\n",
    "Compare temperature = 0.9 to 0.0 below"
   ]
  },
  {
   "cell_type": "code",
   "execution_count": 62,
   "id": "34929595",
   "metadata": {},
   "outputs": [
    {
     "name": "stdout",
     "output_type": "stream",
     "text": [
      "\n",
      "\n",
      "\u001b[1m> Entering new ConversationChain chain...\u001b[0m\n",
      "Prompt after formatting:\n",
      "\u001b[32;1m\u001b[1;3mThe following is a friendly conversation between a human and an AI. The AI is talkative and provides lots of specific details from its context. If the AI does not know the answer to a question, it truthfully says it does not know.\n",
      "\n",
      "Current conversation:\n",
      "\n",
      "Human: I am a professor of planetary science. You are a very helpful question and answer assistant. I am going to give you text excerpt from science papers and ask you questions about the text.\n",
      "AI:\u001b[0m\n",
      "\n",
      "\u001b[1m> Finished chain.\u001b[0m\n"
     ]
    },
    {
     "data": {
      "text/plain": [
       "' That sounds like a great challenge! Please provide me with the text extract and your questions, and I will do my best to answer them.'"
      ]
     },
     "execution_count": 62,
     "metadata": {},
     "output_type": "execute_result"
    }
   ],
   "source": [
    "query = \"When does a synestia turn back into a planet?\"\n",
    "llm = OpenAI(temperature=0.9)\n",
    "conversation2 = ConversationChain(llm=llm, verbose=True)\n",
    "conversation2.predict(input=\"I am a professor of planetary science. \\\n",
    "You are a very helpful question and answer assistant. \\\n",
    "I am going to give you text excerpt from science papers and ask you questions about the text.\")"
   ]
  },
  {
   "cell_type": "code",
   "execution_count": null,
   "id": "79671c90-c83b-438d-a8f5-f93ddce2c6a8",
   "metadata": {},
   "outputs": [],
   "source": [
    "queryvector = openai.Embedding.create(input=query, engine=OPENAI_MODEL)[\"data\"][0][\"embedding\"]\n",
    "result = index.query(queryvector, top_k=4, include_metadata=True)\n",
    "textforchatgpt = ''\n",
    "for i in range(len(result['matches'])):\n",
    "    textforchatgpt=textforchatgpt+' '+(result['matches'][i]['metadata']['text'])\n"
   ]
  },
  {
   "cell_type": "code",
   "execution_count": 64,
   "id": "d2502590-456e-445b-8800-e5d1a9a0ddcf",
   "metadata": {},
   "outputs": [
    {
     "name": "stdout",
     "output_type": "stream",
     "text": [
      "\n",
      "\n",
      "\u001b[1m> Entering new ConversationChain chain...\u001b[0m\n",
      "Prompt after formatting:\n",
      "\u001b[32;1m\u001b[1;3mThe following is a friendly conversation between a human and an AI. The AI is talkative and provides lots of specific details from its context. If the AI does not know the answer to a question, it truthfully says it does not know.\n",
      "\n",
      "Current conversation:\n",
      "Human: I am a professor of planetary science. You are a very helpful question and answer assistant. I am going to give you text excerpt from science papers and ask you questions about the text.\n",
      "AI:  That sounds like a great challenge! Please provide me with the text extract and your questions, and I will do my best to answer them.\n",
      "Human: Here is the text:  Super-Earths are also expected to form via giant impacts in a manner similar to the accretion of our terrestrial planets [Chambers, 2010]. As noted in section 5, Kokubo and Genda [2010] found that 0.25 to 1.75 MEarth planets had a similar average angular velocity at the end of accretion. Accounting for the planetary structure assumptions made by Kokubo and Genda [2010], the average AM of rocky planets scales as ∼M5/3, where M is the planetary mass. If this result holds for systems that form more massive planets, the mean AM of hot super-Earths is expected to exceed the CoRoL, which scales with mass by a similar power law (Figure 8). Therefore, we expect that synestias also form during the accretion of super-Earths. Because some exoplanets are much closer to their star, the cooling time of synestias may be much longer than for planets in our solar system. The large population of exoplanets is used to test general planet formation theories. If the physical properties of hot rocky planets are an important factor during general planet formation, the large population of super-Earths may be the most promising target for detailed investigations.\n",
      "Giant Planets and Stars\n",
      "Angular momentum and disk formation are central topics in the formation of stars [e.g., Bodenheimer, 1995] and giant planets [e.g., Peale and Canup, 2015]. In most cases, disk evolution is studied without explicitly calculating the structure of the central object, as has been the case with the lunar disk. However, a few studies have calculated structures for stars and giant planets that are similar to the synestias found in this work. Here we discuss examples of such structures and compare them to terrestrial synestias.\n",
      "Ostriker and Bodenheimer [1968] calculated theoretical structures for massive white dwarfs. They found solutions for rapidly rotating structures with imposed AM profiles, including cases that resulted in a central quasi-corotating region and differentially rotating outer region. They argued that the structures, which exceed the corotation limit calculated by James [1964], are stable. The structures are morphologically similar to the synestias calculated here [e.g., Ostriker and Bodenheimer, 1968, Figure 4]. These differentially rotating structures are consistent with the inferred angular velocities of white dwarfs.\n",
      "Bodenheimer [1971] extended the previous work to massive main sequence stars. By systematically increasing the total AM, with different imposed AM profiles, he found that the equilibrium structures of the stars varied significantly. Again, solutions with differential rotation have morphological similarities to synestias (see his Figure 4). These structures are expected to be transient, while main sequence stars shed AM. Synestias formed by impacts are substantially vapor in their disk-like regions. Unless the body is very close to its parent star, the outer regions of the structure are expected to cool quickly by radiation. When the photosphere is controlled by silicate condensation, the radiative temperature is high [∼2300 K, Lock et al., 2016], but the energy that needs to be radiated to fall below the CoRoL is substantial. Condensing the vapor requires significant energy loss, both to cool to the phase boundary and to release the latent heat of vaporization of silicates. The contraction of the structure upon cooling also releases a comparable amount of potential energy. The amount of energy that needs to be radiated to fall below the CoRoL depends on how the internal energy is redistributed during cooling because the thermal structure affects the location of the CoRoL. We can estimate a lower limit on the timescale to cool below the CoRoL by considering just the potential energy difference between a post-impact structure and a corotating body of the same AM, with a thermal state slightly below the CoRoL. This approach neglects the loss of energy required to reduce the specific entropy of the outer layer of silicates (for a fixed AM) to below the CoRoL, which could be substantial. We assume a radiative temperature of ∼2300 K for silicate vapor. However, the surface area of the structure will change with time, and the difference in radiative surface area between the post-impact state and the sub-CoRoL structure is an order of magnitude. As a result, there is a substantial uncertainty in cooling time. Considering the full range of possible radiative surfaces, typical Earth-mass post-impact synestias would require a minimum time of order 101 to 103 years to cool to a state below the CoRoL.\n",
      "Alternatively, a synestia could be brought below the CoRoL by removing AM from the structure by tides, interactions with the host star [Murray and Dermott, 1999], or three body interactions with the host star and a moon [Goldreich, 1966; Touma and Wisdom, 1994; Ćuk and Stewart, 2012; Wisdom and Tian, 2015; Ćuk et al., 2016; Tian et al., 2017]. A significant reduction of AM by tides takes 103–109 years, depending on the mechanism, which is generally greater than the radiative cooling timescale. AM may also be redistributed by viscous spreading, but the whole structure would remain above the CoRoL (for a fixed thermal state). Thus, an impact-generated Earth-mass synestia would be stable for greater than tens to thousands of years.\n",
      "The timescale for a post-impact structure to cool to a fully condensed magma ocean is longer. To estimate the timescale, we calculate the difference in potential, kinetic, and internal energy between post-impact states and corotating, isentropic condensed planets of the same AM (first column in Figure 4). We again assume a radiative temperature of ∼2300 K and consider radiative surface areas ranging from the post-impact state to a fully condensed body. For highly extended post-impact states that are above the CoRoL, the cooling time to a magma ocean state is on the order of 102 to 103 years. For post-impact states produced by less energetic impacts that do not begin above the CoRoL, the timescale is shorter but still on the order of 102 to 103 years. Satellite accretion from the various post-impact structures described here can be fundamentally different than accretion from a canonical circumterrestrial disk. Post-impact synestias can have a much higher surface density in the disk-like region (e.g., Figure 9). Consequently, the cooling time of vapor beyond the Roche limit reaches timescales relevant for satellite formation. For example, Lock et al. [2016] estimate that substantial vapor pressure (greater than bars) can persist at the Roche limit for tens of years after the impact for the synestia example in Figures 9e–9h. Synestias do not have a shear boundary between the corotating region and disk-like region, and therefore, the whole structure can mix more easily than in the sub-CoRoL structures formed in canonical giant impacts. Condensates that decouple from the vapor in the lowest surface density regions beyond the Roche limit have angular momenta such that they orbit within the vapor structure. In some cases, the proto-Moon may form beyond the Roche limit and grow to near its final mass while remaining within the Earth-composition vapor of the synestia. Lock et al. [2016] proposed that accretion within an impact-generated synestia can explain the isotopic and chemical properties of our Moon. A future paper will investigate the evolution of synestias and the formation of our Moon.\n",
      "Planet Formation With Hot Rocky Bodies\n",
      "We have shown that partially vaporized post-impact bodies are common during accretion (section 5); however, the implications of the highly variable thermal and physical structures of such bodies on the formation of terrestrial planets have not been considered. Here we comment on a few key areas of planet formation affected by the possible range of planetary structures: accretion efficiency, core formation, and chemical evolution. Early studies of the formation of gas giant planets considered the contraction of a gas cloud. Bodenheimer [1977] found that it was possible to contract into a configuration with a central planet connected to a circumplanetary disk (e.g., his Figure 3). These structures, with different imposed AM profiles, are morphologically similar to the synestias generated here for terrestrial bodies. These early models of gas giant planet formation in isolation have been superseded by studies that include transfer of material from the protoplanetary disk (see review by Peale and Canup [2015]). In isolated contraction models, a so-called spin-out disk forms because the contracting body cannot absorb all of the original AM in the cloud. Ward and Canup [2010] proposed that although the early stages of the formation of circumplanetary disks around gas giants may include a spin-out stage, the system must transition to an accretion disk fed by the protoplanetary disk. The details of the formation of gas giants and their satellites are not settled, and the connection between the central planetary structure and satellite-forming disk has not been fully incorporated into existing models.\n",
      "In these examples of other rapidly rotating astrophysical objects, the structures share many similarities to the terrestrial synestias. They are continuous in density, monotonic in the angular velocity profile, and typically have extended or flared outer regions. However, unlike the terrestrial synestias, the angular velocity profiles for the outer regions of these other astrophysical bodies are not strictly Keplerian because of the imposed AM profile. In our impact-generated synestias, the AM profiles were not imposed. The distribution of mass and AM between the corotating region and disk-like region was determined by the impact conditions. As for the case of terrestrial bodies, if gas giant planets and stars form synestias during their formation and evolution, a full understanding of the evolution of the system may require direct consideration of the physical structure of the central object.\n",
      "7 Conclusions\n",
      "The physical structure of planetary bodies provides the essential framework needed to investigate planet formation and evolution. Assumptions about structure influence the inquiry of physical and chemical processes. The models for planetary structure that have been used to date have typically been simple, such as the constant-density bodies in N-body simulations of accretion. However, planetary structure can vary significantly during formation and evolution. In particular, during accretion terrestrial bodies can be forced into hot, rapidly rotating states by giant impacts, and there is a need for a better understanding of such structures.\n",
      "Calculating the structure of hot, rapidly rotating rocky bodies is particularly challenging because of the need to include substantial flattening and multiple phases in the equation of state. To overcome these difficulties, we have developed a flexible new code, HERCULES, that can calculate the physical structure of planetary bodies with varying thermal and rotational states. HERCULES solves for the axisymmetric shape and internal profile of a planet, given the mass, compositional layering, specific entropy profile, and AM.\n",
      "In this work, we investigated the structure of Earth-like bodies over a wide range of thermal and rotational states. We found that the size and shape of Earth-like bodies vary considerably over the expected range of internal energy and AM during accretion. We showed that there is a corotation limit for the structure of terrestrial bodies that depends on mass, compositional layering, thermal state, and AM. We have named super-CoRoL structures synestias. Synestias typically consist of an inner corotating region connected to an outer disk-like region. By analyzing the results of N-body simulations of planet formation, we found that high-entropy, highly vaporized post-impact states are common during terrestrial planet accretion. Given the estimated range of planetary AM during the giant impact stage, we find that many post-impact structures are likely to be synestias. Figure 7 presents an example calculation of a radiatively cooling synestia. In this example, the initial structure was generated by a collision between 0.572 and 0.468 MEarth bodies at 12.33 km s?1 with an impact parameter of 0.4. Unlike a canonical post-impact structure with a quasi-constant surface density in the disk-like region (Figure 3c), the surface density of the disk-like region of a typical synestia varies by orders of magnitude (Figures 3f and 7, bottom row). Hence, the distal regions cool much more rapidly than the interior regions. The synestia is strongly pressure supported and cooling of the outer regions reduces the pressure, and hence the pressure gradient force, causing the structure to contract over time. However, the pure-vapor region of the structure provides substantial pressure support to beyond the Roche limit for tens of years. In Figure 7, the boundary between the pure-vapor and vapor-dome regions is shown by the black line superimposed over the pressure contours. The two estimates for the satellite mass and the corresponding orbital radii are shown by a black circle (moon A) and blue diamond (moon B). In the top row of Figure 7, the size of moon A is to scale assuming a density of 3,000 kg m?3. Moon B is not shown to scale for clarity.Only answer based on this text. If you don't know, say you don't know.Question: When does a synestia turn back into a planet?\n",
      "AI:\u001b[0m\n",
      "\n",
      "\u001b[1m> Finished chain.\u001b[0m\n"
     ]
    },
    {
     "data": {
      "text/plain": [
       "' A synestia is expected to cool to a state below its corotation limit (CoRoL) in approximately 102 to 103 years, after which it can begin to transition back into a planet. This process involves the removal of angular momentum from the structure by tides, interactions with the host star, or three body interactions with the host star and a moon. Once the angular momentum has been reduced to a level below the CoRoL, the structure will begin to contract, releasing kinetic and potential energy, as well as reducing its specific entropy. The whole process is expected to take around 103-109 years to complete.'"
      ]
     },
     "execution_count": 64,
     "metadata": {},
     "output_type": "execute_result"
    }
   ],
   "source": [
    "conversation2.predict(input=\"Here is the text: \"+textforchatgpt+\\\n",
    "                      \"Only answer based on this text. If you don't know, say you don't know.\"+\\\n",
    "                      \"Question: \"+query)\n"
   ]
  },
  {
   "cell_type": "code",
   "execution_count": 65,
   "id": "ed1f9f24-1c04-43ef-9153-43f2d1ed7464",
   "metadata": {},
   "outputs": [
    {
     "name": "stdout",
     "output_type": "stream",
     "text": [
      "\n",
      "\n",
      "\u001b[1m> Entering new ConversationChain chain...\u001b[0m\n",
      "Prompt after formatting:\n",
      "\u001b[32;1m\u001b[1;3mThe following is a friendly conversation between a human and an AI. The AI is talkative and provides lots of specific details from its context. If the AI does not know the answer to a question, it truthfully says it does not know.\n",
      "\n",
      "Current conversation:\n",
      "Human: I am a professor of planetary science. You are a very helpful question and answer assistant. I am going to give you text excerpt from science papers and ask you questions about the text.\n",
      "AI:  That sounds like a great challenge! Please provide me with the text extract and your questions, and I will do my best to answer them.\n",
      "Human: Here is the text:  Super-Earths are also expected to form via giant impacts in a manner similar to the accretion of our terrestrial planets [Chambers, 2010]. As noted in section 5, Kokubo and Genda [2010] found that 0.25 to 1.75 MEarth planets had a similar average angular velocity at the end of accretion. Accounting for the planetary structure assumptions made by Kokubo and Genda [2010], the average AM of rocky planets scales as ∼M5/3, where M is the planetary mass. If this result holds for systems that form more massive planets, the mean AM of hot super-Earths is expected to exceed the CoRoL, which scales with mass by a similar power law (Figure 8). Therefore, we expect that synestias also form during the accretion of super-Earths. Because some exoplanets are much closer to their star, the cooling time of synestias may be much longer than for planets in our solar system. The large population of exoplanets is used to test general planet formation theories. If the physical properties of hot rocky planets are an important factor during general planet formation, the large population of super-Earths may be the most promising target for detailed investigations.\n",
      "Giant Planets and Stars\n",
      "Angular momentum and disk formation are central topics in the formation of stars [e.g., Bodenheimer, 1995] and giant planets [e.g., Peale and Canup, 2015]. In most cases, disk evolution is studied without explicitly calculating the structure of the central object, as has been the case with the lunar disk. However, a few studies have calculated structures for stars and giant planets that are similar to the synestias found in this work. Here we discuss examples of such structures and compare them to terrestrial synestias.\n",
      "Ostriker and Bodenheimer [1968] calculated theoretical structures for massive white dwarfs. They found solutions for rapidly rotating structures with imposed AM profiles, including cases that resulted in a central quasi-corotating region and differentially rotating outer region. They argued that the structures, which exceed the corotation limit calculated by James [1964], are stable. The structures are morphologically similar to the synestias calculated here [e.g., Ostriker and Bodenheimer, 1968, Figure 4]. These differentially rotating structures are consistent with the inferred angular velocities of white dwarfs.\n",
      "Bodenheimer [1971] extended the previous work to massive main sequence stars. By systematically increasing the total AM, with different imposed AM profiles, he found that the equilibrium structures of the stars varied significantly. Again, solutions with differential rotation have morphological similarities to synestias (see his Figure 4). These structures are expected to be transient, while main sequence stars shed AM. Synestias formed by impacts are substantially vapor in their disk-like regions. Unless the body is very close to its parent star, the outer regions of the structure are expected to cool quickly by radiation. When the photosphere is controlled by silicate condensation, the radiative temperature is high [∼2300 K, Lock et al., 2016], but the energy that needs to be radiated to fall below the CoRoL is substantial. Condensing the vapor requires significant energy loss, both to cool to the phase boundary and to release the latent heat of vaporization of silicates. The contraction of the structure upon cooling also releases a comparable amount of potential energy. The amount of energy that needs to be radiated to fall below the CoRoL depends on how the internal energy is redistributed during cooling because the thermal structure affects the location of the CoRoL. We can estimate a lower limit on the timescale to cool below the CoRoL by considering just the potential energy difference between a post-impact structure and a corotating body of the same AM, with a thermal state slightly below the CoRoL. This approach neglects the loss of energy required to reduce the specific entropy of the outer layer of silicates (for a fixed AM) to below the CoRoL, which could be substantial. We assume a radiative temperature of ∼2300 K for silicate vapor. However, the surface area of the structure will change with time, and the difference in radiative surface area between the post-impact state and the sub-CoRoL structure is an order of magnitude. As a result, there is a substantial uncertainty in cooling time. Considering the full range of possible radiative surfaces, typical Earth-mass post-impact synestias would require a minimum time of order 101 to 103 years to cool to a state below the CoRoL.\n",
      "Alternatively, a synestia could be brought below the CoRoL by removing AM from the structure by tides, interactions with the host star [Murray and Dermott, 1999], or three body interactions with the host star and a moon [Goldreich, 1966; Touma and Wisdom, 1994; Ćuk and Stewart, 2012; Wisdom and Tian, 2015; Ćuk et al., 2016; Tian et al., 2017]. A significant reduction of AM by tides takes 103–109 years, depending on the mechanism, which is generally greater than the radiative cooling timescale. AM may also be redistributed by viscous spreading, but the whole structure would remain above the CoRoL (for a fixed thermal state). Thus, an impact-generated Earth-mass synestia would be stable for greater than tens to thousands of years.\n",
      "The timescale for a post-impact structure to cool to a fully condensed magma ocean is longer. To estimate the timescale, we calculate the difference in potential, kinetic, and internal energy between post-impact states and corotating, isentropic condensed planets of the same AM (first column in Figure 4). We again assume a radiative temperature of ∼2300 K and consider radiative surface areas ranging from the post-impact state to a fully condensed body. For highly extended post-impact states that are above the CoRoL, the cooling time to a magma ocean state is on the order of 102 to 103 years. For post-impact states produced by less energetic impacts that do not begin above the CoRoL, the timescale is shorter but still on the order of 102 to 103 years. Satellite accretion from the various post-impact structures described here can be fundamentally different than accretion from a canonical circumterrestrial disk. Post-impact synestias can have a much higher surface density in the disk-like region (e.g., Figure 9). Consequently, the cooling time of vapor beyond the Roche limit reaches timescales relevant for satellite formation. For example, Lock et al. [2016] estimate that substantial vapor pressure (greater than bars) can persist at the Roche limit for tens of years after the impact for the synestia example in Figures 9e–9h. Synestias do not have a shear boundary between the corotating region and disk-like region, and therefore, the whole structure can mix more easily than in the sub-CoRoL structures formed in canonical giant impacts. Condensates that decouple from the vapor in the lowest surface density regions beyond the Roche limit have angular momenta such that they orbit within the vapor structure. In some cases, the proto-Moon may form beyond the Roche limit and grow to near its final mass while remaining within the Earth-composition vapor of the synestia. Lock et al. [2016] proposed that accretion within an impact-generated synestia can explain the isotopic and chemical properties of our Moon. A future paper will investigate the evolution of synestias and the formation of our Moon.\n",
      "Planet Formation With Hot Rocky Bodies\n",
      "We have shown that partially vaporized post-impact bodies are common during accretion (section 5); however, the implications of the highly variable thermal and physical structures of such bodies on the formation of terrestrial planets have not been considered. Here we comment on a few key areas of planet formation affected by the possible range of planetary structures: accretion efficiency, core formation, and chemical evolution. Early studies of the formation of gas giant planets considered the contraction of a gas cloud. Bodenheimer [1977] found that it was possible to contract into a configuration with a central planet connected to a circumplanetary disk (e.g., his Figure 3). These structures, with different imposed AM profiles, are morphologically similar to the synestias generated here for terrestrial bodies. These early models of gas giant planet formation in isolation have been superseded by studies that include transfer of material from the protoplanetary disk (see review by Peale and Canup [2015]). In isolated contraction models, a so-called spin-out disk forms because the contracting body cannot absorb all of the original AM in the cloud. Ward and Canup [2010] proposed that although the early stages of the formation of circumplanetary disks around gas giants may include a spin-out stage, the system must transition to an accretion disk fed by the protoplanetary disk. The details of the formation of gas giants and their satellites are not settled, and the connection between the central planetary structure and satellite-forming disk has not been fully incorporated into existing models.\n",
      "In these examples of other rapidly rotating astrophysical objects, the structures share many similarities to the terrestrial synestias. They are continuous in density, monotonic in the angular velocity profile, and typically have extended or flared outer regions. However, unlike the terrestrial synestias, the angular velocity profiles for the outer regions of these other astrophysical bodies are not strictly Keplerian because of the imposed AM profile. In our impact-generated synestias, the AM profiles were not imposed. The distribution of mass and AM between the corotating region and disk-like region was determined by the impact conditions. As for the case of terrestrial bodies, if gas giant planets and stars form synestias during their formation and evolution, a full understanding of the evolution of the system may require direct consideration of the physical structure of the central object.\n",
      "7 Conclusions\n",
      "The physical structure of planetary bodies provides the essential framework needed to investigate planet formation and evolution. Assumptions about structure influence the inquiry of physical and chemical processes. The models for planetary structure that have been used to date have typically been simple, such as the constant-density bodies in N-body simulations of accretion. However, planetary structure can vary significantly during formation and evolution. In particular, during accretion terrestrial bodies can be forced into hot, rapidly rotating states by giant impacts, and there is a need for a better understanding of such structures.\n",
      "Calculating the structure of hot, rapidly rotating rocky bodies is particularly challenging because of the need to include substantial flattening and multiple phases in the equation of state. To overcome these difficulties, we have developed a flexible new code, HERCULES, that can calculate the physical structure of planetary bodies with varying thermal and rotational states. HERCULES solves for the axisymmetric shape and internal profile of a planet, given the mass, compositional layering, specific entropy profile, and AM.\n",
      "In this work, we investigated the structure of Earth-like bodies over a wide range of thermal and rotational states. We found that the size and shape of Earth-like bodies vary considerably over the expected range of internal energy and AM during accretion. We showed that there is a corotation limit for the structure of terrestrial bodies that depends on mass, compositional layering, thermal state, and AM. We have named super-CoRoL structures synestias. Synestias typically consist of an inner corotating region connected to an outer disk-like region. By analyzing the results of N-body simulations of planet formation, we found that high-entropy, highly vaporized post-impact states are common during terrestrial planet accretion. Given the estimated range of planetary AM during the giant impact stage, we find that many post-impact structures are likely to be synestias. Figure 7 presents an example calculation of a radiatively cooling synestia. In this example, the initial structure was generated by a collision between 0.572 and 0.468 MEarth bodies at 12.33 km s?1 with an impact parameter of 0.4. Unlike a canonical post-impact structure with a quasi-constant surface density in the disk-like region (Figure 3c), the surface density of the disk-like region of a typical synestia varies by orders of magnitude (Figures 3f and 7, bottom row). Hence, the distal regions cool much more rapidly than the interior regions. The synestia is strongly pressure supported and cooling of the outer regions reduces the pressure, and hence the pressure gradient force, causing the structure to contract over time. However, the pure-vapor region of the structure provides substantial pressure support to beyond the Roche limit for tens of years. In Figure 7, the boundary between the pure-vapor and vapor-dome regions is shown by the black line superimposed over the pressure contours. The two estimates for the satellite mass and the corresponding orbital radii are shown by a black circle (moon A) and blue diamond (moon B). In the top row of Figure 7, the size of moon A is to scale assuming a density of 3,000 kg m?3. Moon B is not shown to scale for clarity.Only answer based on this text. If you don't know, say you don't know.Question: When does a synestia turn back into a planet?\n",
      "AI:  A synestia is expected to cool to a state below its corotation limit (CoRoL) in approximately 102 to 103 years, after which it can begin to transition back into a planet. This process involves the removal of angular momentum from the structure by tides, interactions with the host star, or three body interactions with the host star and a moon. Once the angular momentum has been reduced to a level below the CoRoL, the structure will begin to contract, releasing kinetic and potential energy, as well as reducing its specific entropy. The whole process is expected to take around 103-109 years to complete.\n",
      "Human: Is Mars a synestia?\n",
      "AI:\u001b[0m\n",
      "\n",
      "\u001b[1m> Finished chain.\u001b[0m\n"
     ]
    },
    {
     "data": {
      "text/plain": [
       "'No, Mars is not a synestia. Synestias are post-impact states produced during the accretion of terrestrial planets. Mars has been in its current structure for around 4.5 billion years and has not experienced any kind of impact large enough to produce a synestia.'"
      ]
     },
     "execution_count": 65,
     "metadata": {},
     "output_type": "execute_result"
    }
   ],
   "source": [
    "conversation2.predict(input=\"Is Mars a synestia?\")\n"
   ]
  },
  {
   "cell_type": "code",
   "execution_count": 66,
   "id": "afca0b99-948e-46bf-8701-fcc698566eed",
   "metadata": {},
   "outputs": [
    {
     "name": "stdout",
     "output_type": "stream",
     "text": [
      "\n",
      "\n",
      "\u001b[1m> Entering new ConversationChain chain...\u001b[0m\n",
      "Prompt after formatting:\n",
      "\u001b[32;1m\u001b[1;3mThe following is a friendly conversation between a human and an AI. The AI is talkative and provides lots of specific details from its context. If the AI does not know the answer to a question, it truthfully says it does not know.\n",
      "\n",
      "Current conversation:\n",
      "Human: I am a professor of planetary science. You are a very helpful question and answer assistant. I am going to give you text excerpt from science papers and ask you questions about the text.\n",
      "AI:  That sounds like a great challenge! Please provide me with the text extract and your questions, and I will do my best to answer them.\n",
      "Human: Here is the text:  Super-Earths are also expected to form via giant impacts in a manner similar to the accretion of our terrestrial planets [Chambers, 2010]. As noted in section 5, Kokubo and Genda [2010] found that 0.25 to 1.75 MEarth planets had a similar average angular velocity at the end of accretion. Accounting for the planetary structure assumptions made by Kokubo and Genda [2010], the average AM of rocky planets scales as ∼M5/3, where M is the planetary mass. If this result holds for systems that form more massive planets, the mean AM of hot super-Earths is expected to exceed the CoRoL, which scales with mass by a similar power law (Figure 8). Therefore, we expect that synestias also form during the accretion of super-Earths. Because some exoplanets are much closer to their star, the cooling time of synestias may be much longer than for planets in our solar system. The large population of exoplanets is used to test general planet formation theories. If the physical properties of hot rocky planets are an important factor during general planet formation, the large population of super-Earths may be the most promising target for detailed investigations.\n",
      "Giant Planets and Stars\n",
      "Angular momentum and disk formation are central topics in the formation of stars [e.g., Bodenheimer, 1995] and giant planets [e.g., Peale and Canup, 2015]. In most cases, disk evolution is studied without explicitly calculating the structure of the central object, as has been the case with the lunar disk. However, a few studies have calculated structures for stars and giant planets that are similar to the synestias found in this work. Here we discuss examples of such structures and compare them to terrestrial synestias.\n",
      "Ostriker and Bodenheimer [1968] calculated theoretical structures for massive white dwarfs. They found solutions for rapidly rotating structures with imposed AM profiles, including cases that resulted in a central quasi-corotating region and differentially rotating outer region. They argued that the structures, which exceed the corotation limit calculated by James [1964], are stable. The structures are morphologically similar to the synestias calculated here [e.g., Ostriker and Bodenheimer, 1968, Figure 4]. These differentially rotating structures are consistent with the inferred angular velocities of white dwarfs.\n",
      "Bodenheimer [1971] extended the previous work to massive main sequence stars. By systematically increasing the total AM, with different imposed AM profiles, he found that the equilibrium structures of the stars varied significantly. Again, solutions with differential rotation have morphological similarities to synestias (see his Figure 4). These structures are expected to be transient, while main sequence stars shed AM. Synestias formed by impacts are substantially vapor in their disk-like regions. Unless the body is very close to its parent star, the outer regions of the structure are expected to cool quickly by radiation. When the photosphere is controlled by silicate condensation, the radiative temperature is high [∼2300 K, Lock et al., 2016], but the energy that needs to be radiated to fall below the CoRoL is substantial. Condensing the vapor requires significant energy loss, both to cool to the phase boundary and to release the latent heat of vaporization of silicates. The contraction of the structure upon cooling also releases a comparable amount of potential energy. The amount of energy that needs to be radiated to fall below the CoRoL depends on how the internal energy is redistributed during cooling because the thermal structure affects the location of the CoRoL. We can estimate a lower limit on the timescale to cool below the CoRoL by considering just the potential energy difference between a post-impact structure and a corotating body of the same AM, with a thermal state slightly below the CoRoL. This approach neglects the loss of energy required to reduce the specific entropy of the outer layer of silicates (for a fixed AM) to below the CoRoL, which could be substantial. We assume a radiative temperature of ∼2300 K for silicate vapor. However, the surface area of the structure will change with time, and the difference in radiative surface area between the post-impact state and the sub-CoRoL structure is an order of magnitude. As a result, there is a substantial uncertainty in cooling time. Considering the full range of possible radiative surfaces, typical Earth-mass post-impact synestias would require a minimum time of order 101 to 103 years to cool to a state below the CoRoL.\n",
      "Alternatively, a synestia could be brought below the CoRoL by removing AM from the structure by tides, interactions with the host star [Murray and Dermott, 1999], or three body interactions with the host star and a moon [Goldreich, 1966; Touma and Wisdom, 1994; Ćuk and Stewart, 2012; Wisdom and Tian, 2015; Ćuk et al., 2016; Tian et al., 2017]. A significant reduction of AM by tides takes 103–109 years, depending on the mechanism, which is generally greater than the radiative cooling timescale. AM may also be redistributed by viscous spreading, but the whole structure would remain above the CoRoL (for a fixed thermal state). Thus, an impact-generated Earth-mass synestia would be stable for greater than tens to thousands of years.\n",
      "The timescale for a post-impact structure to cool to a fully condensed magma ocean is longer. To estimate the timescale, we calculate the difference in potential, kinetic, and internal energy between post-impact states and corotating, isentropic condensed planets of the same AM (first column in Figure 4). We again assume a radiative temperature of ∼2300 K and consider radiative surface areas ranging from the post-impact state to a fully condensed body. For highly extended post-impact states that are above the CoRoL, the cooling time to a magma ocean state is on the order of 102 to 103 years. For post-impact states produced by less energetic impacts that do not begin above the CoRoL, the timescale is shorter but still on the order of 102 to 103 years. Satellite accretion from the various post-impact structures described here can be fundamentally different than accretion from a canonical circumterrestrial disk. Post-impact synestias can have a much higher surface density in the disk-like region (e.g., Figure 9). Consequently, the cooling time of vapor beyond the Roche limit reaches timescales relevant for satellite formation. For example, Lock et al. [2016] estimate that substantial vapor pressure (greater than bars) can persist at the Roche limit for tens of years after the impact for the synestia example in Figures 9e–9h. Synestias do not have a shear boundary between the corotating region and disk-like region, and therefore, the whole structure can mix more easily than in the sub-CoRoL structures formed in canonical giant impacts. Condensates that decouple from the vapor in the lowest surface density regions beyond the Roche limit have angular momenta such that they orbit within the vapor structure. In some cases, the proto-Moon may form beyond the Roche limit and grow to near its final mass while remaining within the Earth-composition vapor of the synestia. Lock et al. [2016] proposed that accretion within an impact-generated synestia can explain the isotopic and chemical properties of our Moon. A future paper will investigate the evolution of synestias and the formation of our Moon.\n",
      "Planet Formation With Hot Rocky Bodies\n",
      "We have shown that partially vaporized post-impact bodies are common during accretion (section 5); however, the implications of the highly variable thermal and physical structures of such bodies on the formation of terrestrial planets have not been considered. Here we comment on a few key areas of planet formation affected by the possible range of planetary structures: accretion efficiency, core formation, and chemical evolution. Early studies of the formation of gas giant planets considered the contraction of a gas cloud. Bodenheimer [1977] found that it was possible to contract into a configuration with a central planet connected to a circumplanetary disk (e.g., his Figure 3). These structures, with different imposed AM profiles, are morphologically similar to the synestias generated here for terrestrial bodies. These early models of gas giant planet formation in isolation have been superseded by studies that include transfer of material from the protoplanetary disk (see review by Peale and Canup [2015]). In isolated contraction models, a so-called spin-out disk forms because the contracting body cannot absorb all of the original AM in the cloud. Ward and Canup [2010] proposed that although the early stages of the formation of circumplanetary disks around gas giants may include a spin-out stage, the system must transition to an accretion disk fed by the protoplanetary disk. The details of the formation of gas giants and their satellites are not settled, and the connection between the central planetary structure and satellite-forming disk has not been fully incorporated into existing models.\n",
      "In these examples of other rapidly rotating astrophysical objects, the structures share many similarities to the terrestrial synestias. They are continuous in density, monotonic in the angular velocity profile, and typically have extended or flared outer regions. However, unlike the terrestrial synestias, the angular velocity profiles for the outer regions of these other astrophysical bodies are not strictly Keplerian because of the imposed AM profile. In our impact-generated synestias, the AM profiles were not imposed. The distribution of mass and AM between the corotating region and disk-like region was determined by the impact conditions. As for the case of terrestrial bodies, if gas giant planets and stars form synestias during their formation and evolution, a full understanding of the evolution of the system may require direct consideration of the physical structure of the central object.\n",
      "7 Conclusions\n",
      "The physical structure of planetary bodies provides the essential framework needed to investigate planet formation and evolution. Assumptions about structure influence the inquiry of physical and chemical processes. The models for planetary structure that have been used to date have typically been simple, such as the constant-density bodies in N-body simulations of accretion. However, planetary structure can vary significantly during formation and evolution. In particular, during accretion terrestrial bodies can be forced into hot, rapidly rotating states by giant impacts, and there is a need for a better understanding of such structures.\n",
      "Calculating the structure of hot, rapidly rotating rocky bodies is particularly challenging because of the need to include substantial flattening and multiple phases in the equation of state. To overcome these difficulties, we have developed a flexible new code, HERCULES, that can calculate the physical structure of planetary bodies with varying thermal and rotational states. HERCULES solves for the axisymmetric shape and internal profile of a planet, given the mass, compositional layering, specific entropy profile, and AM.\n",
      "In this work, we investigated the structure of Earth-like bodies over a wide range of thermal and rotational states. We found that the size and shape of Earth-like bodies vary considerably over the expected range of internal energy and AM during accretion. We showed that there is a corotation limit for the structure of terrestrial bodies that depends on mass, compositional layering, thermal state, and AM. We have named super-CoRoL structures synestias. Synestias typically consist of an inner corotating region connected to an outer disk-like region. By analyzing the results of N-body simulations of planet formation, we found that high-entropy, highly vaporized post-impact states are common during terrestrial planet accretion. Given the estimated range of planetary AM during the giant impact stage, we find that many post-impact structures are likely to be synestias. Figure 7 presents an example calculation of a radiatively cooling synestia. In this example, the initial structure was generated by a collision between 0.572 and 0.468 MEarth bodies at 12.33 km s?1 with an impact parameter of 0.4. Unlike a canonical post-impact structure with a quasi-constant surface density in the disk-like region (Figure 3c), the surface density of the disk-like region of a typical synestia varies by orders of magnitude (Figures 3f and 7, bottom row). Hence, the distal regions cool much more rapidly than the interior regions. The synestia is strongly pressure supported and cooling of the outer regions reduces the pressure, and hence the pressure gradient force, causing the structure to contract over time. However, the pure-vapor region of the structure provides substantial pressure support to beyond the Roche limit for tens of years. In Figure 7, the boundary between the pure-vapor and vapor-dome regions is shown by the black line superimposed over the pressure contours. The two estimates for the satellite mass and the corresponding orbital radii are shown by a black circle (moon A) and blue diamond (moon B). In the top row of Figure 7, the size of moon A is to scale assuming a density of 3,000 kg m?3. Moon B is not shown to scale for clarity.Only answer based on this text. If you don't know, say you don't know.Question: When does a synestia turn back into a planet?\n",
      "AI:  A synestia is expected to cool to a state below its corotation limit (CoRoL) in approximately 102 to 103 years, after which it can begin to transition back into a planet. This process involves the removal of angular momentum from the structure by tides, interactions with the host star, or three body interactions with the host star and a moon. Once the angular momentum has been reduced to a level below the CoRoL, the structure will begin to contract, releasing kinetic and potential energy, as well as reducing its specific entropy. The whole process is expected to take around 103-109 years to complete.\n",
      "Human: Is Mars a synestia?\n",
      "AI: No, Mars is not a synestia. Synestias are post-impact states produced during the accretion of terrestrial planets. Mars has been in its current structure for around 4.5 billion years and has not experienced any kind of impact large enough to produce a synestia.\n",
      "Human: Can my cat turn into a synestia?\n",
      "AI:\u001b[0m\n",
      "\n",
      "\u001b[1m> Finished chain.\u001b[0m\n"
     ]
    },
    {
     "data": {
      "text/plain": [
       "' No, animals and living beings cannot turn into synestias. Synestias are post-impact states produced during the accretion of terrestrial planets and are made up of rock and/or metal vapor.'"
      ]
     },
     "execution_count": 66,
     "metadata": {},
     "output_type": "execute_result"
    }
   ],
   "source": [
    "conversation2.predict(input=\"Can my cat turn into a synestia?\")\n"
   ]
  },
  {
   "cell_type": "code",
   "execution_count": 67,
   "id": "ef0f7909-a898-4d40-ab1b-e9e2a746dd7e",
   "metadata": {},
   "outputs": [
    {
     "name": "stdout",
     "output_type": "stream",
     "text": [
      "\n",
      "\n",
      "\u001b[1m> Entering new ConversationChain chain...\u001b[0m\n",
      "Prompt after formatting:\n",
      "\u001b[32;1m\u001b[1;3mThe following is a friendly conversation between a human and an AI. The AI is talkative and provides lots of specific details from its context. If the AI does not know the answer to a question, it truthfully says it does not know.\n",
      "\n",
      "Current conversation:\n",
      "Human: I am a professor of planetary science. You are a very helpful question and answer assistant. I am going to give you text excerpt from science papers and ask you questions about the text.\n",
      "AI:  That sounds like a great challenge! Please provide me with the text extract and your questions, and I will do my best to answer them.\n",
      "Human: Here is the text:  Super-Earths are also expected to form via giant impacts in a manner similar to the accretion of our terrestrial planets [Chambers, 2010]. As noted in section 5, Kokubo and Genda [2010] found that 0.25 to 1.75 MEarth planets had a similar average angular velocity at the end of accretion. Accounting for the planetary structure assumptions made by Kokubo and Genda [2010], the average AM of rocky planets scales as ∼M5/3, where M is the planetary mass. If this result holds for systems that form more massive planets, the mean AM of hot super-Earths is expected to exceed the CoRoL, which scales with mass by a similar power law (Figure 8). Therefore, we expect that synestias also form during the accretion of super-Earths. Because some exoplanets are much closer to their star, the cooling time of synestias may be much longer than for planets in our solar system. The large population of exoplanets is used to test general planet formation theories. If the physical properties of hot rocky planets are an important factor during general planet formation, the large population of super-Earths may be the most promising target for detailed investigations.\n",
      "Giant Planets and Stars\n",
      "Angular momentum and disk formation are central topics in the formation of stars [e.g., Bodenheimer, 1995] and giant planets [e.g., Peale and Canup, 2015]. In most cases, disk evolution is studied without explicitly calculating the structure of the central object, as has been the case with the lunar disk. However, a few studies have calculated structures for stars and giant planets that are similar to the synestias found in this work. Here we discuss examples of such structures and compare them to terrestrial synestias.\n",
      "Ostriker and Bodenheimer [1968] calculated theoretical structures for massive white dwarfs. They found solutions for rapidly rotating structures with imposed AM profiles, including cases that resulted in a central quasi-corotating region and differentially rotating outer region. They argued that the structures, which exceed the corotation limit calculated by James [1964], are stable. The structures are morphologically similar to the synestias calculated here [e.g., Ostriker and Bodenheimer, 1968, Figure 4]. These differentially rotating structures are consistent with the inferred angular velocities of white dwarfs.\n",
      "Bodenheimer [1971] extended the previous work to massive main sequence stars. By systematically increasing the total AM, with different imposed AM profiles, he found that the equilibrium structures of the stars varied significantly. Again, solutions with differential rotation have morphological similarities to synestias (see his Figure 4). These structures are expected to be transient, while main sequence stars shed AM. Synestias formed by impacts are substantially vapor in their disk-like regions. Unless the body is very close to its parent star, the outer regions of the structure are expected to cool quickly by radiation. When the photosphere is controlled by silicate condensation, the radiative temperature is high [∼2300 K, Lock et al., 2016], but the energy that needs to be radiated to fall below the CoRoL is substantial. Condensing the vapor requires significant energy loss, both to cool to the phase boundary and to release the latent heat of vaporization of silicates. The contraction of the structure upon cooling also releases a comparable amount of potential energy. The amount of energy that needs to be radiated to fall below the CoRoL depends on how the internal energy is redistributed during cooling because the thermal structure affects the location of the CoRoL. We can estimate a lower limit on the timescale to cool below the CoRoL by considering just the potential energy difference between a post-impact structure and a corotating body of the same AM, with a thermal state slightly below the CoRoL. This approach neglects the loss of energy required to reduce the specific entropy of the outer layer of silicates (for a fixed AM) to below the CoRoL, which could be substantial. We assume a radiative temperature of ∼2300 K for silicate vapor. However, the surface area of the structure will change with time, and the difference in radiative surface area between the post-impact state and the sub-CoRoL structure is an order of magnitude. As a result, there is a substantial uncertainty in cooling time. Considering the full range of possible radiative surfaces, typical Earth-mass post-impact synestias would require a minimum time of order 101 to 103 years to cool to a state below the CoRoL.\n",
      "Alternatively, a synestia could be brought below the CoRoL by removing AM from the structure by tides, interactions with the host star [Murray and Dermott, 1999], or three body interactions with the host star and a moon [Goldreich, 1966; Touma and Wisdom, 1994; Ćuk and Stewart, 2012; Wisdom and Tian, 2015; Ćuk et al., 2016; Tian et al., 2017]. A significant reduction of AM by tides takes 103–109 years, depending on the mechanism, which is generally greater than the radiative cooling timescale. AM may also be redistributed by viscous spreading, but the whole structure would remain above the CoRoL (for a fixed thermal state). Thus, an impact-generated Earth-mass synestia would be stable for greater than tens to thousands of years.\n",
      "The timescale for a post-impact structure to cool to a fully condensed magma ocean is longer. To estimate the timescale, we calculate the difference in potential, kinetic, and internal energy between post-impact states and corotating, isentropic condensed planets of the same AM (first column in Figure 4). We again assume a radiative temperature of ∼2300 K and consider radiative surface areas ranging from the post-impact state to a fully condensed body. For highly extended post-impact states that are above the CoRoL, the cooling time to a magma ocean state is on the order of 102 to 103 years. For post-impact states produced by less energetic impacts that do not begin above the CoRoL, the timescale is shorter but still on the order of 102 to 103 years. Satellite accretion from the various post-impact structures described here can be fundamentally different than accretion from a canonical circumterrestrial disk. Post-impact synestias can have a much higher surface density in the disk-like region (e.g., Figure 9). Consequently, the cooling time of vapor beyond the Roche limit reaches timescales relevant for satellite formation. For example, Lock et al. [2016] estimate that substantial vapor pressure (greater than bars) can persist at the Roche limit for tens of years after the impact for the synestia example in Figures 9e–9h. Synestias do not have a shear boundary between the corotating region and disk-like region, and therefore, the whole structure can mix more easily than in the sub-CoRoL structures formed in canonical giant impacts. Condensates that decouple from the vapor in the lowest surface density regions beyond the Roche limit have angular momenta such that they orbit within the vapor structure. In some cases, the proto-Moon may form beyond the Roche limit and grow to near its final mass while remaining within the Earth-composition vapor of the synestia. Lock et al. [2016] proposed that accretion within an impact-generated synestia can explain the isotopic and chemical properties of our Moon. A future paper will investigate the evolution of synestias and the formation of our Moon.\n",
      "Planet Formation With Hot Rocky Bodies\n",
      "We have shown that partially vaporized post-impact bodies are common during accretion (section 5); however, the implications of the highly variable thermal and physical structures of such bodies on the formation of terrestrial planets have not been considered. Here we comment on a few key areas of planet formation affected by the possible range of planetary structures: accretion efficiency, core formation, and chemical evolution. Early studies of the formation of gas giant planets considered the contraction of a gas cloud. Bodenheimer [1977] found that it was possible to contract into a configuration with a central planet connected to a circumplanetary disk (e.g., his Figure 3). These structures, with different imposed AM profiles, are morphologically similar to the synestias generated here for terrestrial bodies. These early models of gas giant planet formation in isolation have been superseded by studies that include transfer of material from the protoplanetary disk (see review by Peale and Canup [2015]). In isolated contraction models, a so-called spin-out disk forms because the contracting body cannot absorb all of the original AM in the cloud. Ward and Canup [2010] proposed that although the early stages of the formation of circumplanetary disks around gas giants may include a spin-out stage, the system must transition to an accretion disk fed by the protoplanetary disk. The details of the formation of gas giants and their satellites are not settled, and the connection between the central planetary structure and satellite-forming disk has not been fully incorporated into existing models.\n",
      "In these examples of other rapidly rotating astrophysical objects, the structures share many similarities to the terrestrial synestias. They are continuous in density, monotonic in the angular velocity profile, and typically have extended or flared outer regions. However, unlike the terrestrial synestias, the angular velocity profiles for the outer regions of these other astrophysical bodies are not strictly Keplerian because of the imposed AM profile. In our impact-generated synestias, the AM profiles were not imposed. The distribution of mass and AM between the corotating region and disk-like region was determined by the impact conditions. As for the case of terrestrial bodies, if gas giant planets and stars form synestias during their formation and evolution, a full understanding of the evolution of the system may require direct consideration of the physical structure of the central object.\n",
      "7 Conclusions\n",
      "The physical structure of planetary bodies provides the essential framework needed to investigate planet formation and evolution. Assumptions about structure influence the inquiry of physical and chemical processes. The models for planetary structure that have been used to date have typically been simple, such as the constant-density bodies in N-body simulations of accretion. However, planetary structure can vary significantly during formation and evolution. In particular, during accretion terrestrial bodies can be forced into hot, rapidly rotating states by giant impacts, and there is a need for a better understanding of such structures.\n",
      "Calculating the structure of hot, rapidly rotating rocky bodies is particularly challenging because of the need to include substantial flattening and multiple phases in the equation of state. To overcome these difficulties, we have developed a flexible new code, HERCULES, that can calculate the physical structure of planetary bodies with varying thermal and rotational states. HERCULES solves for the axisymmetric shape and internal profile of a planet, given the mass, compositional layering, specific entropy profile, and AM.\n",
      "In this work, we investigated the structure of Earth-like bodies over a wide range of thermal and rotational states. We found that the size and shape of Earth-like bodies vary considerably over the expected range of internal energy and AM during accretion. We showed that there is a corotation limit for the structure of terrestrial bodies that depends on mass, compositional layering, thermal state, and AM. We have named super-CoRoL structures synestias. Synestias typically consist of an inner corotating region connected to an outer disk-like region. By analyzing the results of N-body simulations of planet formation, we found that high-entropy, highly vaporized post-impact states are common during terrestrial planet accretion. Given the estimated range of planetary AM during the giant impact stage, we find that many post-impact structures are likely to be synestias. Figure 7 presents an example calculation of a radiatively cooling synestia. In this example, the initial structure was generated by a collision between 0.572 and 0.468 MEarth bodies at 12.33 km s?1 with an impact parameter of 0.4. Unlike a canonical post-impact structure with a quasi-constant surface density in the disk-like region (Figure 3c), the surface density of the disk-like region of a typical synestia varies by orders of magnitude (Figures 3f and 7, bottom row). Hence, the distal regions cool much more rapidly than the interior regions. The synestia is strongly pressure supported and cooling of the outer regions reduces the pressure, and hence the pressure gradient force, causing the structure to contract over time. However, the pure-vapor region of the structure provides substantial pressure support to beyond the Roche limit for tens of years. In Figure 7, the boundary between the pure-vapor and vapor-dome regions is shown by the black line superimposed over the pressure contours. The two estimates for the satellite mass and the corresponding orbital radii are shown by a black circle (moon A) and blue diamond (moon B). In the top row of Figure 7, the size of moon A is to scale assuming a density of 3,000 kg m?3. Moon B is not shown to scale for clarity.Only answer based on this text. If you don't know, say you don't know.Question: When does a synestia turn back into a planet?\n",
      "AI:  A synestia is expected to cool to a state below its corotation limit (CoRoL) in approximately 102 to 103 years, after which it can begin to transition back into a planet. This process involves the removal of angular momentum from the structure by tides, interactions with the host star, or three body interactions with the host star and a moon. Once the angular momentum has been reduced to a level below the CoRoL, the structure will begin to contract, releasing kinetic and potential energy, as well as reducing its specific entropy. The whole process is expected to take around 103-109 years to complete.\n",
      "Human: Is Mars a synestia?\n",
      "AI: No, Mars is not a synestia. Synestias are post-impact states produced during the accretion of terrestrial planets. Mars has been in its current structure for around 4.5 billion years and has not experienced any kind of impact large enough to produce a synestia.\n",
      "Human: Can my cat turn into a synestia?\n",
      "AI:  No, animals and living beings cannot turn into synestias. Synestias are post-impact states produced during the accretion of terrestrial planets and are made up of rock and/or metal vapor.\n",
      "Human: Have we observed a synestia in an exoplanetary system?\n",
      "AI:\u001b[0m\n",
      "\n",
      "\u001b[1m> Finished chain.\u001b[0m\n"
     ]
    },
    {
     "data": {
      "text/plain": [
       "' Not to my knowledge. Synestias are post-impact states produced during the accretion of terrestrial planets, and usually last for tens to thousands of years before cooling to a state below the corotation limit. Currently, we do not have the capabilities to detect exoplanetary synestias, but it could be possible in the future.'"
      ]
     },
     "execution_count": 67,
     "metadata": {},
     "output_type": "execute_result"
    }
   ],
   "source": [
    "conversation2.predict(input=\"Have we observed a synestia in an exoplanetary system?\")\n"
   ]
  },
  {
   "cell_type": "code",
   "execution_count": null,
   "id": "8cb9a706-77ba-462c-b437-fdbf69410e4c",
   "metadata": {},
   "outputs": [],
   "source": []
  },
  {
   "cell_type": "markdown",
   "id": "f084cf93-1dc7-4997-b161-52a5ce498651",
   "metadata": {},
   "source": [
    "## Compare temperatures\n"
   ]
  },
  {
   "cell_type": "code",
   "execution_count": 68,
   "id": "dbb03cb2-ac5c-40be-8111-ce0a0c1c9d6d",
   "metadata": {},
   "outputs": [
    {
     "name": "stdout",
     "output_type": "stream",
     "text": [
      "\n",
      "\n",
      "\u001b[1m> Entering new ConversationChain chain...\u001b[0m\n",
      "Prompt after formatting:\n",
      "\u001b[32;1m\u001b[1;3mThe following is a friendly conversation between a human and an AI. The AI is talkative and provides lots of specific details from its context. If the AI does not know the answer to a question, it truthfully says it does not know.\n",
      "\n",
      "Current conversation:\n",
      "\n",
      "Human: I am a professor of planetary science. You are a very helpful question and answer assistant. I am going to give you text excerpt from science papers and ask you questions about the text.\n",
      "AI:\u001b[0m\n",
      "\n",
      "\u001b[1m> Finished chain.\u001b[0m\n"
     ]
    },
    {
     "data": {
      "text/plain": [
       "\" That sounds like a great idea! I'm looking forward to helping you out. What is the first text excerpt you would like me to analyze?\""
      ]
     },
     "execution_count": 68,
     "metadata": {},
     "output_type": "execute_result"
    }
   ],
   "source": [
    "query = \"When does a synestia turn back into a planet?\"\n",
    "llm = OpenAI(temperature=0.)\n",
    "conversation3 = ConversationChain(llm=llm, verbose=True)\n",
    "conversation3.predict(input=\"I am a professor of planetary science. \\\n",
    "You are a very helpful question and answer assistant. \\\n",
    "I am going to give you text excerpt from science papers and ask you questions about the text.\")"
   ]
  },
  {
   "cell_type": "code",
   "execution_count": 69,
   "id": "a68087df-eaf7-46f0-bf92-1a38e9a8c41d",
   "metadata": {},
   "outputs": [
    {
     "name": "stdout",
     "output_type": "stream",
     "text": [
      "\n",
      "\n",
      "\u001b[1m> Entering new ConversationChain chain...\u001b[0m\n",
      "Prompt after formatting:\n",
      "\u001b[32;1m\u001b[1;3mThe following is a friendly conversation between a human and an AI. The AI is talkative and provides lots of specific details from its context. If the AI does not know the answer to a question, it truthfully says it does not know.\n",
      "\n",
      "Current conversation:\n",
      "Human: I am a professor of planetary science. You are a very helpful question and answer assistant. I am going to give you text excerpt from science papers and ask you questions about the text.\n",
      "AI:  That sounds like a great idea! I'm looking forward to helping you out. What is the first text excerpt you would like me to analyze?\n",
      "Human: Here is the text:  Super-Earths are also expected to form via giant impacts in a manner similar to the accretion of our terrestrial planets [Chambers, 2010]. As noted in section 5, Kokubo and Genda [2010] found that 0.25 to 1.75 MEarth planets had a similar average angular velocity at the end of accretion. Accounting for the planetary structure assumptions made by Kokubo and Genda [2010], the average AM of rocky planets scales as ∼M5/3, where M is the planetary mass. If this result holds for systems that form more massive planets, the mean AM of hot super-Earths is expected to exceed the CoRoL, which scales with mass by a similar power law (Figure 8). Therefore, we expect that synestias also form during the accretion of super-Earths. Because some exoplanets are much closer to their star, the cooling time of synestias may be much longer than for planets in our solar system. The large population of exoplanets is used to test general planet formation theories. If the physical properties of hot rocky planets are an important factor during general planet formation, the large population of super-Earths may be the most promising target for detailed investigations.\n",
      "Giant Planets and Stars\n",
      "Angular momentum and disk formation are central topics in the formation of stars [e.g., Bodenheimer, 1995] and giant planets [e.g., Peale and Canup, 2015]. In most cases, disk evolution is studied without explicitly calculating the structure of the central object, as has been the case with the lunar disk. However, a few studies have calculated structures for stars and giant planets that are similar to the synestias found in this work. Here we discuss examples of such structures and compare them to terrestrial synestias.\n",
      "Ostriker and Bodenheimer [1968] calculated theoretical structures for massive white dwarfs. They found solutions for rapidly rotating structures with imposed AM profiles, including cases that resulted in a central quasi-corotating region and differentially rotating outer region. They argued that the structures, which exceed the corotation limit calculated by James [1964], are stable. The structures are morphologically similar to the synestias calculated here [e.g., Ostriker and Bodenheimer, 1968, Figure 4]. These differentially rotating structures are consistent with the inferred angular velocities of white dwarfs.\n",
      "Bodenheimer [1971] extended the previous work to massive main sequence stars. By systematically increasing the total AM, with different imposed AM profiles, he found that the equilibrium structures of the stars varied significantly. Again, solutions with differential rotation have morphological similarities to synestias (see his Figure 4). These structures are expected to be transient, while main sequence stars shed AM. Synestias formed by impacts are substantially vapor in their disk-like regions. Unless the body is very close to its parent star, the outer regions of the structure are expected to cool quickly by radiation. When the photosphere is controlled by silicate condensation, the radiative temperature is high [∼2300 K, Lock et al., 2016], but the energy that needs to be radiated to fall below the CoRoL is substantial. Condensing the vapor requires significant energy loss, both to cool to the phase boundary and to release the latent heat of vaporization of silicates. The contraction of the structure upon cooling also releases a comparable amount of potential energy. The amount of energy that needs to be radiated to fall below the CoRoL depends on how the internal energy is redistributed during cooling because the thermal structure affects the location of the CoRoL. We can estimate a lower limit on the timescale to cool below the CoRoL by considering just the potential energy difference between a post-impact structure and a corotating body of the same AM, with a thermal state slightly below the CoRoL. This approach neglects the loss of energy required to reduce the specific entropy of the outer layer of silicates (for a fixed AM) to below the CoRoL, which could be substantial. We assume a radiative temperature of ∼2300 K for silicate vapor. However, the surface area of the structure will change with time, and the difference in radiative surface area between the post-impact state and the sub-CoRoL structure is an order of magnitude. As a result, there is a substantial uncertainty in cooling time. Considering the full range of possible radiative surfaces, typical Earth-mass post-impact synestias would require a minimum time of order 101 to 103 years to cool to a state below the CoRoL.\n",
      "Alternatively, a synestia could be brought below the CoRoL by removing AM from the structure by tides, interactions with the host star [Murray and Dermott, 1999], or three body interactions with the host star and a moon [Goldreich, 1966; Touma and Wisdom, 1994; Ćuk and Stewart, 2012; Wisdom and Tian, 2015; Ćuk et al., 2016; Tian et al., 2017]. A significant reduction of AM by tides takes 103–109 years, depending on the mechanism, which is generally greater than the radiative cooling timescale. AM may also be redistributed by viscous spreading, but the whole structure would remain above the CoRoL (for a fixed thermal state). Thus, an impact-generated Earth-mass synestia would be stable for greater than tens to thousands of years.\n",
      "The timescale for a post-impact structure to cool to a fully condensed magma ocean is longer. To estimate the timescale, we calculate the difference in potential, kinetic, and internal energy between post-impact states and corotating, isentropic condensed planets of the same AM (first column in Figure 4). We again assume a radiative temperature of ∼2300 K and consider radiative surface areas ranging from the post-impact state to a fully condensed body. For highly extended post-impact states that are above the CoRoL, the cooling time to a magma ocean state is on the order of 102 to 103 years. For post-impact states produced by less energetic impacts that do not begin above the CoRoL, the timescale is shorter but still on the order of 102 to 103 years. Satellite accretion from the various post-impact structures described here can be fundamentally different than accretion from a canonical circumterrestrial disk. Post-impact synestias can have a much higher surface density in the disk-like region (e.g., Figure 9). Consequently, the cooling time of vapor beyond the Roche limit reaches timescales relevant for satellite formation. For example, Lock et al. [2016] estimate that substantial vapor pressure (greater than bars) can persist at the Roche limit for tens of years after the impact for the synestia example in Figures 9e–9h. Synestias do not have a shear boundary between the corotating region and disk-like region, and therefore, the whole structure can mix more easily than in the sub-CoRoL structures formed in canonical giant impacts. Condensates that decouple from the vapor in the lowest surface density regions beyond the Roche limit have angular momenta such that they orbit within the vapor structure. In some cases, the proto-Moon may form beyond the Roche limit and grow to near its final mass while remaining within the Earth-composition vapor of the synestia. Lock et al. [2016] proposed that accretion within an impact-generated synestia can explain the isotopic and chemical properties of our Moon. A future paper will investigate the evolution of synestias and the formation of our Moon.\n",
      "Planet Formation With Hot Rocky Bodies\n",
      "We have shown that partially vaporized post-impact bodies are common during accretion (section 5); however, the implications of the highly variable thermal and physical structures of such bodies on the formation of terrestrial planets have not been considered. Here we comment on a few key areas of planet formation affected by the possible range of planetary structures: accretion efficiency, core formation, and chemical evolution. Early studies of the formation of gas giant planets considered the contraction of a gas cloud. Bodenheimer [1977] found that it was possible to contract into a configuration with a central planet connected to a circumplanetary disk (e.g., his Figure 3). These structures, with different imposed AM profiles, are morphologically similar to the synestias generated here for terrestrial bodies. These early models of gas giant planet formation in isolation have been superseded by studies that include transfer of material from the protoplanetary disk (see review by Peale and Canup [2015]). In isolated contraction models, a so-called spin-out disk forms because the contracting body cannot absorb all of the original AM in the cloud. Ward and Canup [2010] proposed that although the early stages of the formation of circumplanetary disks around gas giants may include a spin-out stage, the system must transition to an accretion disk fed by the protoplanetary disk. The details of the formation of gas giants and their satellites are not settled, and the connection between the central planetary structure and satellite-forming disk has not been fully incorporated into existing models.\n",
      "In these examples of other rapidly rotating astrophysical objects, the structures share many similarities to the terrestrial synestias. They are continuous in density, monotonic in the angular velocity profile, and typically have extended or flared outer regions. However, unlike the terrestrial synestias, the angular velocity profiles for the outer regions of these other astrophysical bodies are not strictly Keplerian because of the imposed AM profile. In our impact-generated synestias, the AM profiles were not imposed. The distribution of mass and AM between the corotating region and disk-like region was determined by the impact conditions. As for the case of terrestrial bodies, if gas giant planets and stars form synestias during their formation and evolution, a full understanding of the evolution of the system may require direct consideration of the physical structure of the central object.\n",
      "7 Conclusions\n",
      "The physical structure of planetary bodies provides the essential framework needed to investigate planet formation and evolution. Assumptions about structure influence the inquiry of physical and chemical processes. The models for planetary structure that have been used to date have typically been simple, such as the constant-density bodies in N-body simulations of accretion. However, planetary structure can vary significantly during formation and evolution. In particular, during accretion terrestrial bodies can be forced into hot, rapidly rotating states by giant impacts, and there is a need for a better understanding of such structures.\n",
      "Calculating the structure of hot, rapidly rotating rocky bodies is particularly challenging because of the need to include substantial flattening and multiple phases in the equation of state. To overcome these difficulties, we have developed a flexible new code, HERCULES, that can calculate the physical structure of planetary bodies with varying thermal and rotational states. HERCULES solves for the axisymmetric shape and internal profile of a planet, given the mass, compositional layering, specific entropy profile, and AM.\n",
      "In this work, we investigated the structure of Earth-like bodies over a wide range of thermal and rotational states. We found that the size and shape of Earth-like bodies vary considerably over the expected range of internal energy and AM during accretion. We showed that there is a corotation limit for the structure of terrestrial bodies that depends on mass, compositional layering, thermal state, and AM. We have named super-CoRoL structures synestias. Synestias typically consist of an inner corotating region connected to an outer disk-like region. By analyzing the results of N-body simulations of planet formation, we found that high-entropy, highly vaporized post-impact states are common during terrestrial planet accretion. Given the estimated range of planetary AM during the giant impact stage, we find that many post-impact structures are likely to be synestias. Figure 7 presents an example calculation of a radiatively cooling synestia. In this example, the initial structure was generated by a collision between 0.572 and 0.468 MEarth bodies at 12.33 km s?1 with an impact parameter of 0.4. Unlike a canonical post-impact structure with a quasi-constant surface density in the disk-like region (Figure 3c), the surface density of the disk-like region of a typical synestia varies by orders of magnitude (Figures 3f and 7, bottom row). Hence, the distal regions cool much more rapidly than the interior regions. The synestia is strongly pressure supported and cooling of the outer regions reduces the pressure, and hence the pressure gradient force, causing the structure to contract over time. However, the pure-vapor region of the structure provides substantial pressure support to beyond the Roche limit for tens of years. In Figure 7, the boundary between the pure-vapor and vapor-dome regions is shown by the black line superimposed over the pressure contours. The two estimates for the satellite mass and the corresponding orbital radii are shown by a black circle (moon A) and blue diamond (moon B). In the top row of Figure 7, the size of moon A is to scale assuming a density of 3,000 kg m?3. Moon B is not shown to scale for clarity.Only answer based on this text. If you don't know, say you don't know.Question: When does a synestia turn back into a planet?\n",
      "AI:\u001b[0m\n",
      "\n",
      "\u001b[1m> Finished chain.\u001b[0m\n"
     ]
    },
    {
     "data": {
      "text/plain": [
       "' A synestia typically turns back into a planet when it has cooled to a state below the CoRoL (Corotation Limit). This process typically takes tens to thousands of years, depending on the radiative surface area of the structure and the amount of energy that needs to be radiated to fall below the CoRoL.'"
      ]
     },
     "execution_count": 69,
     "metadata": {},
     "output_type": "execute_result"
    }
   ],
   "source": [
    "conversation3.predict(input=\"Here is the text: \"+textforchatgpt+\\\n",
    "                      \"Only answer based on this text. If you don't know, say you don't know.\"+\\\n",
    "                      \"Question: \"+query)\n"
   ]
  },
  {
   "cell_type": "code",
   "execution_count": 71,
   "id": "b6d876ce-3a11-4a19-a5df-a1df991b1a28",
   "metadata": {},
   "outputs": [
    {
     "name": "stdout",
     "output_type": "stream",
     "text": [
      "\n",
      "\n",
      "\u001b[1m> Entering new ConversationChain chain...\u001b[0m\n",
      "Prompt after formatting:\n",
      "\u001b[32;1m\u001b[1;3mThe following is a friendly conversation between a human and an AI. The AI is talkative and provides lots of specific details from its context. If the AI does not know the answer to a question, it truthfully says it does not know.\n",
      "\n",
      "Current conversation:\n",
      "Human: I am a professor of planetary science. You are a very helpful question and answer assistant. I am going to give you text excerpt from science papers and ask you questions about the text.\n",
      "AI:  That sounds like a great idea! I'm looking forward to helping you out. What is the first text excerpt you would like me to analyze?\n",
      "Human: Here is the text:  Super-Earths are also expected to form via giant impacts in a manner similar to the accretion of our terrestrial planets [Chambers, 2010]. As noted in section 5, Kokubo and Genda [2010] found that 0.25 to 1.75 MEarth planets had a similar average angular velocity at the end of accretion. Accounting for the planetary structure assumptions made by Kokubo and Genda [2010], the average AM of rocky planets scales as ∼M5/3, where M is the planetary mass. If this result holds for systems that form more massive planets, the mean AM of hot super-Earths is expected to exceed the CoRoL, which scales with mass by a similar power law (Figure 8). Therefore, we expect that synestias also form during the accretion of super-Earths. Because some exoplanets are much closer to their star, the cooling time of synestias may be much longer than for planets in our solar system. The large population of exoplanets is used to test general planet formation theories. If the physical properties of hot rocky planets are an important factor during general planet formation, the large population of super-Earths may be the most promising target for detailed investigations.\n",
      "Giant Planets and Stars\n",
      "Angular momentum and disk formation are central topics in the formation of stars [e.g., Bodenheimer, 1995] and giant planets [e.g., Peale and Canup, 2015]. In most cases, disk evolution is studied without explicitly calculating the structure of the central object, as has been the case with the lunar disk. However, a few studies have calculated structures for stars and giant planets that are similar to the synestias found in this work. Here we discuss examples of such structures and compare them to terrestrial synestias.\n",
      "Ostriker and Bodenheimer [1968] calculated theoretical structures for massive white dwarfs. They found solutions for rapidly rotating structures with imposed AM profiles, including cases that resulted in a central quasi-corotating region and differentially rotating outer region. They argued that the structures, which exceed the corotation limit calculated by James [1964], are stable. The structures are morphologically similar to the synestias calculated here [e.g., Ostriker and Bodenheimer, 1968, Figure 4]. These differentially rotating structures are consistent with the inferred angular velocities of white dwarfs.\n",
      "Bodenheimer [1971] extended the previous work to massive main sequence stars. By systematically increasing the total AM, with different imposed AM profiles, he found that the equilibrium structures of the stars varied significantly. Again, solutions with differential rotation have morphological similarities to synestias (see his Figure 4). These structures are expected to be transient, while main sequence stars shed AM. Synestias formed by impacts are substantially vapor in their disk-like regions. Unless the body is very close to its parent star, the outer regions of the structure are expected to cool quickly by radiation. When the photosphere is controlled by silicate condensation, the radiative temperature is high [∼2300 K, Lock et al., 2016], but the energy that needs to be radiated to fall below the CoRoL is substantial. Condensing the vapor requires significant energy loss, both to cool to the phase boundary and to release the latent heat of vaporization of silicates. The contraction of the structure upon cooling also releases a comparable amount of potential energy. The amount of energy that needs to be radiated to fall below the CoRoL depends on how the internal energy is redistributed during cooling because the thermal structure affects the location of the CoRoL. We can estimate a lower limit on the timescale to cool below the CoRoL by considering just the potential energy difference between a post-impact structure and a corotating body of the same AM, with a thermal state slightly below the CoRoL. This approach neglects the loss of energy required to reduce the specific entropy of the outer layer of silicates (for a fixed AM) to below the CoRoL, which could be substantial. We assume a radiative temperature of ∼2300 K for silicate vapor. However, the surface area of the structure will change with time, and the difference in radiative surface area between the post-impact state and the sub-CoRoL structure is an order of magnitude. As a result, there is a substantial uncertainty in cooling time. Considering the full range of possible radiative surfaces, typical Earth-mass post-impact synestias would require a minimum time of order 101 to 103 years to cool to a state below the CoRoL.\n",
      "Alternatively, a synestia could be brought below the CoRoL by removing AM from the structure by tides, interactions with the host star [Murray and Dermott, 1999], or three body interactions with the host star and a moon [Goldreich, 1966; Touma and Wisdom, 1994; Ćuk and Stewart, 2012; Wisdom and Tian, 2015; Ćuk et al., 2016; Tian et al., 2017]. A significant reduction of AM by tides takes 103–109 years, depending on the mechanism, which is generally greater than the radiative cooling timescale. AM may also be redistributed by viscous spreading, but the whole structure would remain above the CoRoL (for a fixed thermal state). Thus, an impact-generated Earth-mass synestia would be stable for greater than tens to thousands of years.\n",
      "The timescale for a post-impact structure to cool to a fully condensed magma ocean is longer. To estimate the timescale, we calculate the difference in potential, kinetic, and internal energy between post-impact states and corotating, isentropic condensed planets of the same AM (first column in Figure 4). We again assume a radiative temperature of ∼2300 K and consider radiative surface areas ranging from the post-impact state to a fully condensed body. For highly extended post-impact states that are above the CoRoL, the cooling time to a magma ocean state is on the order of 102 to 103 years. For post-impact states produced by less energetic impacts that do not begin above the CoRoL, the timescale is shorter but still on the order of 102 to 103 years. Satellite accretion from the various post-impact structures described here can be fundamentally different than accretion from a canonical circumterrestrial disk. Post-impact synestias can have a much higher surface density in the disk-like region (e.g., Figure 9). Consequently, the cooling time of vapor beyond the Roche limit reaches timescales relevant for satellite formation. For example, Lock et al. [2016] estimate that substantial vapor pressure (greater than bars) can persist at the Roche limit for tens of years after the impact for the synestia example in Figures 9e–9h. Synestias do not have a shear boundary between the corotating region and disk-like region, and therefore, the whole structure can mix more easily than in the sub-CoRoL structures formed in canonical giant impacts. Condensates that decouple from the vapor in the lowest surface density regions beyond the Roche limit have angular momenta such that they orbit within the vapor structure. In some cases, the proto-Moon may form beyond the Roche limit and grow to near its final mass while remaining within the Earth-composition vapor of the synestia. Lock et al. [2016] proposed that accretion within an impact-generated synestia can explain the isotopic and chemical properties of our Moon. A future paper will investigate the evolution of synestias and the formation of our Moon.\n",
      "Planet Formation With Hot Rocky Bodies\n",
      "We have shown that partially vaporized post-impact bodies are common during accretion (section 5); however, the implications of the highly variable thermal and physical structures of such bodies on the formation of terrestrial planets have not been considered. Here we comment on a few key areas of planet formation affected by the possible range of planetary structures: accretion efficiency, core formation, and chemical evolution. Early studies of the formation of gas giant planets considered the contraction of a gas cloud. Bodenheimer [1977] found that it was possible to contract into a configuration with a central planet connected to a circumplanetary disk (e.g., his Figure 3). These structures, with different imposed AM profiles, are morphologically similar to the synestias generated here for terrestrial bodies. These early models of gas giant planet formation in isolation have been superseded by studies that include transfer of material from the protoplanetary disk (see review by Peale and Canup [2015]). In isolated contraction models, a so-called spin-out disk forms because the contracting body cannot absorb all of the original AM in the cloud. Ward and Canup [2010] proposed that although the early stages of the formation of circumplanetary disks around gas giants may include a spin-out stage, the system must transition to an accretion disk fed by the protoplanetary disk. The details of the formation of gas giants and their satellites are not settled, and the connection between the central planetary structure and satellite-forming disk has not been fully incorporated into existing models.\n",
      "In these examples of other rapidly rotating astrophysical objects, the structures share many similarities to the terrestrial synestias. They are continuous in density, monotonic in the angular velocity profile, and typically have extended or flared outer regions. However, unlike the terrestrial synestias, the angular velocity profiles for the outer regions of these other astrophysical bodies are not strictly Keplerian because of the imposed AM profile. In our impact-generated synestias, the AM profiles were not imposed. The distribution of mass and AM between the corotating region and disk-like region was determined by the impact conditions. As for the case of terrestrial bodies, if gas giant planets and stars form synestias during their formation and evolution, a full understanding of the evolution of the system may require direct consideration of the physical structure of the central object.\n",
      "7 Conclusions\n",
      "The physical structure of planetary bodies provides the essential framework needed to investigate planet formation and evolution. Assumptions about structure influence the inquiry of physical and chemical processes. The models for planetary structure that have been used to date have typically been simple, such as the constant-density bodies in N-body simulations of accretion. However, planetary structure can vary significantly during formation and evolution. In particular, during accretion terrestrial bodies can be forced into hot, rapidly rotating states by giant impacts, and there is a need for a better understanding of such structures.\n",
      "Calculating the structure of hot, rapidly rotating rocky bodies is particularly challenging because of the need to include substantial flattening and multiple phases in the equation of state. To overcome these difficulties, we have developed a flexible new code, HERCULES, that can calculate the physical structure of planetary bodies with varying thermal and rotational states. HERCULES solves for the axisymmetric shape and internal profile of a planet, given the mass, compositional layering, specific entropy profile, and AM.\n",
      "In this work, we investigated the structure of Earth-like bodies over a wide range of thermal and rotational states. We found that the size and shape of Earth-like bodies vary considerably over the expected range of internal energy and AM during accretion. We showed that there is a corotation limit for the structure of terrestrial bodies that depends on mass, compositional layering, thermal state, and AM. We have named super-CoRoL structures synestias. Synestias typically consist of an inner corotating region connected to an outer disk-like region. By analyzing the results of N-body simulations of planet formation, we found that high-entropy, highly vaporized post-impact states are common during terrestrial planet accretion. Given the estimated range of planetary AM during the giant impact stage, we find that many post-impact structures are likely to be synestias. Figure 7 presents an example calculation of a radiatively cooling synestia. In this example, the initial structure was generated by a collision between 0.572 and 0.468 MEarth bodies at 12.33 km s?1 with an impact parameter of 0.4. Unlike a canonical post-impact structure with a quasi-constant surface density in the disk-like region (Figure 3c), the surface density of the disk-like region of a typical synestia varies by orders of magnitude (Figures 3f and 7, bottom row). Hence, the distal regions cool much more rapidly than the interior regions. The synestia is strongly pressure supported and cooling of the outer regions reduces the pressure, and hence the pressure gradient force, causing the structure to contract over time. However, the pure-vapor region of the structure provides substantial pressure support to beyond the Roche limit for tens of years. In Figure 7, the boundary between the pure-vapor and vapor-dome regions is shown by the black line superimposed over the pressure contours. The two estimates for the satellite mass and the corresponding orbital radii are shown by a black circle (moon A) and blue diamond (moon B). In the top row of Figure 7, the size of moon A is to scale assuming a density of 3,000 kg m?3. Moon B is not shown to scale for clarity.Only answer based on this text. If you don't know, say you don't know.Question: When does a synestia turn back into a planet?\n",
      "AI:  A synestia typically turns back into a planet when it has cooled to a state below the CoRoL (Corotation Limit). This process typically takes tens to thousands of years, depending on the radiative surface area of the structure and the amount of energy that needs to be radiated to fall below the CoRoL.\n",
      "Human: Is Mars a synestia?\n",
      "AI:\u001b[0m\n",
      "\n",
      "\u001b[1m> Finished chain.\u001b[0m\n"
     ]
    },
    {
     "data": {
      "text/plain": [
       "' No, Mars is not a synestia. Synestias are post-impact structures that form during the accretion of terrestrial planets. Mars is a terrestrial planet that has already formed.'"
      ]
     },
     "execution_count": 71,
     "metadata": {},
     "output_type": "execute_result"
    }
   ],
   "source": [
    "conversation3.predict(input=\"Is Mars a synestia?\")\n"
   ]
  },
  {
   "cell_type": "code",
   "execution_count": 72,
   "id": "930fa4ff-0893-4765-8c6a-4b283de3dfda",
   "metadata": {},
   "outputs": [
    {
     "name": "stdout",
     "output_type": "stream",
     "text": [
      "\n",
      "\n",
      "\u001b[1m> Entering new ConversationChain chain...\u001b[0m\n",
      "Prompt after formatting:\n",
      "\u001b[32;1m\u001b[1;3mThe following is a friendly conversation between a human and an AI. The AI is talkative and provides lots of specific details from its context. If the AI does not know the answer to a question, it truthfully says it does not know.\n",
      "\n",
      "Current conversation:\n",
      "Human: I am a professor of planetary science. You are a very helpful question and answer assistant. I am going to give you text excerpt from science papers and ask you questions about the text.\n",
      "AI:  That sounds like a great idea! I'm looking forward to helping you out. What is the first text excerpt you would like me to analyze?\n",
      "Human: Here is the text:  Super-Earths are also expected to form via giant impacts in a manner similar to the accretion of our terrestrial planets [Chambers, 2010]. As noted in section 5, Kokubo and Genda [2010] found that 0.25 to 1.75 MEarth planets had a similar average angular velocity at the end of accretion. Accounting for the planetary structure assumptions made by Kokubo and Genda [2010], the average AM of rocky planets scales as ∼M5/3, where M is the planetary mass. If this result holds for systems that form more massive planets, the mean AM of hot super-Earths is expected to exceed the CoRoL, which scales with mass by a similar power law (Figure 8). Therefore, we expect that synestias also form during the accretion of super-Earths. Because some exoplanets are much closer to their star, the cooling time of synestias may be much longer than for planets in our solar system. The large population of exoplanets is used to test general planet formation theories. If the physical properties of hot rocky planets are an important factor during general planet formation, the large population of super-Earths may be the most promising target for detailed investigations.\n",
      "Giant Planets and Stars\n",
      "Angular momentum and disk formation are central topics in the formation of stars [e.g., Bodenheimer, 1995] and giant planets [e.g., Peale and Canup, 2015]. In most cases, disk evolution is studied without explicitly calculating the structure of the central object, as has been the case with the lunar disk. However, a few studies have calculated structures for stars and giant planets that are similar to the synestias found in this work. Here we discuss examples of such structures and compare them to terrestrial synestias.\n",
      "Ostriker and Bodenheimer [1968] calculated theoretical structures for massive white dwarfs. They found solutions for rapidly rotating structures with imposed AM profiles, including cases that resulted in a central quasi-corotating region and differentially rotating outer region. They argued that the structures, which exceed the corotation limit calculated by James [1964], are stable. The structures are morphologically similar to the synestias calculated here [e.g., Ostriker and Bodenheimer, 1968, Figure 4]. These differentially rotating structures are consistent with the inferred angular velocities of white dwarfs.\n",
      "Bodenheimer [1971] extended the previous work to massive main sequence stars. By systematically increasing the total AM, with different imposed AM profiles, he found that the equilibrium structures of the stars varied significantly. Again, solutions with differential rotation have morphological similarities to synestias (see his Figure 4). These structures are expected to be transient, while main sequence stars shed AM. Synestias formed by impacts are substantially vapor in their disk-like regions. Unless the body is very close to its parent star, the outer regions of the structure are expected to cool quickly by radiation. When the photosphere is controlled by silicate condensation, the radiative temperature is high [∼2300 K, Lock et al., 2016], but the energy that needs to be radiated to fall below the CoRoL is substantial. Condensing the vapor requires significant energy loss, both to cool to the phase boundary and to release the latent heat of vaporization of silicates. The contraction of the structure upon cooling also releases a comparable amount of potential energy. The amount of energy that needs to be radiated to fall below the CoRoL depends on how the internal energy is redistributed during cooling because the thermal structure affects the location of the CoRoL. We can estimate a lower limit on the timescale to cool below the CoRoL by considering just the potential energy difference between a post-impact structure and a corotating body of the same AM, with a thermal state slightly below the CoRoL. This approach neglects the loss of energy required to reduce the specific entropy of the outer layer of silicates (for a fixed AM) to below the CoRoL, which could be substantial. We assume a radiative temperature of ∼2300 K for silicate vapor. However, the surface area of the structure will change with time, and the difference in radiative surface area between the post-impact state and the sub-CoRoL structure is an order of magnitude. As a result, there is a substantial uncertainty in cooling time. Considering the full range of possible radiative surfaces, typical Earth-mass post-impact synestias would require a minimum time of order 101 to 103 years to cool to a state below the CoRoL.\n",
      "Alternatively, a synestia could be brought below the CoRoL by removing AM from the structure by tides, interactions with the host star [Murray and Dermott, 1999], or three body interactions with the host star and a moon [Goldreich, 1966; Touma and Wisdom, 1994; Ćuk and Stewart, 2012; Wisdom and Tian, 2015; Ćuk et al., 2016; Tian et al., 2017]. A significant reduction of AM by tides takes 103–109 years, depending on the mechanism, which is generally greater than the radiative cooling timescale. AM may also be redistributed by viscous spreading, but the whole structure would remain above the CoRoL (for a fixed thermal state). Thus, an impact-generated Earth-mass synestia would be stable for greater than tens to thousands of years.\n",
      "The timescale for a post-impact structure to cool to a fully condensed magma ocean is longer. To estimate the timescale, we calculate the difference in potential, kinetic, and internal energy between post-impact states and corotating, isentropic condensed planets of the same AM (first column in Figure 4). We again assume a radiative temperature of ∼2300 K and consider radiative surface areas ranging from the post-impact state to a fully condensed body. For highly extended post-impact states that are above the CoRoL, the cooling time to a magma ocean state is on the order of 102 to 103 years. For post-impact states produced by less energetic impacts that do not begin above the CoRoL, the timescale is shorter but still on the order of 102 to 103 years. Satellite accretion from the various post-impact structures described here can be fundamentally different than accretion from a canonical circumterrestrial disk. Post-impact synestias can have a much higher surface density in the disk-like region (e.g., Figure 9). Consequently, the cooling time of vapor beyond the Roche limit reaches timescales relevant for satellite formation. For example, Lock et al. [2016] estimate that substantial vapor pressure (greater than bars) can persist at the Roche limit for tens of years after the impact for the synestia example in Figures 9e–9h. Synestias do not have a shear boundary between the corotating region and disk-like region, and therefore, the whole structure can mix more easily than in the sub-CoRoL structures formed in canonical giant impacts. Condensates that decouple from the vapor in the lowest surface density regions beyond the Roche limit have angular momenta such that they orbit within the vapor structure. In some cases, the proto-Moon may form beyond the Roche limit and grow to near its final mass while remaining within the Earth-composition vapor of the synestia. Lock et al. [2016] proposed that accretion within an impact-generated synestia can explain the isotopic and chemical properties of our Moon. A future paper will investigate the evolution of synestias and the formation of our Moon.\n",
      "Planet Formation With Hot Rocky Bodies\n",
      "We have shown that partially vaporized post-impact bodies are common during accretion (section 5); however, the implications of the highly variable thermal and physical structures of such bodies on the formation of terrestrial planets have not been considered. Here we comment on a few key areas of planet formation affected by the possible range of planetary structures: accretion efficiency, core formation, and chemical evolution. Early studies of the formation of gas giant planets considered the contraction of a gas cloud. Bodenheimer [1977] found that it was possible to contract into a configuration with a central planet connected to a circumplanetary disk (e.g., his Figure 3). These structures, with different imposed AM profiles, are morphologically similar to the synestias generated here for terrestrial bodies. These early models of gas giant planet formation in isolation have been superseded by studies that include transfer of material from the protoplanetary disk (see review by Peale and Canup [2015]). In isolated contraction models, a so-called spin-out disk forms because the contracting body cannot absorb all of the original AM in the cloud. Ward and Canup [2010] proposed that although the early stages of the formation of circumplanetary disks around gas giants may include a spin-out stage, the system must transition to an accretion disk fed by the protoplanetary disk. The details of the formation of gas giants and their satellites are not settled, and the connection between the central planetary structure and satellite-forming disk has not been fully incorporated into existing models.\n",
      "In these examples of other rapidly rotating astrophysical objects, the structures share many similarities to the terrestrial synestias. They are continuous in density, monotonic in the angular velocity profile, and typically have extended or flared outer regions. However, unlike the terrestrial synestias, the angular velocity profiles for the outer regions of these other astrophysical bodies are not strictly Keplerian because of the imposed AM profile. In our impact-generated synestias, the AM profiles were not imposed. The distribution of mass and AM between the corotating region and disk-like region was determined by the impact conditions. As for the case of terrestrial bodies, if gas giant planets and stars form synestias during their formation and evolution, a full understanding of the evolution of the system may require direct consideration of the physical structure of the central object.\n",
      "7 Conclusions\n",
      "The physical structure of planetary bodies provides the essential framework needed to investigate planet formation and evolution. Assumptions about structure influence the inquiry of physical and chemical processes. The models for planetary structure that have been used to date have typically been simple, such as the constant-density bodies in N-body simulations of accretion. However, planetary structure can vary significantly during formation and evolution. In particular, during accretion terrestrial bodies can be forced into hot, rapidly rotating states by giant impacts, and there is a need for a better understanding of such structures.\n",
      "Calculating the structure of hot, rapidly rotating rocky bodies is particularly challenging because of the need to include substantial flattening and multiple phases in the equation of state. To overcome these difficulties, we have developed a flexible new code, HERCULES, that can calculate the physical structure of planetary bodies with varying thermal and rotational states. HERCULES solves for the axisymmetric shape and internal profile of a planet, given the mass, compositional layering, specific entropy profile, and AM.\n",
      "In this work, we investigated the structure of Earth-like bodies over a wide range of thermal and rotational states. We found that the size and shape of Earth-like bodies vary considerably over the expected range of internal energy and AM during accretion. We showed that there is a corotation limit for the structure of terrestrial bodies that depends on mass, compositional layering, thermal state, and AM. We have named super-CoRoL structures synestias. Synestias typically consist of an inner corotating region connected to an outer disk-like region. By analyzing the results of N-body simulations of planet formation, we found that high-entropy, highly vaporized post-impact states are common during terrestrial planet accretion. Given the estimated range of planetary AM during the giant impact stage, we find that many post-impact structures are likely to be synestias. Figure 7 presents an example calculation of a radiatively cooling synestia. In this example, the initial structure was generated by a collision between 0.572 and 0.468 MEarth bodies at 12.33 km s?1 with an impact parameter of 0.4. Unlike a canonical post-impact structure with a quasi-constant surface density in the disk-like region (Figure 3c), the surface density of the disk-like region of a typical synestia varies by orders of magnitude (Figures 3f and 7, bottom row). Hence, the distal regions cool much more rapidly than the interior regions. The synestia is strongly pressure supported and cooling of the outer regions reduces the pressure, and hence the pressure gradient force, causing the structure to contract over time. However, the pure-vapor region of the structure provides substantial pressure support to beyond the Roche limit for tens of years. In Figure 7, the boundary between the pure-vapor and vapor-dome regions is shown by the black line superimposed over the pressure contours. The two estimates for the satellite mass and the corresponding orbital radii are shown by a black circle (moon A) and blue diamond (moon B). In the top row of Figure 7, the size of moon A is to scale assuming a density of 3,000 kg m?3. Moon B is not shown to scale for clarity.Only answer based on this text. If you don't know, say you don't know.Question: When does a synestia turn back into a planet?\n",
      "AI:  A synestia typically turns back into a planet when it has cooled to a state below the CoRoL (Corotation Limit). This process typically takes tens to thousands of years, depending on the radiative surface area of the structure and the amount of energy that needs to be radiated to fall below the CoRoL.\n",
      "Human: Is Mars a synestia?\n",
      "AI:  No, Mars is not a synestia. Synestias are post-impact structures that form during the accretion of terrestrial planets. Mars is a terrestrial planet that has already formed.\n",
      "Human: Are planets sad?\n",
      "AI:\u001b[0m\n",
      "\n",
      "\u001b[1m> Finished chain.\u001b[0m\n"
     ]
    },
    {
     "data": {
      "text/plain": [
       "\" I don't know.\""
      ]
     },
     "execution_count": 72,
     "metadata": {},
     "output_type": "execute_result"
    }
   ],
   "source": [
    "conversation3.predict(input=\"Are planets sad?\")\n"
   ]
  },
  {
   "cell_type": "code",
   "execution_count": null,
   "id": "6fb7b738-0222-44b4-9e64-c6c77670435c",
   "metadata": {},
   "outputs": [],
   "source": []
  }
 ],
 "metadata": {
  "kernelspec": {
   "display_name": "Python 3 (ipykernel)",
   "language": "python",
   "name": "python3"
  },
  "language_info": {
   "codemirror_mode": {
    "name": "ipython",
    "version": 3
   },
   "file_extension": ".py",
   "mimetype": "text/x-python",
   "name": "python",
   "nbconvert_exporter": "python",
   "pygments_lexer": "ipython3",
   "version": "3.9.16"
  }
 },
 "nbformat": 4,
 "nbformat_minor": 5
}
